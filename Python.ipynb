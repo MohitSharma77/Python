{
 "cells": [
  {
   "cell_type": "markdown",
   "id": "831e834a",
   "metadata": {},
   "source": [
    "# PYTHON"
   ]
  },
  {
   "cell_type": "markdown",
   "id": "59d47080",
   "metadata": {},
   "source": [
    "# Day 1 Python"
   ]
  },
  {
   "cell_type": "code",
   "execution_count": 32,
   "id": "502b19e9",
   "metadata": {},
   "outputs": [
    {
     "data": {
      "text/plain": [
       "13"
      ]
     },
     "execution_count": 32,
     "metadata": {},
     "output_type": "execute_result"
    }
   ],
   "source": [
    "5+8"
   ]
  },
  {
   "cell_type": "code",
   "execution_count": 33,
   "id": "081a7803",
   "metadata": {},
   "outputs": [
    {
     "data": {
      "text/plain": [
       "16"
      ]
     },
     "execution_count": 33,
     "metadata": {},
     "output_type": "execute_result"
    }
   ],
   "source": [
    "8*2"
   ]
  },
  {
   "cell_type": "code",
   "execution_count": 34,
   "id": "bb3ccb20",
   "metadata": {},
   "outputs": [
    {
     "data": {
      "text/plain": [
       "8"
      ]
     },
     "execution_count": 34,
     "metadata": {},
     "output_type": "execute_result"
    }
   ],
   "source": [
    "13-5"
   ]
  },
  {
   "cell_type": "code",
   "execution_count": 35,
   "id": "36c9b2ce",
   "metadata": {},
   "outputs": [
    {
     "data": {
      "text/plain": [
       "7"
      ]
     },
     "execution_count": 35,
     "metadata": {},
     "output_type": "execute_result"
    }
   ],
   "source": [
    "abs(-7)"
   ]
  },
  {
   "cell_type": "code",
   "execution_count": 36,
   "id": "3bd73920",
   "metadata": {},
   "outputs": [],
   "source": [
    "import math"
   ]
  },
  {
   "cell_type": "code",
   "execution_count": 37,
   "id": "7a69155f",
   "metadata": {},
   "outputs": [
    {
     "data": {
      "text/plain": [
       "8.0"
      ]
     },
     "execution_count": 37,
     "metadata": {},
     "output_type": "execute_result"
    }
   ],
   "source": [
    "math.sqrt(64)"
   ]
  },
  {
   "cell_type": "code",
   "execution_count": 38,
   "id": "7b41b630",
   "metadata": {},
   "outputs": [
    {
     "data": {
      "text/plain": [
       "45"
      ]
     },
     "execution_count": 38,
     "metadata": {},
     "output_type": "execute_result"
    }
   ],
   "source": [
    "(15+15) + 15"
   ]
  },
  {
   "cell_type": "code",
   "execution_count": 39,
   "id": "03c37af0",
   "metadata": {},
   "outputs": [
    {
     "data": {
      "text/plain": [
       "5.0"
      ]
     },
     "execution_count": 39,
     "metadata": {},
     "output_type": "execute_result"
    }
   ],
   "source": [
    "15/3"
   ]
  },
  {
   "cell_type": "code",
   "execution_count": null,
   "id": "dedbd63d",
   "metadata": {},
   "outputs": [],
   "source": [
    "a=5"
   ]
  },
  {
   "cell_type": "code",
   "execution_count": null,
   "id": "36297922",
   "metadata": {},
   "outputs": [],
   "source": [
    "a"
   ]
  },
  {
   "cell_type": "code",
   "execution_count": null,
   "id": "dd19d0a0",
   "metadata": {},
   "outputs": [],
   "source": [
    "print(\"Python Programming\")"
   ]
  },
  {
   "cell_type": "code",
   "execution_count": null,
   "id": "4b9d29bd",
   "metadata": {},
   "outputs": [],
   "source": [
    "type(a)"
   ]
  },
  {
   "cell_type": "code",
   "execution_count": null,
   "id": "58dac3d5",
   "metadata": {},
   "outputs": [],
   "source": [
    "b=5.6"
   ]
  },
  {
   "cell_type": "code",
   "execution_count": null,
   "id": "17bff928",
   "metadata": {},
   "outputs": [],
   "source": [
    "type(b)"
   ]
  },
  {
   "cell_type": "code",
   "execution_count": null,
   "id": "f757170e",
   "metadata": {},
   "outputs": [],
   "source": [
    "name = \"Mohit Sharma\""
   ]
  },
  {
   "cell_type": "code",
   "execution_count": null,
   "id": "a289e7e8",
   "metadata": {},
   "outputs": [],
   "source": [
    "name"
   ]
  },
  {
   "cell_type": "code",
   "execution_count": null,
   "id": "735d0d36",
   "metadata": {},
   "outputs": [],
   "source": [
    "type(name)"
   ]
  },
  {
   "cell_type": "code",
   "execution_count": null,
   "id": "1b2aa8b9",
   "metadata": {},
   "outputs": [],
   "source": [
    "num = 4"
   ]
  },
  {
   "cell_type": "code",
   "execution_count": null,
   "id": "8ec1e28e",
   "metadata": {},
   "outputs": [],
   "source": [
    "num"
   ]
  },
  {
   "cell_type": "code",
   "execution_count": null,
   "id": "a2ac5f5f",
   "metadata": {},
   "outputs": [],
   "source": [
    "type(num)"
   ]
  },
  {
   "cell_type": "code",
   "execution_count": null,
   "id": "868ad0cc",
   "metadata": {},
   "outputs": [],
   "source": [
    "num1 = \"python\""
   ]
  },
  {
   "cell_type": "code",
   "execution_count": null,
   "id": "7248c397",
   "metadata": {},
   "outputs": [],
   "source": [
    "num1"
   ]
  },
  {
   "cell_type": "code",
   "execution_count": null,
   "id": "d08a432a",
   "metadata": {},
   "outputs": [],
   "source": [
    "type(num1)"
   ]
  },
  {
   "cell_type": "code",
   "execution_count": null,
   "id": "6c2e51cd",
   "metadata": {},
   "outputs": [],
   "source": [
    "a=\"Python\""
   ]
  },
  {
   "cell_type": "code",
   "execution_count": null,
   "id": "a4417df8",
   "metadata": {},
   "outputs": [],
   "source": [
    "b = \"Programming\""
   ]
  },
  {
   "cell_type": "code",
   "execution_count": null,
   "id": "e85aa7e0",
   "metadata": {},
   "outputs": [],
   "source": [
    "a+b"
   ]
  },
  {
   "cell_type": "code",
   "execution_count": null,
   "id": "fb57d24c",
   "metadata": {},
   "outputs": [],
   "source": [
    "a=2"
   ]
  },
  {
   "cell_type": "code",
   "execution_count": null,
   "id": "b411d5eb",
   "metadata": {},
   "outputs": [],
   "source": [
    "b=4"
   ]
  },
  {
   "cell_type": "code",
   "execution_count": null,
   "id": "80f74c2e",
   "metadata": {},
   "outputs": [],
   "source": [
    "a = 4"
   ]
  },
  {
   "cell_type": "code",
   "execution_count": null,
   "id": "2e35e3da",
   "metadata": {},
   "outputs": [],
   "source": [
    "a = True"
   ]
  },
  {
   "cell_type": "code",
   "execution_count": null,
   "id": "05055694",
   "metadata": {},
   "outputs": [],
   "source": [
    "type(a)"
   ]
  },
  {
   "cell_type": "code",
   "execution_count": null,
   "id": "2f994e99",
   "metadata": {},
   "outputs": [],
   "source": [
    "x=10"
   ]
  },
  {
   "cell_type": "code",
   "execution_count": null,
   "id": "1734dbd7",
   "metadata": {},
   "outputs": [],
   "source": [
    "x=20"
   ]
  },
  {
   "cell_type": "code",
   "execution_count": null,
   "id": "15858589",
   "metadata": {},
   "outputs": [],
   "source": [
    "x=15"
   ]
  },
  {
   "cell_type": "code",
   "execution_count": null,
   "id": "2eba6c9f",
   "metadata": {},
   "outputs": [],
   "source": [
    "x"
   ]
  },
  {
   "cell_type": "code",
   "execution_count": null,
   "id": "b3c626e6",
   "metadata": {},
   "outputs": [],
   "source": [
    "type(x)"
   ]
  },
  {
   "cell_type": "code",
   "execution_count": null,
   "id": "2a31fe03",
   "metadata": {},
   "outputs": [],
   "source": [
    "y = 15"
   ]
  },
  {
   "cell_type": "code",
   "execution_count": null,
   "id": "75d54e21",
   "metadata": {},
   "outputs": [],
   "source": [
    "z = x/y"
   ]
  },
  {
   "cell_type": "code",
   "execution_count": null,
   "id": "7f2f57c0",
   "metadata": {},
   "outputs": [],
   "source": [
    "z"
   ]
  },
  {
   "cell_type": "code",
   "execution_count": null,
   "id": "e99a82d2",
   "metadata": {},
   "outputs": [],
   "source": [
    "type(z)"
   ]
  },
  {
   "cell_type": "code",
   "execution_count": null,
   "id": "ae5544f9",
   "metadata": {},
   "outputs": [],
   "source": [
    "print(z)"
   ]
  },
  {
   "cell_type": "code",
   "execution_count": null,
   "id": "4e6db0ae",
   "metadata": {},
   "outputs": [],
   "source": [
    "print(x)"
   ]
  },
  {
   "cell_type": "code",
   "execution_count": null,
   "id": "80165d69",
   "metadata": {},
   "outputs": [],
   "source": [
    "a=4"
   ]
  },
  {
   "cell_type": "code",
   "execution_count": null,
   "id": "027e35db",
   "metadata": {},
   "outputs": [],
   "source": [
    "b=6"
   ]
  },
  {
   "cell_type": "code",
   "execution_count": null,
   "id": "f2555aaf",
   "metadata": {},
   "outputs": [],
   "source": [
    "Area = a*b"
   ]
  },
  {
   "cell_type": "code",
   "execution_count": null,
   "id": "e2a1a18b",
   "metadata": {},
   "outputs": [],
   "source": [
    "Area"
   ]
  },
  {
   "cell_type": "code",
   "execution_count": null,
   "id": "944c3d47",
   "metadata": {},
   "outputs": [],
   "source": [
    "print(Area)"
   ]
  },
  {
   "cell_type": "code",
   "execution_count": null,
   "id": "ffdc72f9",
   "metadata": {},
   "outputs": [],
   "source": [
    "Perimeter = 2*(a+b)"
   ]
  },
  {
   "cell_type": "code",
   "execution_count": null,
   "id": "854aca1c",
   "metadata": {},
   "outputs": [],
   "source": [
    "Perimeter"
   ]
  },
  {
   "cell_type": "code",
   "execution_count": null,
   "id": "17e92d61",
   "metadata": {},
   "outputs": [],
   "source": [
    "print(Perimeter)"
   ]
  },
  {
   "cell_type": "code",
   "execution_count": null,
   "id": "59c3cd18",
   "metadata": {},
   "outputs": [],
   "source": [
    "x = 25"
   ]
  },
  {
   "cell_type": "code",
   "execution_count": null,
   "id": "92988589",
   "metadata": {},
   "outputs": [],
   "source": [
    "y = 20"
   ]
  },
  {
   "cell_type": "code",
   "execution_count": null,
   "id": "19506c27",
   "metadata": {},
   "outputs": [],
   "source": [
    "z = 3"
   ]
  },
  {
   "cell_type": "code",
   "execution_count": null,
   "id": "a75d272f",
   "metadata": {},
   "outputs": [],
   "source": [
    "f = 2"
   ]
  },
  {
   "cell_type": "code",
   "execution_count": null,
   "id": "cdd59856",
   "metadata": {},
   "outputs": [],
   "source": [
    "ans  = (x-y)*z/f"
   ]
  },
  {
   "cell_type": "code",
   "execution_count": null,
   "id": "675c57df",
   "metadata": {},
   "outputs": [],
   "source": [
    "ans"
   ]
  },
  {
   "cell_type": "code",
   "execution_count": null,
   "id": "15604edf",
   "metadata": {},
   "outputs": [],
   "source": [
    "e = ((x-y) * z) / f"
   ]
  },
  {
   "cell_type": "code",
   "execution_count": null,
   "id": "9ebef334",
   "metadata": {},
   "outputs": [],
   "source": [
    "e"
   ]
  },
  {
   "cell_type": "code",
   "execution_count": null,
   "id": "dfd74acd",
   "metadata": {},
   "outputs": [],
   "source": [
    "z = (x-y)*(z/f);"
   ]
  },
  {
   "cell_type": "code",
   "execution_count": null,
   "id": "90d72d79",
   "metadata": {
    "scrolled": true
   },
   "outputs": [],
   "source": [
    "z"
   ]
  },
  {
   "cell_type": "code",
   "execution_count": null,
   "id": "d440a869",
   "metadata": {},
   "outputs": [],
   "source": [
    "a = 20\n",
    "b = a%2"
   ]
  },
  {
   "cell_type": "code",
   "execution_count": null,
   "id": "609517df",
   "metadata": {},
   "outputs": [],
   "source": [
    "b"
   ]
  },
  {
   "cell_type": "code",
   "execution_count": null,
   "id": "4f57c9bb",
   "metadata": {},
   "outputs": [],
   "source": [
    "print(\"The Number Is :\",b)"
   ]
  },
  {
   "cell_type": "code",
   "execution_count": null,
   "id": "13e653fa",
   "metadata": {},
   "outputs": [],
   "source": [
    "x =12"
   ]
  },
  {
   "cell_type": "code",
   "execution_count": null,
   "id": "38cbaa5c",
   "metadata": {},
   "outputs": [],
   "source": [
    "#Write A Code That Takes a Number Square it amd the result and get its squareroot.\n",
    "#Write a Code That Takes a domensions of a cude and obtain its area and volume.\n",
    "#Write A code That Takes A Number and Increments It Three Times.\n",
    "#Write A cOde THat Perfrom A Mathematical Operaction. z = | x-y|*(x+y).\n",
    "#Write A Code That Takes Celcuis Temperature And Convert It To Faranite. Formula - F = 9/5*c+32\n"
   ]
  },
  {
   "cell_type": "code",
   "execution_count": 40,
   "id": "311bdf07",
   "metadata": {},
   "outputs": [],
   "source": [
    "#Write A Code That Takes Celcuis Temperature And Convert It To Faranite. Formula - F = 9/5*c+32\n",
    "c = 23\n",
    "F = 9/5*23+32"
   ]
  },
  {
   "cell_type": "code",
   "execution_count": 41,
   "id": "ce861931",
   "metadata": {},
   "outputs": [
    {
     "data": {
      "text/plain": [
       "73.4"
      ]
     },
     "execution_count": 41,
     "metadata": {},
     "output_type": "execute_result"
    }
   ],
   "source": [
    "F"
   ]
  },
  {
   "cell_type": "code",
   "execution_count": null,
   "id": "92bcb689",
   "metadata": {},
   "outputs": [],
   "source": [
    "type(F)"
   ]
  },
  {
   "cell_type": "code",
   "execution_count": 42,
   "id": "381a2885",
   "metadata": {},
   "outputs": [
    {
     "data": {
      "text/plain": [
       "2.0"
      ]
     },
     "execution_count": 42,
     "metadata": {},
     "output_type": "execute_result"
    }
   ],
   "source": [
    "#Write A Code That Takes a Number Square it amd the result and get its squareroot.\n",
    "import math\n",
    "a = 4\n",
    "math.sqrt(a)"
   ]
  },
  {
   "cell_type": "code",
   "execution_count": 43,
   "id": "1bb844ec",
   "metadata": {},
   "outputs": [],
   "source": [
    "#Write a Code That Takes a domensions of a cude and obtain its area and volume.\n",
    "a = 12\n",
    "b = 14\n",
    "area = a * b\n",
    "volume = 2*(a+b)"
   ]
  },
  {
   "cell_type": "code",
   "execution_count": null,
   "id": "6248207f",
   "metadata": {},
   "outputs": [],
   "source": [
    "area"
   ]
  },
  {
   "cell_type": "code",
   "execution_count": null,
   "id": "dbe565e3",
   "metadata": {},
   "outputs": [],
   "source": [
    "volume"
   ]
  },
  {
   "cell_type": "code",
   "execution_count": null,
   "id": "4fd9a884",
   "metadata": {},
   "outputs": [],
   "source": [
    "#Write a Code That Takes a domensions of a cude and obtain its area and volume.\n",
    "x = 77\n",
    "x = x + 3\n",
    "print(x)"
   ]
  },
  {
   "cell_type": "code",
   "execution_count": null,
   "id": "a0762523",
   "metadata": {},
   "outputs": [],
   "source": [
    "#Write A cOde THat Perfrom A Mathematical Operaction. z = | x-y|*(x+y).\n",
    "x = 7\n",
    "y = 8\n",
    "z = abs(x-y)*(x+y)\n",
    "print(z)"
   ]
  },
  {
   "cell_type": "code",
   "execution_count": 44,
   "id": "eec638d6",
   "metadata": {},
   "outputs": [
    {
     "name": "stdout",
     "output_type": "stream",
     "text": [
      "Enter The Value Of x7\n",
      "Enter The Value Of y7\n",
      "0\n"
     ]
    }
   ],
   "source": [
    "x = int(input(\"Enter The Value Of x\"))\n",
    "y = int(input(\"Enter The Value Of y\"))\n",
    "z = abs(x-y)*(x+y)\n",
    "print(z)"
   ]
  },
  {
   "cell_type": "markdown",
   "id": "ed579698",
   "metadata": {},
   "source": [
    "# Day 2 Python"
   ]
  },
  {
   "cell_type": "code",
   "execution_count": null,
   "id": "a4de691a",
   "metadata": {},
   "outputs": [],
   "source": [
    "x = \"Welcome To Python Programming\""
   ]
  },
  {
   "cell_type": "code",
   "execution_count": null,
   "id": "2c507353",
   "metadata": {},
   "outputs": [],
   "source": [
    "print(x)"
   ]
  },
  {
   "cell_type": "code",
   "execution_count": null,
   "id": "efe5af7b",
   "metadata": {},
   "outputs": [],
   "source": [
    "x"
   ]
  },
  {
   "cell_type": "code",
   "execution_count": null,
   "id": "a84b3899",
   "metadata": {},
   "outputs": [],
   "source": [
    "name = \"Mohit\""
   ]
  },
  {
   "cell_type": "code",
   "execution_count": null,
   "id": "f0547a8d",
   "metadata": {},
   "outputs": [],
   "source": [
    "a = \"Hello My Name Is _ \""
   ]
  },
  {
   "cell_type": "code",
   "execution_count": null,
   "id": "6f4be899",
   "metadata": {},
   "outputs": [],
   "source": [
    "a[6:13]"
   ]
  },
  {
   "cell_type": "code",
   "execution_count": null,
   "id": "c7072153",
   "metadata": {},
   "outputs": [],
   "source": [
    "print(a)"
   ]
  },
  {
   "cell_type": "code",
   "execution_count": null,
   "id": "c64a577c",
   "metadata": {},
   "outputs": [],
   "source": [
    "Name = \"Mohit\""
   ]
  },
  {
   "cell_type": "code",
   "execution_count": null,
   "id": "0d83c837",
   "metadata": {},
   "outputs": [],
   "source": [
    "Age = \"21\""
   ]
  },
  {
   "cell_type": "code",
   "execution_count": null,
   "id": "cd31a422",
   "metadata": {},
   "outputs": [],
   "source": [
    "print(\" Welcome {} In This Jupiter Notebook\".format(Name))"
   ]
  },
  {
   "cell_type": "code",
   "execution_count": null,
   "id": "f61ab074",
   "metadata": {},
   "outputs": [],
   "source": [
    "print(\" Im {} & My Age is {} In This Python Programming Course\".format(Name,Age))"
   ]
  },
  {
   "cell_type": "code",
   "execution_count": null,
   "id": "e087a52a",
   "metadata": {},
   "outputs": [],
   "source": [
    "Degree  = \"Bsc IT\""
   ]
  },
  {
   "cell_type": "code",
   "execution_count": null,
   "id": "1827e27c",
   "metadata": {},
   "outputs": [],
   "source": [
    "print(\" Im {} & My Age is {} I have Completed {} And I Am New In THis In This Python Programming Course\".format(Name,Age,Degree))"
   ]
  },
  {
   "cell_type": "code",
   "execution_count": null,
   "id": "17980db1",
   "metadata": {},
   "outputs": [],
   "source": [
    "Area = \"a*b\""
   ]
  },
  {
   "cell_type": "code",
   "execution_count": null,
   "id": "4c44dd5d",
   "metadata": {},
   "outputs": [],
   "source": [
    "print(\"The Formula Of Area Is :\".format(Area))"
   ]
  },
  {
   "cell_type": "code",
   "execution_count": null,
   "id": "0f4cb2f8",
   "metadata": {},
   "outputs": [],
   "source": [
    "a = input(\"Name\")\n",
    "a = input(\"Age\")\n",
    "a = input(\"City\")\n",
    "a = input(\"Address\")\n",
    "a = input()"
   ]
  },
  {
   "cell_type": "code",
   "execution_count": null,
   "id": "21683463",
   "metadata": {},
   "outputs": [],
   "source": [
    "Name = (\"Enter Your Name : \")\n",
    "print('Hello',Name)"
   ]
  },
  {
   "cell_type": "code",
   "execution_count": null,
   "id": "b569624d",
   "metadata": {},
   "outputs": [],
   "source": [
    "Name = input(\"Enter Your Name :\")\n",
    "Age = input(\"Enter Your Age : \")\n",
    "School = input(\"Enter Yoyr School Name :\")\n",
    "City = input(\"Your City :\")\n",
    "print(\" My Name Is {} And {} & My School Is {} And I lIVE iN tHE cITY {}\".format(Name,Age,School,City))"
   ]
  },
  {
   "cell_type": "code",
   "execution_count": null,
   "id": "7da0476d",
   "metadata": {},
   "outputs": [],
   "source": [
    "a = int(input(\"Enter An Integer :\"))\n",
    "b = int(a)\n",
    "c = int(input(\"Enter An Integer :\"))\n",
    "d = int(c)\n",
    "print(\" The Sum Of {} & {} is {}\".format(a,b,a+b))"
   ]
  },
  {
   "cell_type": "code",
   "execution_count": null,
   "id": "c75fa15a",
   "metadata": {},
   "outputs": [],
   "source": [
    "a = int(input(\"Enter An Integer :\"))\n",
    "b = int(input(\"Enter An Integer :\"))\n",
    "print(\" The Sum Of {} & {} is {} \".format(a,b,a+b))"
   ]
  },
  {
   "cell_type": "code",
   "execution_count": null,
   "id": "b11e5f59",
   "metadata": {},
   "outputs": [],
   "source": [
    "km =int(input(\"Enter Speed in kmph\"))\n",
    "mph = round(0.6214 * km ,2)\n",
    "print(\"The Speed Of km is {} And mph is {}\".format(km,mph))"
   ]
  },
  {
   "cell_type": "code",
   "execution_count": null,
   "id": "63eb3c5e",
   "metadata": {},
   "outputs": [],
   "source": [
    "import calendar\n",
    "theyear = 2023\n",
    "themonth = 10\n",
    "calendar.month(theyear,themonth)\n"
   ]
  },
  {
   "cell_type": "code",
   "execution_count": null,
   "id": "e63cb41b",
   "metadata": {},
   "outputs": [],
   "source": [
    "a = int(input(\"Enter The Value Of A\"))\n",
    "b = int(input(\"Enter The Value Of B\"))\n",
    "print(\"The Sum Of a&b is {} And mul a*b Is {}\".format(a+b,a*b))"
   ]
  },
  {
   "cell_type": "code",
   "execution_count": null,
   "id": "8d9af2f4",
   "metadata": {},
   "outputs": [],
   "source": [
    "#Write A code That Takes Temperature Input From A User in Celcuis And Convert in into Fahrenheit\n",
    "c = int(input(\"Enter The Value Of Temperature In Celcuis\"))\n",
    "f =  (9/5*c)+32\n",
    "print(\"The Value Of Temperature In Celcuis Is : {}  \".format(f))\n"
   ]
  },
  {
   "cell_type": "markdown",
   "id": "1fffabf2",
   "metadata": {},
   "source": [
    "# DAY 3 Python"
   ]
  },
  {
   "cell_type": "code",
   "execution_count": null,
   "id": "91515807",
   "metadata": {},
   "outputs": [],
   "source": [
    "l1 = [1,2,3,4]\n",
    "l1.append(5)"
   ]
  },
  {
   "cell_type": "code",
   "execution_count": null,
   "id": "ee930f4b",
   "metadata": {},
   "outputs": [],
   "source": [
    "print(l1)"
   ]
  },
  {
   "cell_type": "code",
   "execution_count": null,
   "id": "af19e8ba",
   "metadata": {},
   "outputs": [],
   "source": [
    "Name = \"Mohit\"\n",
    "Age = 24\n",
    "Full_time_Employee = True\n",
    "print(Name,Age,Full_time_Employee)"
   ]
  },
  {
   "cell_type": "code",
   "execution_count": null,
   "id": "11c5c67e",
   "metadata": {},
   "outputs": [],
   "source": [
    "x = \"77\"\n",
    "y = 4\n",
    "print(int(x) - y)"
   ]
  },
  {
   "cell_type": "code",
   "execution_count": null,
   "id": "621587ef",
   "metadata": {},
   "outputs": [],
   "source": [
    "a = input(\" Enter Language:\")\n",
    "a.split()"
   ]
  },
  {
   "cell_type": "code",
   "execution_count": null,
   "id": "6bb68d19",
   "metadata": {
    "scrolled": true
   },
   "outputs": [],
   "source": [
    "a = input(\" Enter Anything:\")\n",
    "a.upper()\n",
    "a.lower()"
   ]
  },
  {
   "cell_type": "code",
   "execution_count": null,
   "id": "8259dd53",
   "metadata": {},
   "outputs": [],
   "source": [
    "a.upper()\n"
   ]
  },
  {
   "cell_type": "code",
   "execution_count": null,
   "id": "7b6f96a0",
   "metadata": {},
   "outputs": [],
   "source": [
    "E = input(\"Enter The E-Mail Id\")\n",
    "E.split(\"@\")"
   ]
  },
  {
   "cell_type": "code",
   "execution_count": null,
   "id": "f9612e6a",
   "metadata": {},
   "outputs": [],
   "source": [
    "E = input(\"Enter The E-Mail Id\")\n",
    "F = E.split(\"@\")\n",
    "F[0]"
   ]
  },
  {
   "cell_type": "code",
   "execution_count": null,
   "id": "f8196d2d",
   "metadata": {},
   "outputs": [],
   "source": [
    "E = input(\"Enter The E-Mail Id : \")\n",
    "F = E.split(\"@\")\n",
    "F[0]\n",
    "user = F[0].split(\".\")\n",
    "print(\" hello {}\".format(user[0]))"
   ]
  },
  {
   "cell_type": "code",
   "execution_count": null,
   "id": "5ab03c93",
   "metadata": {},
   "outputs": [],
   "source": [
    "E = input(\"Enter The E-Mail Id : \")\n",
    "F = E.split(\".\")\n",
    "F[0]"
   ]
  },
  {
   "cell_type": "code",
   "execution_count": null,
   "id": "012513b4",
   "metadata": {},
   "outputs": [],
   "source": [
    "E = input(\"Enter The E-Mail Id\")\n",
    "E = E.split(\"@\")\n",
    "E[0]\n"
   ]
  },
  {
   "cell_type": "markdown",
   "id": "e54f0aa0",
   "metadata": {},
   "source": [
    "# Day4 Python"
   ]
  },
  {
   "cell_type": "code",
   "execution_count": 45,
   "id": "e51946a3",
   "metadata": {},
   "outputs": [
    {
     "name": "stdout",
     "output_type": "stream",
     "text": [
      "Enter Your First Name : Mohit\n",
      "Enter Your Last Name : Sharma\n",
      " Enter Your Age: 21\n",
      "HELLO Mohit Sharma, YOU ARE NOW 21, FYI: AGE IS JUST A NUMBER, YOU ARE YOUNGER THAN EVER!\n"
     ]
    }
   ],
   "source": [
    "F_Name = input(\"Enter Your First Name : \")\n",
    "L_Name = input(\"Enter Your Last Name : \")\n",
    "Age = int(input(\" Enter Your Age: \"))\n",
    "#HELLO \"FIRST NAME\" \"LAST NAME\", YOU ARE NOW \"AGE\", FYI: AGE IS JUST A NUMBER, YOU ARE YOUNGER THAN EVER!\n",
    "print(\"HELLO {} {}, YOU ARE NOW {}, FYI: AGE IS JUST A NUMBER, YOU ARE YOUNGER THAN EVER!\".format(F_Name,L_Name,Age))"
   ]
  },
  {
   "cell_type": "code",
   "execution_count": 46,
   "id": "45e5c511",
   "metadata": {},
   "outputs": [
    {
     "name": "stdout",
     "output_type": "stream",
     "text": [
      "Enter Your First Name : Mohit\n",
      "Enter Your Last Name : Sharma\n",
      " Enter Your Age: 21\n",
      "HELLO Mohit Sharma\n",
      " YOU ARE NOW 21\n",
      " FYI: AGE IS JUST A NUMBER, YOU ARE YOUNGER THAN EVER!\n"
     ]
    }
   ],
   "source": [
    "F_Name = input(\"Enter Your First Name : \")\n",
    "L_Name = input(\"Enter Your Last Name : \")\n",
    "Age = int(input(\" Enter Your Age: \"))\n",
    "#HELLO \"FIRST NAME\" \"LAST NAME\", YOU ARE NOW \"AGE\", FYI: AGE IS JUST A NUMBER, YOU ARE YOUNGER THAN EVER!\n",
    "print(\"HELLO {} {}\\n YOU ARE NOW {}\\n FYI: AGE IS JUST A NUMBER, YOU ARE YOUNGER THAN EVER!\".format(F_Name,L_Name,Age))"
   ]
  },
  {
   "cell_type": "code",
   "execution_count": 47,
   "id": "27816f35",
   "metadata": {},
   "outputs": [
    {
     "name": "stdout",
     "output_type": "stream",
     "text": [
      "Enter Your E-Mail : mohitsharmasanju7@gmail.com\n",
      "The Number Of Character Is 17\n"
     ]
    }
   ],
   "source": [
    "#WRITE A CODE THAT TAKES THE USER E-MAIL AND COUNTS THE NUMBER OF USERNAME CHARACTERS\n",
    "E_mail = input(\"Enter Your E-Mail : \")\n",
    "user = E_mail.split(\"@\")\n",
    "Length = len(user[0])\n",
    "print(\"The Number Of Character Is {}\".format(Length))"
   ]
  },
  {
   "cell_type": "code",
   "execution_count": 48,
   "id": "f1f52914",
   "metadata": {},
   "outputs": [
    {
     "data": {
      "text/plain": [
       "'Hello'"
      ]
     },
     "execution_count": 48,
     "metadata": {},
     "output_type": "execute_result"
    }
   ],
   "source": [
    "# WRITE A CODE THAT EXTRACTS THE WORD HELLO FROM \"HELLO WORLD\" IN TWO DIFFERENT WAYS\n",
    "A = \"Hello World\"\n",
    "A.split()[0]"
   ]
  },
  {
   "cell_type": "code",
   "execution_count": null,
   "id": "f2f127df",
   "metadata": {},
   "outputs": [],
   "source": [
    "A = \"Hello World\"\n",
    "A[0:5]"
   ]
  },
  {
   "cell_type": "markdown",
   "id": "b383339b",
   "metadata": {},
   "source": [
    "# Day5 Python"
   ]
  },
  {
   "cell_type": "code",
   "execution_count": null,
   "id": "b3d9f6a1",
   "metadata": {},
   "outputs": [],
   "source": [
    "#PRINT FIRST, SECOND AND LAST ELEMENT IN THE LIST\n",
    "names = [\"sara\", \"chanel\", \"mike\", \"ryan\", \"holy\", \"alex\", \"rob\"]\n",
    "names[0],names[1],names[-1]"
   ]
  },
  {
   "cell_type": "code",
   "execution_count": null,
   "id": "116046a9",
   "metadata": {},
   "outputs": [],
   "source": [
    "# \n",
    "names = [\"sara\", \"chanel\", \"mike\", \"ryan\", \"holy\", \"alex\", \"rob\"]\n",
    "print(names[0],names[1],names[-1])"
   ]
  },
  {
   "cell_type": "code",
   "execution_count": null,
   "id": "7d8a2735",
   "metadata": {},
   "outputs": [],
   "source": [
    "names = [\"sara\", \"chanel\", \"mitch\", \"ryan\", \"holy\", \"alex\", \"rob\"]\n",
    "print(names)"
   ]
  },
  {
   "cell_type": "code",
   "execution_count": null,
   "id": "8a8a1381",
   "metadata": {},
   "outputs": [],
   "source": [
    "names[1:4]"
   ]
  },
  {
   "cell_type": "code",
   "execution_count": null,
   "id": "4f2b5316",
   "metadata": {},
   "outputs": [],
   "source": [
    "names[1],names[2],names[3]"
   ]
  },
  {
   "cell_type": "code",
   "execution_count": null,
   "id": "4f0abf07",
   "metadata": {},
   "outputs": [],
   "source": [
    "names[0:3]"
   ]
  },
  {
   "cell_type": "code",
   "execution_count": null,
   "id": "e463127e",
   "metadata": {},
   "outputs": [],
   "source": [
    "names[-3:]"
   ]
  },
  {
   "cell_type": "code",
   "execution_count": null,
   "id": "72fc6f15",
   "metadata": {},
   "outputs": [],
   "source": [
    "names[0:7:2]"
   ]
  },
  {
   "cell_type": "code",
   "execution_count": null,
   "id": "75554d17",
   "metadata": {},
   "outputs": [],
   "source": [
    "names[::2]"
   ]
  },
  {
   "cell_type": "code",
   "execution_count": null,
   "id": "fd36d828",
   "metadata": {},
   "outputs": [],
   "source": [
    "my_list = [\"Mitch\", [\"sara\", \"sally\", \"joe\"], \"peter\", \"aly\"]\n",
    "my_list[1][1]"
   ]
  },
  {
   "cell_type": "code",
   "execution_count": null,
   "id": "2e4d3443",
   "metadata": {
    "scrolled": true
   },
   "outputs": [],
   "source": [
    "print(my_list[1][1])"
   ]
  },
  {
   "cell_type": "code",
   "execution_count": null,
   "id": "f78148a7",
   "metadata": {},
   "outputs": [],
   "source": []
  },
  {
   "cell_type": "code",
   "execution_count": null,
   "id": "847bb498",
   "metadata": {},
   "outputs": [],
   "source": [
    "my_list[1]"
   ]
  },
  {
   "cell_type": "code",
   "execution_count": null,
   "id": "2e2fc24b",
   "metadata": {},
   "outputs": [],
   "source": [
    "my_list[-3]"
   ]
  },
  {
   "cell_type": "code",
   "execution_count": null,
   "id": "d556da3b",
   "metadata": {},
   "outputs": [],
   "source": [
    "my_list[-1]"
   ]
  },
  {
   "cell_type": "code",
   "execution_count": null,
   "id": "0c8f2f6d",
   "metadata": {},
   "outputs": [],
   "source": [
    "my_list[3]"
   ]
  },
  {
   "cell_type": "code",
   "execution_count": null,
   "id": "4910b5ee",
   "metadata": {},
   "outputs": [],
   "source": [
    "#PRINT THE LENGTH OF THE LIST AND ADD YOUR NAME TO THE LIST (EXTERNAL RESEARCH)\n",
    "my_list = [\"Mitch\", [\"sara\", \"sally\", \"joe\"], \"peter\", \"aly\"]\n",
    "my_list.append(\"Mohit\")\n",
    "print(my_list)"
   ]
  },
  {
   "cell_type": "code",
   "execution_count": null,
   "id": "6c36385b",
   "metadata": {
    "scrolled": false
   },
   "outputs": [],
   "source": [
    "len(my_list)"
   ]
  },
  {
   "cell_type": "code",
   "execution_count": null,
   "id": "30ffc6a4",
   "metadata": {},
   "outputs": [],
   "source": [
    "my_list.remove(\"peter\")\n",
    "my_list"
   ]
  },
  {
   "cell_type": "code",
   "execution_count": null,
   "id": "6bf5e599",
   "metadata": {},
   "outputs": [],
   "source": [
    "my_list = [\"Mitch\", [\"sara\", \"sally\", \"joe\"], \"peter\", \"aly\"]\n",
    "del my_list[2]\n",
    "my_list"
   ]
  },
  {
   "cell_type": "code",
   "execution_count": null,
   "id": "581787c5",
   "metadata": {},
   "outputs": [],
   "source": [
    "my_list.pop(2)"
   ]
  },
  {
   "cell_type": "code",
   "execution_count": null,
   "id": "f8bba7f1",
   "metadata": {},
   "outputs": [],
   "source": [
    "my_list = [50, 20, 30, 10, 40, 15, 45]\n",
    "my_list.sort()\n",
    "my_list"
   ]
  },
  {
   "cell_type": "code",
   "execution_count": null,
   "id": "336ebcb1",
   "metadata": {},
   "outputs": [],
   "source": [
    "my_list.sort(reverse=True)\n",
    "my_list"
   ]
  },
  {
   "cell_type": "code",
   "execution_count": null,
   "id": "b5d7dd10",
   "metadata": {},
   "outputs": [],
   "source": [
    "# CREATE A NEW LIST THAT CONTAINS THE LAST ELEMENTS IN THE NESTED LISTS\n",
    "grocery_list = [['chips','jelly','chocolate'],['sweet potatoes','potatoes'],['peanuts','protein bar']]\n",
    "x = grocery_list[0][-1]\n",
    "x"
   ]
  },
  {
   "cell_type": "code",
   "execution_count": null,
   "id": "b82cf68a",
   "metadata": {},
   "outputs": [],
   "source": [
    "y = grocery_list[1][-1]\n",
    "y"
   ]
  },
  {
   "cell_type": "code",
   "execution_count": null,
   "id": "206ed09d",
   "metadata": {},
   "outputs": [],
   "source": [
    "z = grocery_list[2][-1]\n",
    "z"
   ]
  },
  {
   "cell_type": "code",
   "execution_count": null,
   "id": "9fe11171",
   "metadata": {},
   "outputs": [],
   "source": [
    "grocery_list=[x,y,z]\n",
    "grocery_list"
   ]
  },
  {
   "cell_type": "code",
   "execution_count": null,
   "id": "ea483b40",
   "metadata": {},
   "outputs": [],
   "source": [
    "grocery_list[0][-1]\n",
    "grocery_list[1][-1]\n",
    "grocery_list[2][-1]\n",
    "grocery_list"
   ]
  },
  {
   "cell_type": "markdown",
   "id": "e93263a1",
   "metadata": {},
   "source": [
    "# Day 6 Python"
   ]
  },
  {
   "cell_type": "code",
   "execution_count": 32,
   "id": "964233ae",
   "metadata": {},
   "outputs": [
    {
     "name": "stdout",
     "output_type": "stream",
     "text": [
      "Hello Mohit, Your Age Is 21\n"
     ]
    }
   ],
   "source": [
    "# PRINT HELLO FOLLOWED BY THE NAMES AND THE AGE IN THE TUPLE\n",
    "# Involve format method in the print statement\n",
    "m = (\"Mohit\",21)\n",
    "print(\"Hello {}, Your Age Is {}\".format(m[0],m[1]))"
   ]
  },
  {
   "cell_type": "code",
   "execution_count": 33,
   "id": "ff9052b8",
   "metadata": {},
   "outputs": [
    {
     "name": "stdout",
     "output_type": "stream",
     "text": [
      "('Apple', 'Orange', 'Watermelon', 'Straw', 'Pineapple', 'Gauva')\n"
     ]
    }
   ],
   "source": [
    "# DEFINE A TUPLE WITH 6 letters or name\n",
    "# (1) ALL THE TUPLE,\n",
    "# (2) LAST ELEMENT,\n",
    "# (3) FIRST TWO ELEMENTS\n",
    "Input_tuple = (\"Apple\",\"Orange\",\"Watermelon\",\"Straw\",\"Pineapple\",\"Gauva\")\n",
    "print(Input_tuple)"
   ]
  },
  {
   "cell_type": "code",
   "execution_count": 34,
   "id": "658f7331",
   "metadata": {},
   "outputs": [
    {
     "data": {
      "text/plain": [
       "'Gauva'"
      ]
     },
     "execution_count": 34,
     "metadata": {},
     "output_type": "execute_result"
    }
   ],
   "source": [
    "Input_tuple[-1]"
   ]
  },
  {
   "cell_type": "code",
   "execution_count": 35,
   "id": "862999d2",
   "metadata": {},
   "outputs": [
    {
     "data": {
      "text/plain": [
       "('Apple', 'Orange')"
      ]
     },
     "execution_count": 35,
     "metadata": {},
     "output_type": "execute_result"
    }
   ],
   "source": [
    "Input_tuple[0:2]"
   ]
  },
  {
   "cell_type": "code",
   "execution_count": 39,
   "id": "a033373f",
   "metadata": {},
   "outputs": [
    {
     "data": {
      "text/plain": [
       "tuple"
      ]
     },
     "execution_count": 39,
     "metadata": {},
     "output_type": "execute_result"
    }
   ],
   "source": [
    "# DEFINE A TUPLE WITH YOUR FIRST NAME, LAST NAME AND AGE. \n",
    "# FIND THE LENGTH AND THE TYPE AS WELL.\n",
    "Input_Name = (\"Mohit\",\"Sharma\",21)\n",
    "type(Input_Name)"
   ]
  },
  {
   "cell_type": "code",
   "execution_count": 38,
   "id": "bafa4f0b",
   "metadata": {
    "scrolled": true
   },
   "outputs": [
    {
     "data": {
      "text/plain": [
       "3"
      ]
     },
     "execution_count": 38,
     "metadata": {},
     "output_type": "execute_result"
    }
   ],
   "source": [
    "len(Input_Name)"
   ]
  },
  {
   "cell_type": "code",
   "execution_count": 41,
   "id": "a0dfba32",
   "metadata": {},
   "outputs": [],
   "source": [
    "# PRINT THE NUMBER \"40\" \n",
    "# PRINT THE WORD \"WORLD\"\n",
    "# PRINT THE NUMBER 25 \n",
    "# PRINT THE ENTIRE LIST AND TUPLE LISTED BELOW\n",
    "my_tuple = (\"hello\", [87, 40, 60], \"world\", (10, 25, 30))"
   ]
  },
  {
   "cell_type": "code",
   "execution_count": 42,
   "id": "49120a1e",
   "metadata": {},
   "outputs": [
    {
     "name": "stdout",
     "output_type": "stream",
     "text": [
      "40\n"
     ]
    }
   ],
   "source": [
    "print(my_tuple[1][1])"
   ]
  },
  {
   "cell_type": "code",
   "execution_count": 44,
   "id": "ce009811",
   "metadata": {},
   "outputs": [
    {
     "data": {
      "text/plain": [
       "'world'"
      ]
     },
     "execution_count": 44,
     "metadata": {},
     "output_type": "execute_result"
    }
   ],
   "source": [
    "my_tuple[2]"
   ]
  },
  {
   "cell_type": "code",
   "execution_count": 45,
   "id": "3f73b225",
   "metadata": {},
   "outputs": [
    {
     "data": {
      "text/plain": [
       "25"
      ]
     },
     "execution_count": 45,
     "metadata": {},
     "output_type": "execute_result"
    }
   ],
   "source": [
    "my_tuple[3][1]"
   ]
  },
  {
   "cell_type": "code",
   "execution_count": 46,
   "id": "ad99add3",
   "metadata": {},
   "outputs": [
    {
     "data": {
      "text/plain": [
       "[87, 40, 60]"
      ]
     },
     "execution_count": 46,
     "metadata": {},
     "output_type": "execute_result"
    }
   ],
   "source": [
    "my_tuple[1]"
   ]
  },
  {
   "cell_type": "code",
   "execution_count": 47,
   "id": "6f5d3926",
   "metadata": {},
   "outputs": [
    {
     "data": {
      "text/plain": [
       "(10, 25, 30)"
      ]
     },
     "execution_count": 47,
     "metadata": {},
     "output_type": "execute_result"
    }
   ],
   "source": [
    "my_tuple[3]"
   ]
  },
  {
   "cell_type": "code",
   "execution_count": 49,
   "id": "ac4941bf",
   "metadata": {
    "collapsed": true
   },
   "outputs": [
    {
     "ename": "TypeError",
     "evalue": "'tuple' object does not support item assignment",
     "output_type": "error",
     "traceback": [
      "\u001b[1;31m---------------------------------------------------------------------------\u001b[0m",
      "\u001b[1;31mTypeError\u001b[0m                                 Traceback (most recent call last)",
      "Cell \u001b[1;32mIn[49], line 4\u001b[0m\n\u001b[0;32m      1\u001b[0m \u001b[38;5;66;03m# EXECUTE THE FOLLOWING COMMANDS AND EXPLAIN WHAT WENT WRONG AND WHAT WENT RIGHT!\u001b[39;00m\n\u001b[0;32m      2\u001b[0m my_tuple \u001b[38;5;241m=\u001b[39m (\u001b[38;5;241m40\u001b[39m, \u001b[38;5;241m3\u001b[39m, \u001b[38;5;241m2\u001b[39m, [\u001b[38;5;241m10\u001b[39m, \u001b[38;5;241m4\u001b[39m])\n\u001b[1;32m----> 4\u001b[0m my_tuple[\u001b[38;5;241m2\u001b[39m] \u001b[38;5;241m=\u001b[39m \u001b[38;5;241m10\u001b[39m\n",
      "\u001b[1;31mTypeError\u001b[0m: 'tuple' object does not support item assignment"
     ]
    }
   ],
   "source": [
    "# EXECUTE THE FOLLOWING COMMANDS AND EXPLAIN WHAT WENT WRONG AND WHAT WENT RIGHT!\n",
    "my_tuple = (40, 3, 2, [10, 4])\n",
    "my_tuple[2] = 10\n",
    "\n",
    "#Ansser - tuple is immutabke , means it cannot change once it is defined "
   ]
  },
  {
   "cell_type": "code",
   "execution_count": 18,
   "id": "582d71f5",
   "metadata": {},
   "outputs": [
    {
     "data": {
      "text/plain": [
       "[40, 3, 10, [10, 4]]"
      ]
     },
     "execution_count": 18,
     "metadata": {},
     "output_type": "execute_result"
    }
   ],
   "source": [
    "my_list = list(my_tuple )\n",
    "my_list[2] = 10\n",
    "my_list"
   ]
  },
  {
   "cell_type": "code",
   "execution_count": 20,
   "id": "e8b32ac2",
   "metadata": {},
   "outputs": [
    {
     "data": {
      "text/plain": [
       "[40, 3, 2]"
      ]
     },
     "execution_count": 20,
     "metadata": {},
     "output_type": "execute_result"
    }
   ],
   "source": [
    "my_list = [40, 3, 2, [10, 4]]\n",
    "del my_list[3]\n",
    "my_list"
   ]
  },
  {
   "cell_type": "code",
   "execution_count": 23,
   "id": "8d6c27f3",
   "metadata": {},
   "outputs": [
    {
     "name": "stdout",
     "output_type": "stream",
     "text": [
      "False\n"
     ]
    }
   ],
   "source": [
    "# CHECK IF THE NAME \"PYTHON\" EXISTS IN A TUPLE\n",
    "my_tuple = ('math','science','science','python','english')\n",
    "print(\"PYTHON\" in my_tuple)"
   ]
  },
  {
   "cell_type": "code",
   "execution_count": 24,
   "id": "b55a7bf0",
   "metadata": {},
   "outputs": [
    {
     "name": "stdout",
     "output_type": "stream",
     "text": [
      "True\n"
     ]
    }
   ],
   "source": [
    "print('python' in my_tuple)"
   ]
  },
  {
   "cell_type": "code",
   "execution_count": 25,
   "id": "7ecf4263",
   "metadata": {},
   "outputs": [
    {
     "name": "stdout",
     "output_type": "stream",
     "text": [
      "True\n"
     ]
    }
   ],
   "source": [
    "print('physics' not in my_tuple)"
   ]
  },
  {
   "cell_type": "code",
   "execution_count": 31,
   "id": "72de60a8",
   "metadata": {},
   "outputs": [
    {
     "data": {
      "text/plain": [
       "[4, '2', 6, 9, 50]"
      ]
     },
     "execution_count": 31,
     "metadata": {},
     "output_type": "execute_result"
    }
   ],
   "source": [
    "# REMOVE THE DUPLICATES FROM THE FOLLOWING LIST \n",
    "my_list = [\"2\", 50, \"2\", 50, 4, 6, 9, 9]\n",
    "s=set(my_list)\n",
    "s\n",
    "m=list(s)\n",
    "m"
   ]
  },
  {
   "cell_type": "code",
   "execution_count": 32,
   "id": "11c46413",
   "metadata": {},
   "outputs": [
    {
     "data": {
      "text/plain": [
       "[4, '2', 6, 9, 50]"
      ]
     },
     "execution_count": 32,
     "metadata": {},
     "output_type": "execute_result"
    }
   ],
   "source": [
    "my_list = [\"2\", 50, \"2\", 50, 4, 6, 9, 9]\n",
    "m = list(set(my_list))\n",
    "m"
   ]
  },
  {
   "cell_type": "code",
   "execution_count": 33,
   "id": "8228d0d8",
   "metadata": {},
   "outputs": [
    {
     "data": {
      "text/plain": [
       "['sara', 'mike', 'Mohit', 'jon']"
      ]
     },
     "execution_count": 33,
     "metadata": {},
     "output_type": "execute_result"
    }
   ],
   "source": [
    "#  ADD YOUR NAME TO THE FOLLOWING SET AND CONVERT INTO A LIST\n",
    "my_set = {\"sara\", \"mike\", \"jon\", \"jon\", \"mike\"}\n",
    "my_set.add(\"Mohit\")\n",
    "m = list(my_set)\n",
    "m"
   ]
  },
  {
   "cell_type": "markdown",
   "id": "ea29c32d",
   "metadata": {},
   "source": [
    "# Day7 Python"
   ]
  },
  {
   "cell_type": "code",
   "execution_count": null,
   "id": "100443f0",
   "metadata": {},
   "outputs": [],
   "source": [
    "#CREATE A DICTIONARY WITH 3 OF YOUR FAVOURITE FRIENDS AND THEIR RESPECTIVE AGE AND PRINT OUT THE AGE OF SECOND NAME YOU CHOOSE"
   ]
  },
  {
   "cell_type": "code",
   "execution_count": null,
   "id": "a259f1fa",
   "metadata": {},
   "outputs": [],
   "source": [
    "a = {\"Mohit\":21,\"Shivam\":22,\"Sahil\":23}\n",
    "print(a)"
   ]
  },
  {
   "cell_type": "code",
   "execution_count": null,
   "id": "d07dcfbe",
   "metadata": {},
   "outputs": [],
   "source": [
    "print(a[\"Shivam\"])\n"
   ]
  },
  {
   "cell_type": "code",
   "execution_count": null,
   "id": "c1184598",
   "metadata": {},
   "outputs": [],
   "source": [
    "#CREATE A DICTIONARY WITH 3 OF YOUR FAVOURITE FRIENDS AND \n",
    "#THEIR RESPECTIVE HOURLY WAGE AND OBTAIN THE AVERAGE OF ALL THEIR SALARIES\n"
   ]
  },
  {
   "cell_type": "code",
   "execution_count": null,
   "id": "e5b9f6be",
   "metadata": {},
   "outputs": [],
   "source": [
    "a = {\"Mohit\":700,\"Shivam\":500,\"Sahil\":400}\n",
    "a\n"
   ]
  },
  {
   "cell_type": "code",
   "execution_count": null,
   "id": "574e07b0",
   "metadata": {},
   "outputs": [],
   "source": [
    "b = (a[\"Mohit\"] + a[\"Shivam\"] + a[\"Sahil\"]) / len(a)"
   ]
  },
  {
   "cell_type": "code",
   "execution_count": null,
   "id": "a9f065f4",
   "metadata": {},
   "outputs": [],
   "source": [
    "print(b)"
   ]
  },
  {
   "cell_type": "code",
   "execution_count": null,
   "id": "edee38c8",
   "metadata": {},
   "outputs": [],
   "source": [
    "sum(a.values())/len(a)"
   ]
  },
  {
   "cell_type": "code",
   "execution_count": null,
   "id": "c37becb6",
   "metadata": {},
   "outputs": [],
   "source": [
    "# UPDATE THE PREVIOUS DICTIONARY WITH TWO OF YOUR NEXT FAVOURITE FRIENDS AND \n",
    "#THEIR RESPECTIVE SALARIES AND OBTAIN THE AVERAGE OF ALL THEIR SALARIES\n"
   ]
  },
  {
   "cell_type": "code",
   "execution_count": null,
   "id": "c46f43dd",
   "metadata": {},
   "outputs": [],
   "source": [
    "a = {\"Mohit\":700,\"Shivam\":500,\"Sahil\":400}\n",
    "a"
   ]
  },
  {
   "cell_type": "code",
   "execution_count": null,
   "id": "a31e4dd6",
   "metadata": {},
   "outputs": [],
   "source": [
    "a[\"Sanju\"] = 900\n",
    "a[\"Mayur\"] = 600\n",
    "a"
   ]
  },
  {
   "cell_type": "code",
   "execution_count": null,
   "id": "1a2a6fef",
   "metadata": {},
   "outputs": [],
   "source": [
    "sum(a.values())/len(a)"
   ]
  },
  {
   "cell_type": "code",
   "execution_count": null,
   "id": "2b58446b",
   "metadata": {},
   "outputs": [],
   "source": [
    "#WRITE A CODE THAT MULTIPLIES ALL THE ELEMENTS IN THE FOLLOWING DICTIONARY\n",
    "my_dict = {'data1':500,\n",
    "           'data2':-10,\n",
    "           'data3':300}\n",
    "Total = 7\n",
    "Total = Total*my_dict[\"data1\"]\n",
    "Total = Total*my_dict[\"data2\"]\n",
    "Total = Total*my_dict[\"data3\"]\n",
    "Total\n",
    "\n"
   ]
  },
  {
   "cell_type": "code",
   "execution_count": null,
   "id": "7273bd99",
   "metadata": {},
   "outputs": [],
   "source": [
    "def mul(a):\n",
    "    x=7\n",
    "    for i in a.values():\n",
    "        x=x*i\n",
    "    return x\n",
    "\n",
    "\n"
   ]
  },
  {
   "cell_type": "code",
   "execution_count": null,
   "id": "b2160c22",
   "metadata": {},
   "outputs": [],
   "source": [
    " mul(my_dict)"
   ]
  },
  {
   "cell_type": "markdown",
   "id": "a5e03c00",
   "metadata": {},
   "source": [
    "# DAY8 PYTHON"
   ]
  },
  {
   "cell_type": "code",
   "execution_count": null,
   "id": "d83c17da",
   "metadata": {},
   "outputs": [],
   "source": [
    "#Square each elejment in the following dictionary.\n",
    "dictionary = {\"c1\":[10,20,30] , \"c2\" : [20,30,40]}\n",
    "dictionary[\"c1\"] =  [dictionary[\"c1\"][0]**2,dictionary[\"c1\"][1]**2,dictionary[\"c1\"][2]**2]\n",
    "dictionary[\"c2\"] =  [dictionary[\"c2\"][0]**2,dictionary[\"c2\"][1]**2,dictionary[\"c2\"][2]**2]\n",
    "print(dictionary)"
   ]
  },
  {
   "cell_type": "code",
   "execution_count": null,
   "id": "323ca9e0",
   "metadata": {},
   "outputs": [],
   "source": [
    "#Create a List of all keys and a list of all values and the total sum of all values\n",
    "a = {\"alex\":25,\"sally\":28,\"dina\":30}\n",
    "key = list(a.keys())\n",
    "values = list(a.values())\n",
    "print(key,values)\n",
    "Total = sum(values)\n",
    "print(Total)"
   ]
  },
  {
   "cell_type": "code",
   "execution_count": null,
   "id": "bb956d34",
   "metadata": {},
   "outputs": [],
   "source": [
    "#Obtain the length of the following dictionary and sort its elements\n",
    "my_dict = {\"sally\":23,\"dina\":22,\"holy\":50,\"joe\":10,\"peter\":44}\n",
    "a = len(my_dict)\n",
    "print(a)"
   ]
  },
  {
   "cell_type": "code",
   "execution_count": null,
   "id": "5514e422",
   "metadata": {},
   "outputs": [],
   "source": [
    "b = sorted(my_dict)\n",
    "print(b)"
   ]
  },
  {
   "cell_type": "code",
   "execution_count": null,
   "id": "9a842ecc",
   "metadata": {},
   "outputs": [],
   "source": [
    "# FOR EACH OF THE STUDENTS LIST BELOW, CALCULATE THE AVERAGE MARK FOR THE MIDTERM AND \n",
    "#FINAL EXAMS FOR EACH STUDENT AND PUT THE AVERAGE IN A SEPARATE DICTIONARY ALONG WITH WITH THE STUDENT ID\n",
    "\n",
    "student_details = [\n",
    "  {'student_id' : 1, 'subject' : 'math', 'midterm' : 60, 'final' : 85},\n",
    "  {'student_id' : 2, 'subject' : 'math', 'midterm' : 80, 'final' : 78},\n",
    "  {'student_id' : 3, 'subject' : 'math', 'midterm' : 90, 'final' : 85}\n",
    "]\n",
    "A1 = (student_details[0][\"midterm\"]+student_details[0][\"final\"])/2\n",
    "A2 = (student_details[1][\"midterm\"]+student_details[1][\"final\"])/2\n",
    "A3 = (student_details[2][\"midterm\"]+student_details[2][\"final\"])/2\n",
    "print(\"The Average Of {},{} & {}\".format(A1,A2,A3))"
   ]
  },
  {
   "cell_type": "code",
   "execution_count": null,
   "id": "cef03ab2",
   "metadata": {},
   "outputs": [],
   "source": [
    "Avg = [{'student_id' : 1,\"Average\":A1},\n",
    "       {'student_id' : 2,\"Average\":A2},\n",
    "       {'student_id' : 3,\"Average\":A3},]\n",
    "print(Avg)\n",
    "\n",
    "       \n"
   ]
  },
  {
   "cell_type": "code",
   "execution_count": null,
   "id": "60f3ec15",
   "metadata": {},
   "outputs": [],
   "source": [
    "#program on boolean\n",
    "a = 20\n",
    "b = 30\n",
    "c = 40\n",
    "print(a>b>c)\n",
    "print(a<b<c)\n",
    "print(a==b==c)\n",
    "print(a!=b>c)"
   ]
  },
  {
   "cell_type": "code",
   "execution_count": null,
   "id": "a1d9c09d",
   "metadata": {},
   "outputs": [],
   "source": [
    "a = 7\n",
    "b = 8\n",
    "if(a==b):\n",
    "    print(\"Both Are Eqal\")\n",
    "else:\n",
    "        print(\"Both are not equal\")"
   ]
  },
  {
   "cell_type": "code",
   "execution_count": null,
   "id": "284614d8",
   "metadata": {},
   "outputs": [],
   "source": [
    "a = 29\n",
    "b = 30\n",
    "if(a>b):\n",
    "    print(\"A is Greater than B\")\n",
    "else:\n",
    "    print(\"B is Greater than A\")"
   ]
  },
  {
   "cell_type": "code",
   "execution_count": null,
   "id": "eaf6e3ed",
   "metadata": {},
   "outputs": [],
   "source": [
    "if 5 == 6:\n",
    "    print('First statement is true')\n",
    "elif 2 == 2:\n",
    "    print('Second statement is true')\n",
    "elif 2 == 4:\n",
    "    print('third statement is true')\n",
    "elif 2 == 5:\n",
    "    print('fouth statement is true')\n",
    "elif 2 == 4:\n",
    "    print('fivth statement is true')\n",
    "else:\n",
    "    print('Last statement is true')"
   ]
  },
  {
   "cell_type": "code",
   "execution_count": null,
   "id": "e4a60325",
   "metadata": {},
   "outputs": [],
   "source": [
    "a = 29\n",
    "b = 30\n",
    "if(a!=b):\n",
    "    print(\"A is Greater than B\")\n",
    "else:\n",
    "    print(\"B is Greater than A\")"
   ]
  },
  {
   "cell_type": "code",
   "execution_count": null,
   "id": "32a1d07d",
   "metadata": {},
   "outputs": [],
   "source": [
    "def cap(text):\n",
    "    final = \"\"\n",
    "    f = text[0].upper()\n",
    "    l = text[1:].lower()\n",
    "    final = f+l\n",
    "    return final\n",
    "\n"
   ]
  },
  {
   "cell_type": "code",
   "execution_count": null,
   "id": "99931d9f",
   "metadata": {},
   "outputs": [],
   "source": [
    "name = input(\"Enter Youer Name\")\n",
    "if cap(name) == \"Mohit\":\n",
    "    print(\"Access Granted\")\n",
    "else:\n",
    "    print(\"Access Denied\")"
   ]
  },
  {
   "cell_type": "code",
   "execution_count": null,
   "id": "fdd0fbf2",
   "metadata": {},
   "outputs": [],
   "source": [
    "name = input(\"Enter Youer Name\")\n",
    "if cap(name) == \"Mohit\":\n",
    "    print(\"Access Granted\")"
   ]
  },
  {
   "cell_type": "markdown",
   "id": "85fd3633",
   "metadata": {},
   "source": [
    "# DAY9 PYTHON"
   ]
  },
  {
   "cell_type": "code",
   "execution_count": null,
   "id": "5aeba457",
   "metadata": {},
   "outputs": [],
   "source": [
    "# WHAT WILL THIS CODE GENERATE? PLEASE DO NOT RUN THE CODE!\n",
    "print('Python' == 'PYTHON')\n",
    "print('PYTHON' == 'PYTHON')\n",
    "print('PYTHON' != 'PYTHON')\n",
    "print(15!=10)\n"
   ]
  },
  {
   "cell_type": "code",
   "execution_count": null,
   "id": "bb0e9d5c",
   "metadata": {},
   "outputs": [],
   "source": [
    "#WHAT WILL THIS CODE GENERATE? \n",
    "print( 'Hello'!='HELLO' and (6 > 2) and (5 == 5))\n",
    "print( 'Hello'!='HELLO' or (6 > 2) or (5 == 5)) "
   ]
  },
  {
   "cell_type": "code",
   "execution_count": null,
   "id": "a4519335",
   "metadata": {},
   "outputs": [],
   "source": [
    "#WHAT WILL THIS CODE GENERATE? \n",
    "x = 20\n",
    "y = 30\n",
    " \n",
    "print(x == y) \n",
    "print(x != y) \n",
    "print(x > y)\n",
    "print(x < y) \n",
    "print(x == y or x!=y) \n",
    "print(x == y and x!=y)\n"
   ]
  },
  {
   "cell_type": "code",
   "execution_count": null,
   "id": "6eabf79b",
   "metadata": {},
   "outputs": [],
   "source": [
    "#GIVEN THE DICTIONARY BELOW, WRITE TO CODE TO SELECT DICTIONARY ELEMENTS THAT ARE \n",
    "#GREATER THAN OR EQUAL 30 AND PLACE THE VALUES IN A LIST \n",
    "#Please note that we did not cover loops yet so the answer below is pretty basic!\n",
    "a = {\"Key 1\": 20, \"Key 2\": 30, \"Key 3\": 50}\n",
    "ans = []\n",
    "if(a[\"Key 1\"]>=30):\n",
    "    ans.append(a[\"Key 1\"])\n",
    "if(a[\"Key 2\"]>=30):\n",
    "    ans.append(a[\"Key 2\"])\n",
    "if(a[\"Key 3\"]>=30):\n",
    "    ans.append(a[\"Key 3\"])\n",
    "    print(\"The Number is Greater Than 20 : {} \".format(ans))"
   ]
  },
  {
   "cell_type": "code",
   "execution_count": null,
   "id": "c9bd47e9",
   "metadata": {},
   "outputs": [],
   "source": [
    "a = {\"Key 1\": 20, \"Key 2\": 30, \"Key 3\": 50}\n",
    "ans = []\n",
    "if(a[\"Key 1\"]>=30):\n",
    "    ans.append(a[\"Key 1\"])\n",
    "if(a[\"Key 2\"]>=30):\n",
    "    ans.append(a[\"Key 2\"])\n",
    "if(a[\"Key 3\"]>=30):\n",
    "    ans.append(a[\"Key 3\"])\n",
    "    print(ans)\n",
    "    "
   ]
  },
  {
   "cell_type": "code",
   "execution_count": null,
   "id": "d31768af",
   "metadata": {},
   "outputs": [],
   "source": [
    "a = {\"Key 1\": 20, \"Key 2\": 30, \"Key 3\": 50}\n",
    "ans = []\n",
    "if(a[\"Key 1\"]>=30):\n",
    "    ans.append(a[\"Key 1\"])\n",
    "    print(ans)\n",
    "    "
   ]
  },
  {
   "cell_type": "code",
   "execution_count": null,
   "id": "fbbab639",
   "metadata": {},
   "outputs": [],
   "source": [
    "#WRITE A CODE THAT TAKES A NUMBER AND INDICATES IF IT IS POSITIVE, NEGATIVE OR ZERO \n",
    "a = int(input(\"Enter The Number\"))\n",
    "if(a>0):\n",
    "    print(\"The Number Is Positive\")\n",
    "elif(a<0):\n",
    "     print(\"The Number Is Negative\")\n",
    "else:\n",
    "    print(\"The Number is Zero\")"
   ]
  },
  {
   "cell_type": "code",
   "execution_count": null,
   "id": "e1d3c881",
   "metadata": {},
   "outputs": [],
   "source": [
    "#WRITE A CODE THAT TAKES AN INPUT FROM THE USER AND INDICATES IF IT IS EVEN OR ODD\n",
    "a = int(input(\"Enter THe Number\"))\n",
    "if(a%2==0):\n",
    "    print(\"{} number is even\".format(a))\n",
    "else:\n",
    "    print(\"{} Number iS odd\".format(a))\n"
   ]
  },
  {
   "cell_type": "code",
   "execution_count": null,
   "id": "22726674",
   "metadata": {},
   "outputs": [],
   "source": [
    "#WRITE A CODE THAT TAKES AN INPUT FROM THE USER AND INDICATES ITS NUMBER OF DIGITS by isdigit.\n",
    "a = input()\n",
    " \n",
    "print(a.isdigit())\n"
   ]
  },
  {
   "cell_type": "code",
   "execution_count": null,
   "id": "9a6267d6",
   "metadata": {},
   "outputs": [],
   "source": [
    "#WRITE A CODE THAT TAKES AN INPUT FROM THE USER AND INDICATES ITS NUMBER OF DIGITS\n",
    "a = input(\"Enter THe Number\")\n",
    "print(len(a))"
   ]
  },
  {
   "cell_type": "code",
   "execution_count": null,
   "id": "50507b1d",
   "metadata": {},
   "outputs": [],
   "source": [
    "#WRITE A SCRIPT THAT WILL PROMPT A USER FOR AN INPUT AND CHECKS IF THE NUMBER IS DIVISIBLE BY 5 BUT NOT A MULTIPLE OF 7\n",
    "a = int(input(\"Ente Your Number\"))\n",
    "if(a%5==0 and a%7!=0):\n",
    "    print(\"The Number is Divided by 5 but not multiple by 7 {}\".format(a))\n",
    "else:\n",
    "    print(\"The Number {} does not divide or multiply\".format(a))\n"
   ]
  },
  {
   "cell_type": "markdown",
   "id": "ffee1229",
   "metadata": {},
   "source": [
    "# Day 10 Python"
   ]
  },
  {
   "cell_type": "code",
   "execution_count": null,
   "id": "63b86c38",
   "metadata": {},
   "outputs": [],
   "source": [
    "#FOR LOOPS\n",
    "#For loops are used for iterating over a sequence (a list, a tuple, a dictionary, a set, or a string).\n",
    "#An action can be executed once for each item in a list, tuple of the for loop.\n",
    "my_list = [1,2,3,4,5,6,7,8,9]"
   ]
  },
  {
   "cell_type": "code",
   "execution_count": null,
   "id": "179b536d",
   "metadata": {},
   "outputs": [],
   "source": [
    "my_list"
   ]
  },
  {
   "cell_type": "code",
   "execution_count": null,
   "id": "94c3c866",
   "metadata": {},
   "outputs": [],
   "source": [
    "a = list(range(1,10,2))"
   ]
  },
  {
   "cell_type": "code",
   "execution_count": null,
   "id": "6f3fa224",
   "metadata": {},
   "outputs": [],
   "source": [
    "a"
   ]
  },
  {
   "cell_type": "code",
   "execution_count": null,
   "id": "4e213ad2",
   "metadata": {},
   "outputs": [],
   "source": [
    "for i in my_list:\n",
    "    print(i)\n"
   ]
  },
  {
   "cell_type": "code",
   "execution_count": null,
   "id": "8041c730",
   "metadata": {},
   "outputs": [],
   "source": [
    "for m in \"Mohit\":\n",
    "    print(m)\n"
   ]
  },
  {
   "cell_type": "code",
   "execution_count": null,
   "id": "65ea12e1",
   "metadata": {},
   "outputs": [],
   "source": [
    "for m in range(1,77,7):\n",
    "    print(m)"
   ]
  },
  {
   "cell_type": "code",
   "execution_count": null,
   "id": "4d938c0a",
   "metadata": {},
   "outputs": [],
   "source": [
    "start = int(input(\"Enter Your Starting Point:\"))\n",
    "stop = int(input(\"Enter Your Ending Point:\"))\n",
    "for i in range(start,stop+1):\n",
    "    if(i%2!=0):\n",
    "        print(i)\n"
   ]
  },
  {
   "cell_type": "code",
   "execution_count": null,
   "id": "d740f796",
   "metadata": {},
   "outputs": [],
   "source": [
    "for i in my_list:\n",
    "    print(i)\n",
    "    print(\"hello world\")\n",
    "    print(\"hi all\")\n",
    "print(\"Mohit\")"
   ]
  },
  {
   "cell_type": "code",
   "execution_count": null,
   "id": "5c97b9e4",
   "metadata": {},
   "outputs": [],
   "source": [
    "my_list = [\"apple\",\"Mango\",\"banana\",\"orange\",\"watermelon\"]\n",
    "my_list"
   ]
  },
  {
   "cell_type": "code",
   "execution_count": null,
   "id": "e248979e",
   "metadata": {},
   "outputs": [],
   "source": [
    "for i in my_list:\n",
    "    print(i)"
   ]
  },
  {
   "cell_type": "code",
   "execution_count": 1,
   "id": "08870440",
   "metadata": {},
   "outputs": [
    {
     "name": "stdout",
     "output_type": "stream",
     "text": [
      "22\n"
     ]
    }
   ],
   "source": [
    "numbers = [1,2,3,4,5,6]\n",
    "acc = 1\n",
    "for i in numbers:\n",
    "    acc = acc+i\n",
    "print(acc)"
   ]
  },
  {
   "cell_type": "code",
   "execution_count": 2,
   "id": "ce397f34",
   "metadata": {},
   "outputs": [
    {
     "name": "stdout",
     "output_type": "stream",
     "text": [
      "720\n"
     ]
    }
   ],
   "source": [
    "numbers = [1,2,3,4,5,6]\n",
    "mul_number = 1\n",
    "for i in numbers:\n",
    "    mul_number = mul_number*i\n",
    "print(mul_number)"
   ]
  },
  {
   "cell_type": "code",
   "execution_count": null,
   "id": "89eda3fb",
   "metadata": {},
   "outputs": [],
   "source": [
    "my_list = [\"Apple\",'mango','oramge','banana','watermelon']\n"
   ]
  },
  {
   "cell_type": "code",
   "execution_count": null,
   "id": "37921208",
   "metadata": {},
   "outputs": [],
   "source": [
    "my_list"
   ]
  },
  {
   "cell_type": "code",
   "execution_count": null,
   "id": "900e0d85",
   "metadata": {},
   "outputs": [],
   "source": [
    "for i in enumerate(my_list):\n",
    "    print(i)\n"
   ]
  },
  {
   "cell_type": "code",
   "execution_count": null,
   "id": "e5a2d9ac",
   "metadata": {},
   "outputs": [],
   "source": [
    "for i,j in enumerate(my_list):\n",
    "    print(i,j)"
   ]
  },
  {
   "cell_type": "code",
   "execution_count": null,
   "id": "f07a13f8",
   "metadata": {},
   "outputs": [],
   "source": [
    "a = list(range(1,10+1))\n",
    "b = list(range(11,21))\n",
    "c = list(range(21,31))\n",
    "print(a)\n",
    "print(b)\n",
    "print(c)"
   ]
  },
  {
   "cell_type": "code",
   "execution_count": null,
   "id": "e34f4241",
   "metadata": {},
   "outputs": [],
   "source": [
    "for x,y,z in zip(a,b,c):\n",
    "    print(x,y,z)\n",
    "    print(x+y+z)"
   ]
  },
  {
   "cell_type": "markdown",
   "id": "3eaf159f",
   "metadata": {},
   "source": [
    "# Day 11 Python"
   ]
  },
  {
   "cell_type": "code",
   "execution_count": null,
   "id": "5564566a",
   "metadata": {},
   "outputs": [],
   "source": [
    "#RANGE\n",
    "#Range() generates a list of numbers, which is used to iterate over with for loops.\n",
    "#range() is 0-index based, meaning list indexes start at 0, not 1.\n",
    "#The last integer generated by range() is up to, but not including, last element.\n",
    "#Example: range(0, 10) generates integers from 0 up to, but not including, 10."
   ]
  },
  {
   "cell_type": "code",
   "execution_count": 1,
   "id": "f7bec2f6",
   "metadata": {},
   "outputs": [
    {
     "data": {
      "text/plain": [
       "[1, 3, 5, 7, 9, 11, 13, 15, 17, 19, 21, 23, 25, 27, 29]"
      ]
     },
     "execution_count": 1,
     "metadata": {},
     "output_type": "execute_result"
    }
   ],
   "source": [
    "a = list(range(1,30,2))\n",
    "a"
   ]
  },
  {
   "cell_type": "code",
   "execution_count": null,
   "id": "c821c740",
   "metadata": {},
   "outputs": [],
   "source": [
    "b = list(range(0,6+1,2))\n",
    "b"
   ]
  },
  {
   "cell_type": "code",
   "execution_count": null,
   "id": "86111e6b",
   "metadata": {},
   "outputs": [],
   "source": [
    "for i in range(1,70,5):\n",
    "    print(i)"
   ]
  },
  {
   "cell_type": "code",
   "execution_count": null,
   "id": "9d9ebeae",
   "metadata": {},
   "outputs": [],
   "source": [
    "for i in reversed(range(0,14)):\n",
    "    print(i)"
   ]
  },
  {
   "cell_type": "code",
   "execution_count": null,
   "id": "1ea5c642",
   "metadata": {},
   "outputs": [],
   "source": [
    "#BREAK A LOOP/CONTINUE\n",
    "#break() is used to exit a for loop or a while loop\n",
    "#continue() is used to skip the current block, and return to the \"for\" or \"while\" statement"
   ]
  },
  {
   "cell_type": "code",
   "execution_count": null,
   "id": "d593e096",
   "metadata": {},
   "outputs": [],
   "source": [
    "my_list = [\"Watermelon\",\"Mango\",\"Apple\",\"Strawberry\"]\n",
    "my_list"
   ]
  },
  {
   "cell_type": "code",
   "execution_count": null,
   "id": "7611f62f",
   "metadata": {},
   "outputs": [],
   "source": [
    "for i in my_list:\n",
    "    print(i)"
   ]
  },
  {
   "cell_type": "code",
   "execution_count": null,
   "id": "0b8ff324",
   "metadata": {},
   "outputs": [],
   "source": [
    "for i in my_list:\n",
    "    print(i)\n",
    "    if i==\"Apple\":\n",
    "        break\n",
    "        print(i)\n",
    "    \n",
    "\n"
   ]
  },
  {
   "cell_type": "code",
   "execution_count": null,
   "id": "05889718",
   "metadata": {},
   "outputs": [],
   "source": [
    "for i in my_list:\n",
    "    print(i)\n",
    "    if i==\"Strawberry\":\n",
    "        break"
   ]
  },
  {
   "cell_type": "code",
   "execution_count": 3,
   "id": "64765818",
   "metadata": {},
   "outputs": [
    {
     "name": "stdout",
     "output_type": "stream",
     "text": [
      "1\n",
      "3\n",
      "5\n",
      "7\n",
      "9\n"
     ]
    }
   ],
   "source": [
    "my_list = [1,2,3,4,5,6,7,8,9,12]\n",
    "for i in my_list:\n",
    "    if i%2==0:\n",
    "        continue\n",
    "    print(i)\n",
    "        "
   ]
  },
  {
   "cell_type": "code",
   "execution_count": 4,
   "id": "970ce6d2",
   "metadata": {},
   "outputs": [
    {
     "name": "stdout",
     "output_type": "stream",
     "text": [
      "2\n",
      "4\n",
      "6\n",
      "8\n",
      "12\n"
     ]
    }
   ],
   "source": [
    "my_list = [1,2,3,4,5,6,7,8,9,12]\n",
    "for i in my_list:\n",
    "    if i%2!=0:\n",
    "        continue\n",
    "    print(i)"
   ]
  },
  {
   "cell_type": "code",
   "execution_count": null,
   "id": "f776db57",
   "metadata": {},
   "outputs": [],
   "source": [
    "#NESTED LOOP\n",
    "\n",
    "for i in range(1, 11):  # 1, 2,3 ,4,5,6,7,8,9,10\n",
    "    for x in range(11, 21):     #11,12,13,14,15,...\n",
    "        for z in range(21, 31):     #21,22,23,..\n",
    "            for c in range(31,41):    #31,32,33,..\n",
    "                print(i,x,z,c)\n",
    "            print(\"#######\")\n",
    "   \n"
   ]
  },
  {
   "cell_type": "code",
   "execution_count": null,
   "id": "62d9617d",
   "metadata": {},
   "outputs": [],
   "source": [
    "for x in range(1,10):\n",
    "    for y in range(1,11):\n",
    "        print(\"{}*{}={}\".format(x,y,x*y))\n",
    "    print(\"#######\")\n",
    "  "
   ]
  },
  {
   "cell_type": "code",
   "execution_count": null,
   "id": "85c03cf1",
   "metadata": {},
   "outputs": [],
   "source": [
    "colour = [\"black\",\"white\",\"green\"]\n",
    "phone = [\"vivo\",\"mi\",\"iphone\"]\n",
    "for i in colour:\n",
    "    for j in phone:\n",
    "        print(i,j)\n"
   ]
  },
  {
   "cell_type": "code",
   "execution_count": null,
   "id": "43dd5f44",
   "metadata": {},
   "outputs": [],
   "source": [
    "for x in range(1,10):\n",
    "    for y in range(1,11):\n",
    "        print(\"{}*{}={}\".format(x*y,x,y))\n",
    "    print(\"#######\")\n",
    "  "
   ]
  },
  {
   "cell_type": "markdown",
   "id": "c2d3caad",
   "metadata": {},
   "source": [
    "# Day 12 Python"
   ]
  },
  {
   "cell_type": "code",
   "execution_count": null,
   "id": "6833be39",
   "metadata": {},
   "outputs": [],
   "source": [
    "#LIST COMPREHENSION\n",
    "#List comprehension is an elegant tool to transform one list into another list.\n",
    "#Instead of using loops and append, list comprehensions are used to iterate over a list,\n",
    "#condition its elements and include them in a new list.\n"
   ]
  },
  {
   "cell_type": "code",
   "execution_count": null,
   "id": "e673fdcf",
   "metadata": {},
   "outputs": [],
   "source": [
    "a = [2,3,4,5,6]\n",
    "b = []\n",
    "for i in a:\n",
    "    b.append(i**3)\n",
    "print(b)"
   ]
  },
  {
   "cell_type": "code",
   "execution_count": null,
   "id": "c57a3477",
   "metadata": {},
   "outputs": [],
   "source": [
    "b = [i**3 for i in a]\n",
    "b"
   ]
  },
  {
   "cell_type": "code",
   "execution_count": null,
   "id": "d7d990ce",
   "metadata": {},
   "outputs": [],
   "source": [
    "a = [1,2,3,4,5,6,7,8,9,10]\n",
    "z = []\n",
    "for i in a:\n",
    "    if i%2==0:\n",
    "        z.append(i)\n",
    "print(z)"
   ]
  },
  {
   "cell_type": "code",
   "execution_count": null,
   "id": "c1bded6b",
   "metadata": {},
   "outputs": [],
   "source": [
    "[z for i in a if i%2==0]\n",
    "z"
   ]
  },
  {
   "cell_type": "code",
   "execution_count": null,
   "id": "a52ecab8",
   "metadata": {},
   "outputs": [],
   "source": [
    "Temp_C = [25,30,40,50]\n",
    "Temp_F = [(9/5)*i+32 for i in Temp_C ]\n",
    "Temp_F"
   ]
  },
  {
   "cell_type": "code",
   "execution_count": null,
   "id": "f1698a83",
   "metadata": {},
   "outputs": [],
   "source": [
    "my_String = 'I am becoming python master in 30 DAYS'\n",
    "numbers = [ int(i) for i in my_String if i.isdigit() ]\n",
    "print(numbers)"
   ]
  },
  {
   "cell_type": "code",
   "execution_count": null,
   "id": "da1950ce",
   "metadata": {},
   "outputs": [],
   "source": [
    "i = 0\n",
    "while True:\n",
    "    print(i)\n",
    "    i = i+1\n",
    "    if i == 15:\n",
    "        break\n",
    "        \n",
    "    \n",
    "    "
   ]
  },
  {
   "cell_type": "code",
   "execution_count": null,
   "id": "651fc098",
   "metadata": {},
   "outputs": [],
   "source": [
    "for i in range(1,41):\n",
    "    print(i)"
   ]
  },
  {
   "cell_type": "code",
   "execution_count": null,
   "id": "9710bb97",
   "metadata": {},
   "outputs": [],
   "source": [
    "i = 3\n",
    "while i<=20:\n",
    "    print(i)\n",
    "    i = i+1"
   ]
  },
  {
   "cell_type": "code",
   "execution_count": null,
   "id": "7c4b7100",
   "metadata": {},
   "outputs": [],
   "source": [
    "i = 3\n",
    "while True:\n",
    "    print(i)\n",
    "    i = i+1\n",
    "    if i>=21:\n",
    "        break"
   ]
  },
  {
   "cell_type": "code",
   "execution_count": null,
   "id": "83765f66",
   "metadata": {},
   "outputs": [],
   "source": [
    "for i in range(1,21):\n",
    "    print(i)\n"
   ]
  },
  {
   "cell_type": "code",
   "execution_count": null,
   "id": "99467120",
   "metadata": {},
   "outputs": [],
   "source": [
    "i = 1\n",
    "while True:\n",
    "    print(i)\n",
    "    i = i+1\n",
    "    if i>=21:\n",
    "        break\n",
    "    \n",
    "       \n",
    "        \n",
    "        \n",
    "    "
   ]
  },
  {
   "cell_type": "code",
   "execution_count": null,
   "id": "774ba538",
   "metadata": {},
   "outputs": [],
   "source": [
    "for i in range(1,11):\n",
    "    print(i,i**2,i**3)\n"
   ]
  },
  {
   "cell_type": "code",
   "execution_count": null,
   "id": "c42f9c26",
   "metadata": {},
   "outputs": [],
   "source": [
    "#CREATE A ROLLING DICE GAME, THE GAME SHOULD ASSUME TWO DICE \n",
    "#(#1, and #2) ARE BEING THROWN AND A RANDOM NUMBER IS GENERATED EVERYTIME. \n",
    "#THE GAME SHOULD PROMPT THE USER TO ASK IF HE/SHE WOULD LIKE TO KEEP PLAYING OR\n",
    "#NOT\n",
    "import random\n",
    "a = []\n",
    "while a == 'y':\n",
    "    x = random.randint(1,6)\n",
    "    a.append(x)\n",
    "    y = random.randint(1,6)\n",
    "    a.append(y)\n",
    "print(a)   \n",
    "    \n"
   ]
  },
  {
   "cell_type": "code",
   "execution_count": null,
   "id": "23ea4d3b",
   "metadata": {},
   "outputs": [],
   "source": [
    "a = int(input(\"Enter The Number To Multiply = \"))\n",
    "for i in range(1,8):\n",
    "    print(i,'x',a,'-',i*a)\n"
   ]
  },
  {
   "cell_type": "markdown",
   "id": "860bdb58",
   "metadata": {},
   "source": [
    "# Day 13 PYTHON"
   ]
  },
  {
   "cell_type": "code",
   "execution_count": null,
   "id": "7e0efd8d",
   "metadata": {},
   "outputs": [],
   "source": [
    "List_1 = [12,23,34,45,56,67,78,89,90]\n",
    "Results = [ \"even\" if i%2==0 else \"odd\" for i in List_1]\n",
    "Results"
   ]
  },
  {
   "cell_type": "code",
   "execution_count": null,
   "id": "20b056a4",
   "metadata": {},
   "outputs": [],
   "source": [
    "#write a code that takes maximium and mininum limit from\n",
    "#user and print some of the even numbers only between the provided range\n",
    "max = int(input(\"Enter  the Maximum Limit : \"))\n",
    "min = int(input(\"Enter  the Minimum Limit : \"))\n",
    "for i in range(1,24):\n",
    "    if i%2==0:\n",
    "        print(i)\n",
    "print(\"The Even Number in The Provided Range\".format(max,min))\n",
    "    \n",
    "\n"
   ]
  },
  {
   "cell_type": "code",
   "execution_count": null,
   "id": "4439445c",
   "metadata": {},
   "outputs": [],
   "source": [
    "str1 = 'Hello World'\n",
    "for i in str1:\n",
    "    if i == 'o':\n",
    "         continue\n",
    "    print(i)"
   ]
  },
  {
   "cell_type": "code",
   "execution_count": null,
   "id": "7f831a7c",
   "metadata": {},
   "outputs": [],
   "source": [
    "#WRITE A CODE THAT TAKES A LIST OF TEMPERATURES FROM A USER \n",
    "#AND CONVERT THEM FROM CELCIUS TO FEHRENHEIT \n",
    "#(using list comprehension)\n",
    "c = input(\"Enter List of  Temperature\")\n",
    "C = c.split(' ')\n",
    "f = [9/5*int(i)+32 for i in C ]\n",
    "print(f)"
   ]
  },
  {
   "cell_type": "code",
   "execution_count": null,
   "id": "c06bc5fc",
   "metadata": {},
   "outputs": [],
   "source": [
    "c = input(\"Enter List of  Temperature\")\n",
    "C = c.split()\n",
    "f = [9/5*int(i)+32 for i in C ]\n",
    "print(f)"
   ]
  },
  {
   "cell_type": "code",
   "execution_count": null,
   "id": "bca31795",
   "metadata": {},
   "outputs": [],
   "source": [
    "c = input(\"Enter List of  Temperature\")\n",
    "temp_c = [int(x) for x in c.split() ]\n",
    "temp_c"
   ]
  },
  {
   "cell_type": "code",
   "execution_count": null,
   "id": "6c7df049",
   "metadata": {
    "collapsed": true
   },
   "outputs": [
    {
     "name": "stdout",
     "output_type": "stream",
     "text": [
      "abcdefghijklmnopqrstuvwxyzABCDEFGHIJKLMNOPQRSTUVWXYZ0123456789!\"#$%&'()*+,-./:;<=>?@[\\]^_`{|}~\n"
     ]
    }
   ],
   "source": [
    "#CREATE A PASSWORD GENERATOR THAT TAKES THE REQUIRED \n",
    "#PASSWORD LENGTH FROM THE USER AND GENERATE A PASSWORD. \n",
    "#THE PASSWORD SHOULD BE A MIX OF CHARACTERS, NUMBERS \n",
    "#AND SPECIAL CHARACTERS\n",
    "import string\n",
    "import random\n",
    "letters = string.ascii_letters\n",
    "letters\n",
    "random.choice(string.ascii_letters)\n",
    "digits = string.digits\n",
    "digits\n",
    "special_chars = string.punctuation\n",
    "selection_list = letters+digits+special_chars\n",
    "print(selection_list)\n",
    "length = int(input(\"Enter The Length Of The Password\"))\n",
    "password = \"\"\n",
    "for i in range(0,length):\n",
    "    password = password + random.choice(selection_list)\n",
    "print(password)"
   ]
  },
  {
   "cell_type": "code",
   "execution_count": null,
   "id": "e50ce7a1",
   "metadata": {},
   "outputs": [],
   "source": [
    "a = input(\"Enter The String : \")\n",
    "b = a.sort()\n",
    "b"
   ]
  },
  {
   "cell_type": "markdown",
   "id": "a65fcb03",
   "metadata": {},
   "source": [
    "# DAY 14 PYTHON"
   ]
  },
  {
   "cell_type": "code",
   "execution_count": null,
   "id": "f414dcd1",
   "metadata": {},
   "outputs": [],
   "source": [
    "for i  in range(100,900):\n",
    "    if i%2==0:\n",
    "        print(\"{} \".format(i))\n",
    "    "
   ]
  },
  {
   "cell_type": "code",
   "execution_count": null,
   "id": "54a320fb",
   "metadata": {},
   "outputs": [],
   "source": [
    "#FUNCTIONS\n",
    "#A function is a block of code that can run whenever it is called (by the main function for example).\n",
    "#Data or arguments can be passed to the function and also returned from the function.\n",
    "def my_function():\n",
    "    print(\"Hello World\")\n",
    "my_function()\n"
   ]
  },
  {
   "cell_type": "code",
   "execution_count": null,
   "id": "14e4265f",
   "metadata": {},
   "outputs": [],
   "source": [
    "def cube(x):\n",
    "    print(x**3)\n",
    "cube(3)"
   ]
  },
  {
   "cell_type": "code",
   "execution_count": null,
   "id": "be224ee5",
   "metadata": {},
   "outputs": [],
   "source": [
    "def square(x):\n",
    "    print(x**2)\n",
    "square(7)\n",
    "    "
   ]
  },
  {
   "cell_type": "code",
   "execution_count": null,
   "id": "271eb7c5",
   "metadata": {},
   "outputs": [],
   "source": [
    "cube(4)\n",
    "square(8)"
   ]
  },
  {
   "cell_type": "code",
   "execution_count": null,
   "id": "4db93291",
   "metadata": {},
   "outputs": [],
   "source": [
    "#with return\n",
    "def sq2(x):\n",
    "    return x**2\n",
    "sq2(2)\n",
    "    "
   ]
  },
  {
   "cell_type": "code",
   "execution_count": null,
   "id": "a7d5766d",
   "metadata": {},
   "outputs": [],
   "source": [
    "a = sq2(6)\n",
    "a"
   ]
  },
  {
   "cell_type": "code",
   "execution_count": null,
   "id": "b4967146",
   "metadata": {},
   "outputs": [],
   "source": [
    "def multiply(x,y):\n",
    "    return x*y\n",
    "multiply(2,3)"
   ]
  },
  {
   "cell_type": "code",
   "execution_count": null,
   "id": "e3d16cf6",
   "metadata": {},
   "outputs": [],
   "source": [
    "def my_function(age = 20):\n",
    "    print(\"I am {} Years Old\".format(age))\n",
    "my_function()"
   ]
  },
  {
   "cell_type": "code",
   "execution_count": null,
   "id": "04b1e0ea",
   "metadata": {},
   "outputs": [],
   "source": [
    "def summation(x = 70,y=77):\n",
    "    return x+y\n",
    "summation()"
   ]
  },
  {
   "cell_type": "code",
   "execution_count": null,
   "id": "a3232c8a",
   "metadata": {},
   "outputs": [],
   "source": [
    "summation(x=7,y=7)"
   ]
  },
  {
   "cell_type": "code",
   "execution_count": null,
   "id": "e9aec4f9",
   "metadata": {},
   "outputs": [],
   "source": [
    "summation(y=10)"
   ]
  },
  {
   "cell_type": "code",
   "execution_count": null,
   "id": "faa103f5",
   "metadata": {},
   "outputs": [],
   "source": [
    "def greetings_function(name,greetings):\n",
    "    print(\"Happy New Year {},I Wish You {}\".format(name,greetings))\n",
    "greetings_function(\"Mohit\",\"A Happy Year\")"
   ]
  },
  {
   "cell_type": "code",
   "execution_count": null,
   "id": "d30c50a3",
   "metadata": {},
   "outputs": [],
   "source": [
    "import math\n",
    "math.sqrt(64)"
   ]
  },
  {
   "cell_type": "code",
   "execution_count": null,
   "id": "97fcd0c0",
   "metadata": {},
   "outputs": [],
   "source": [
    "def circle(r):\n",
    "    return(2*r,3.14*r**2)\n",
    "circle(7)"
   ]
  },
  {
   "cell_type": "code",
   "execution_count": null,
   "id": "79a18a17",
   "metadata": {},
   "outputs": [],
   "source": [
    "name_list = ['Mohit','Shivam','Rohan','Mayur','Rohit']\n",
    "greetings_list = ['Happy','Emotion','Evil','Angry','Good']\n",
    "for i,j in zip(name_list,greetings_list):\n",
    "    greetings_function(i,j)"
   ]
  },
  {
   "cell_type": "markdown",
   "id": "fb281891",
   "metadata": {},
   "source": [
    "# DAY 15 PYTHON"
   ]
  },
  {
   "cell_type": "code",
   "execution_count": null,
   "id": "5d65c50b",
   "metadata": {},
   "outputs": [],
   "source": [
    "#Lamba exression\n",
    "#Lambda function is a way to create small anonymous functions (without a name).\n",
    "#Lambda functions are mainly used with filter(), map() and reduce().\n",
    "#It can take any number of arguments, but can only have one expression.\n"
   ]
  },
  {
   "cell_type": "code",
   "execution_count": null,
   "id": "7b9d082c",
   "metadata": {},
   "outputs": [],
   "source": [
    "# method 1 for loop\n",
    "s = []\n",
    "for i in range(1,11):\n",
    "    s.append(i**2)\n",
    "s"
   ]
  },
  {
   "cell_type": "code",
   "execution_count": null,
   "id": "8749c481",
   "metadata": {},
   "outputs": [],
   "source": [
    "# method 2 for loop\n",
    "[ i**2 for i in range(1,11)]"
   ]
  },
  {
   "cell_type": "code",
   "execution_count": null,
   "id": "ac013858",
   "metadata": {},
   "outputs": [],
   "source": [
    "def my_function(x):\n",
    "    return x**2\n",
    "my_function(11)"
   ]
  },
  {
   "cell_type": "code",
   "execution_count": null,
   "id": "ac976e35",
   "metadata": {},
   "outputs": [],
   "source": [
    "lambda x : x**2 #lambda input:output\n"
   ]
  },
  {
   "cell_type": "code",
   "execution_count": null,
   "id": "b178c007",
   "metadata": {},
   "outputs": [],
   "source": [
    "#lambda expression\n",
    "y = lambda x:x**2\n",
    "y(11)"
   ]
  },
  {
   "cell_type": "code",
   "execution_count": null,
   "id": "cf1a2459",
   "metadata": {},
   "outputs": [],
   "source": [
    "def summation(x,y,z):\n",
    "    return x+y+z\n",
    "summation(1,2,3)"
   ]
  },
  {
   "cell_type": "code",
   "execution_count": null,
   "id": "4b185e8e",
   "metadata": {},
   "outputs": [],
   "source": [
    "r = lambda x,y,z : x+y+z \n",
    "r(1,2,3)"
   ]
  },
  {
   "cell_type": "code",
   "execution_count": null,
   "id": "96f3f3c3",
   "metadata": {},
   "outputs": [],
   "source": [
    "#MAP\n",
    "#The map() function takes in a function and a list.\n",
    "#The function perform an operation on the entire list and return the results in a ne"
   ]
  },
  {
   "cell_type": "code",
   "execution_count": null,
   "id": "4beb88ff",
   "metadata": {},
   "outputs": [],
   "source": [
    "def summation(a,b):\n",
    "    return a*b\n",
    "a = [1,4,5,6,9]\n",
    "b = [1,7,9,12,7]"
   ]
  },
  {
   "cell_type": "code",
   "execution_count": null,
   "id": "90af8600",
   "metadata": {},
   "outputs": [],
   "source": [
    "#method1\n",
    "c = []\n",
    "for i,j in zip(a,b):\n",
    "    c.append(i+j)\n",
    "c"
   ]
  },
  {
   "cell_type": "code",
   "execution_count": null,
   "id": "27068174",
   "metadata": {},
   "outputs": [],
   "source": [
    "#method2\n",
    "[ i+j for i,j in zip(a,b)]"
   ]
  },
  {
   "cell_type": "code",
   "execution_count": null,
   "id": "afe65f2c",
   "metadata": {},
   "outputs": [],
   "source": [
    "u = list(map(lambda x,y : x+y ,a,b))\n",
    "u"
   ]
  },
  {
   "cell_type": "code",
   "execution_count": null,
   "id": "12626b48",
   "metadata": {},
   "outputs": [],
   "source": [
    "#function multiply\n",
    "#map\n",
    "a = [1,4,5,6,9]\n",
    "b = [1,7,9,12,7]\n",
    "def multiply(x,y):\n",
    "    return x*y\n",
    "c = list(map(multiply, a, b))\n",
    "c\n",
    "    "
   ]
  },
  {
   "cell_type": "code",
   "execution_count": null,
   "id": "83390c93",
   "metadata": {},
   "outputs": [],
   "source": [
    "my_list = [1,2,3,4]\n",
    "out_list = list(map(lambda x : x**2 , my_list))\n",
    "out_list"
   ]
  },
  {
   "cell_type": "code",
   "execution_count": null,
   "id": "7d734c9c",
   "metadata": {},
   "outputs": [],
   "source": [
    "a = [1,4,5,6,9]\n",
    "b = [1,7,9,12,7]\n",
    "c = list(map(lambda a,b : a*b,a,b))\n",
    "c"
   ]
  },
  {
   "cell_type": "markdown",
   "id": "438e1d3f",
   "metadata": {},
   "source": [
    "# DAY 16 PYTHON"
   ]
  },
  {
   "cell_type": "code",
   "execution_count": null,
   "id": "2fad8691",
   "metadata": {},
   "outputs": [],
   "source": [
    "my_list = [10,20,80,45,46,56]\n",
    "out_list = list(filter(lambda x: (x%2==0),my_list))\n",
    "out_list"
   ]
  },
  {
   "cell_type": "code",
   "execution_count": null,
   "id": "cb52fac2",
   "metadata": {},
   "outputs": [],
   "source": [
    "mylist_age = [5,23,56,32,34,56,22,34]\n",
    "out = list(filter(lambda x : (x>=21),mylist_age))\n",
    "out"
   ]
  },
  {
   "cell_type": "code",
   "execution_count": null,
   "id": "84841f8c",
   "metadata": {},
   "outputs": [],
   "source": [
    "out = list(filter(lambda x : (x>=21 and x<=60 ),mylist_age))\n",
    "out"
   ]
  },
  {
   "cell_type": "markdown",
   "id": "705fd1e8",
   "metadata": {},
   "source": [
    "# Reduce"
   ]
  },
  {
   "cell_type": "code",
   "execution_count": null,
   "id": "4ad7efe1",
   "metadata": {},
   "outputs": [],
   "source": [
    "from functools import reduce\n",
    "a = [2,3,4,5,6,7,4,3]\n",
    "sum1 = reduce(lambda a,b:a+b , a)\n",
    "sum1"
   ]
  },
  {
   "cell_type": "code",
   "execution_count": null,
   "id": "2b56f7d5",
   "metadata": {},
   "outputs": [],
   "source": [
    "type(sum1)"
   ]
  },
  {
   "cell_type": "code",
   "execution_count": null,
   "id": "fc6196b3",
   "metadata": {},
   "outputs": [],
   "source": [
    "a = list(\"watermelon\")\n",
    "a"
   ]
  },
  {
   "cell_type": "code",
   "execution_count": null,
   "id": "f3b66993",
   "metadata": {},
   "outputs": [],
   "source": [
    "reduce(lambda x,y : x+y,a)"
   ]
  },
  {
   "cell_type": "code",
   "execution_count": null,
   "id": "7bbf87d6",
   "metadata": {},
   "outputs": [],
   "source": [
    "#WRITE A FUNCTION THAT TAKES 2 VARIABLES FROM THE USER AND \n",
    "#OBTAIN THE SUMMATION AND MULTIPLICATION, THEN TEST THE FUNCTION \n",
    "#BY TAKING AN INPUT FROM A USER (REPEAT USING LAMBDA EXPRESSIONS)"
   ]
  },
  {
   "cell_type": "code",
   "execution_count": null,
   "id": "e24db404",
   "metadata": {},
   "outputs": [],
   "source": [
    "a1 = int(input(\"Enter A Variable : \"))\n",
    "a2 = int(input(\"Enter A Variable : \"))\n",
    "def summation(a1,a2):\n",
    "    return a1+a2\n",
    "def multiply(a1,a2):\n",
    "    return a1*a2\n",
    "summation(a1,a2)\n",
    "multiply(a1,a2)"
   ]
  },
  {
   "cell_type": "code",
   "execution_count": null,
   "id": "d654cd38",
   "metadata": {},
   "outputs": [],
   "source": [
    "x1 = int(input(\"Enter A Variable : \"))\n",
    "x2 = int(input(\"Enter A Variable : \"))\n",
    "summation = lambda x1,x2: x1+x2\n",
    "multiply = lambda x1,x2: x1*x2\n",
    "multiply(x1,x2)"
   ]
  },
  {
   "cell_type": "code",
   "execution_count": null,
   "id": "3d82ce4d",
   "metadata": {},
   "outputs": [],
   "source": [
    "summation(x1,x2)"
   ]
  },
  {
   "cell_type": "code",
   "execution_count": null,
   "id": "af0cf7d9",
   "metadata": {},
   "outputs": [],
   "source": [
    "#WRITE A FUNCTION THAT SQUARES A VARIABLE AND THEN APPLY THE \n",
    "#FUNCTION TO A LIST OF INTEGER NUMBERS RANING FROM -20 to 20"
   ]
  },
  {
   "cell_type": "code",
   "execution_count": null,
   "id": "82d7d053",
   "metadata": {},
   "outputs": [],
   "source": [
    "def square(x):\n",
    "    return x*x\n",
    "y =  range(-20,21)\n",
    "z = list(map(lambda x:square(x),y))\n",
    "print(z)"
   ]
  },
  {
   "cell_type": "code",
   "execution_count": null,
   "id": "9e5aaad5",
   "metadata": {},
   "outputs": [],
   "source": [
    "def square(x):\n",
    "    return x*x\n",
    "y =  range(-20,21)\n",
    "z = list(map(lambda x:x*x,y))\n",
    "print(z)"
   ]
  },
  {
   "cell_type": "markdown",
   "id": "432ef8ce",
   "metadata": {},
   "source": [
    "# Day 17 Python"
   ]
  },
  {
   "cell_type": "code",
   "execution_count": null,
   "id": "b7ec5c36",
   "metadata": {},
   "outputs": [],
   "source": [
    "#DEFINE AN ENGLISH TO FRENCH TRANSLATOR FUNCTION THAT TAKES AN INPUT FROM A USER AND RETURNS THE TRANSLATION, \n",
    "#USE ANY 5 KNOWN WORDS\n",
    "eng_french = {'happy': 'heureux', 'success': 'Succès', 'studying': 'en train d\\'étudier','traveling': 'en voyageant','love': 'amour'}\n",
    "def dictionary_english2french(word):\n",
    "    if word in eng_french:\n",
    "        return emg_french(word)\n",
    "    else:\n",
    "        return \"Dictionary does not contain this word\"\n",
    "word_to_translate = \"Mohit\"\n",
    "translation = dictionary_english2french(word_to_translate)\n",
    "print(f\"The Translation of '{word_to_translate}' is '{translation}'\")"
   ]
  },
  {
   "cell_type": "code",
   "execution_count": null,
   "id": "98deef25",
   "metadata": {},
   "outputs": [],
   "source": [
    "#lambda methodd\n",
    "eng_french = {'happy': 'heureux', \n",
    "              'success': 'Succès', \n",
    "              'studying': 'en train d\\'étudier',\n",
    "              'traveling': 'en voyageant',\n",
    "              'love': 'amour'}\n",
    "dictionary_English2French = lambda word : eng_french[word] if word in eng_frenchelse else \"Dicionary does not contain this side\"\n",
    "word_to_translate = \"Sharma\"\n",
    "translation = dictionary_english2french(word_to_translate)\n",
    "print(f\"The Translation of '{word_to_translate}' is '{translation}'\")"
   ]
  },
  {
   "cell_type": "code",
   "execution_count": null,
   "id": "ee053c33",
   "metadata": {},
   "outputs": [],
   "source": [
    "#Using Try and Except\n",
    "eng_french = {'happy': 'heureux', \n",
    "              'success': 'Succès', \n",
    "              'studying': 'en train d\\'étudier',\n",
    "              'traveling': 'en voyageant',\n",
    "              'love': 'amour'}\n",
    "def dictionary_english2french(word):\n",
    "    try:\n",
    "        return eng_french(word)\n",
    "    except KeyError:\n",
    "        return \"Dictionary does not exist\"\n",
    "word = input(\"Enter a Word in English : \".lower())\n",
    "print(dictionary_english2french(word))\n"
   ]
  },
  {
   "cell_type": "code",
   "execution_count": null,
   "id": "c2704b0c",
   "metadata": {},
   "outputs": [],
   "source": [
    "#WRITE A FUNCTION THAT TAKES TWO NUMPY MATRICES AND RETURN THE ADDITION, SUBTRACTION, TRANSPOSE, PRODUCT, DOT PRODUCT\n",
    "def matrix_operations(a, b):\n",
    "  \n",
    "    print (\"Matrices Addition = \\n\", np.add(a, b)) \n",
    "  \n",
    "    print (\"Matrices Subtraction = \\n\", np.subtract(a, b)) \n",
    "  \n",
    "    print (\"Matrices Multiplication = \\n\", np.divide(a, b)) \n",
    " \n",
    "    print (\"Matrix A Transpose = \\n\", a.T) \n",
    "    \n",
    "    print (\"Matrix B Transpose = \\n\", b.T) \n",
    " \n",
    "    print (\"Element by element multiplication = \\n\", np.multiply(a,b)) \n",
    " \n",
    "    print (\"Matrices Product = \\n\", np.dot(a,b)) \n",
    " \n",
    "    print (\"Element by element square root = \\n\", np.sqrt(a)) \n",
    " \n",
    "    print (\"Summation of all matrix elements A = \\n\", np.sum(a))  \n",
    "    \n",
    "    print (\"Summation of all matrix elements B = \\n\", np.sum(b)) \n",
    " \n",
    "    print (\"Column wise summation of matrix A = \\n \", np.sum(a, axis = 0)) \n",
    "  \n",
    "    print (\"Row wise summation of matrix A = \\n\", np.sum(a, axis = 1))\n",
    " \n",
    "\n",
    " \n",
    "\n",
    "import numpy as np\n",
    "x = np.array([[3, 9], \n",
    "                 [8, 5]]) \n",
    "y = np.array([[2, 3], \n",
    "                 [1, 7]]) \n",
    "matrix_operations(x, y)"
   ]
  },
  {
   "cell_type": "markdown",
   "id": "fbcdc64f",
   "metadata": {},
   "source": [
    "# DAY 18 PYTHON"
   ]
  },
  {
   "cell_type": "code",
   "execution_count": null,
   "id": "e6eb4501",
   "metadata": {},
   "outputs": [],
   "source": [
    "# TEXT FILES\n",
    "# open() is the key function to handle files\n",
    "\n",
    "# open() function takes two parameters; filename, and mode.\n",
    "\n",
    "# Modes for files opening:\n",
    "\n",
    "# \"r\" - Read - Default value. Opens a file for reading, error if the file does not exist\n",
    "# \"a\" - Append - Opens a file for appending, creates the file if it does not exist\n",
    "# \"w\" - Write - Opens a file for writing, creates the file if it does not exist\n",
    "# \"x\" - Create - Creates the specified file, returns an error if the file exists\n",
    "#                files can be used in a binary or text mode\n",
    "# \"t\" - Text - Default value. Text mode\n",
    "# \"b\" - Binary - Binary mode (e.g. images)"
   ]
  },
  {
   "cell_type": "code",
   "execution_count": null,
   "id": "ae09c7ef",
   "metadata": {},
   "outputs": [],
   "source": [
    "# Syntax  --->  f=open('filename','mode')"
   ]
  },
  {
   "cell_type": "code",
   "execution_count": 8,
   "id": "2af2a1de",
   "metadata": {},
   "outputs": [
    {
     "name": "stdout",
     "output_type": "stream",
     "text": [
      "I Am Completing My Data Science And Data Analtst Course With AI From Itvedant.\n"
     ]
    }
   ],
   "source": [
    "f = open(r'C:\\Users\\Mohit\\Desktop\\Admin\\sample.txt','r')\n",
    "print(f.read())\n",
    "f.close()"
   ]
  },
  {
   "cell_type": "code",
   "execution_count": 15,
   "id": "7018366d",
   "metadata": {
    "scrolled": true
   },
   "outputs": [
    {
     "name": "stdout",
     "output_type": "stream",
     "text": [
      "I Am Completing My Data Science And Data Analtst Course With AI From Itvedant.\n"
     ]
    }
   ],
   "source": [
    "f = open(r'C:\\Users\\Mohit\\Admin/sample.txt','r')\n",
    "print(f.read())\n",
    "f.close()"
   ]
  },
  {
   "cell_type": "code",
   "execution_count": 18,
   "id": "0bc774df",
   "metadata": {},
   "outputs": [
    {
     "name": "stdout",
     "output_type": "stream",
     "text": [
      "I Am Completing My Data Science And Data Analtst Course With AI From Itvedant.\n"
     ]
    }
   ],
   "source": [
    "f = open(r'Sample.txt','r')\n",
    "print(f.read())\n",
    "f.close()"
   ]
  },
  {
   "cell_type": "code",
   "execution_count": 22,
   "id": "bc380f91",
   "metadata": {
    "scrolled": true
   },
   "outputs": [
    {
     "name": "stdout",
     "output_type": "stream",
     "text": [
      "I Am Completing My Data Science And Data Analtst Course With AI From Itvedant.\n",
      "Nothing ever goes as planned in this accursed world\n"
     ]
    }
   ],
   "source": [
    "f = open('Sample.txt','a')\n",
    "f.write('\\nNothing ever goes as planned in this accursed world')\n",
    "f.close()\n",
    "f=open('Sample.txt','r')\n",
    "print(f.read())\n",
    "f.close()"
   ]
  },
  {
   "cell_type": "code",
   "execution_count": 1,
   "id": "08942803",
   "metadata": {
    "collapsed": true
   },
   "outputs": [
    {
     "ename": "FileExistsError",
     "evalue": "[Errno 17] File exists: 'Sample.txt'",
     "output_type": "error",
     "traceback": [
      "\u001b[1;31m---------------------------------------------------------------------------\u001b[0m",
      "\u001b[1;31mFileExistsError\u001b[0m                           Traceback (most recent call last)",
      "Cell \u001b[1;32mIn[1], line 1\u001b[0m\n\u001b[1;32m----> 1\u001b[0m f\u001b[38;5;241m=\u001b[39m\u001b[38;5;28mopen\u001b[39m(\u001b[38;5;124m'\u001b[39m\u001b[38;5;124mSample.txt\u001b[39m\u001b[38;5;124m'\u001b[39m,\u001b[38;5;124m'\u001b[39m\u001b[38;5;124mx\u001b[39m\u001b[38;5;124m'\u001b[39m)\n\u001b[0;32m      2\u001b[0m f\u001b[38;5;241m.\u001b[39mclose()\n",
      "File \u001b[1;32m~\\anaconda3\\Lib\\site-packages\\IPython\\core\\interactiveshell.py:286\u001b[0m, in \u001b[0;36m_modified_open\u001b[1;34m(file, *args, **kwargs)\u001b[0m\n\u001b[0;32m    279\u001b[0m \u001b[38;5;28;01mif\u001b[39;00m file \u001b[38;5;129;01min\u001b[39;00m {\u001b[38;5;241m0\u001b[39m, \u001b[38;5;241m1\u001b[39m, \u001b[38;5;241m2\u001b[39m}:\n\u001b[0;32m    280\u001b[0m     \u001b[38;5;28;01mraise\u001b[39;00m \u001b[38;5;167;01mValueError\u001b[39;00m(\n\u001b[0;32m    281\u001b[0m         \u001b[38;5;124mf\u001b[39m\u001b[38;5;124m\"\u001b[39m\u001b[38;5;124mIPython won\u001b[39m\u001b[38;5;124m'\u001b[39m\u001b[38;5;124mt let you open fd=\u001b[39m\u001b[38;5;132;01m{\u001b[39;00mfile\u001b[38;5;132;01m}\u001b[39;00m\u001b[38;5;124m by default \u001b[39m\u001b[38;5;124m\"\u001b[39m\n\u001b[0;32m    282\u001b[0m         \u001b[38;5;124m\"\u001b[39m\u001b[38;5;124mas it is likely to crash IPython. If you know what you are doing, \u001b[39m\u001b[38;5;124m\"\u001b[39m\n\u001b[0;32m    283\u001b[0m         \u001b[38;5;124m\"\u001b[39m\u001b[38;5;124myou can use builtins\u001b[39m\u001b[38;5;124m'\u001b[39m\u001b[38;5;124m open.\u001b[39m\u001b[38;5;124m\"\u001b[39m\n\u001b[0;32m    284\u001b[0m     )\n\u001b[1;32m--> 286\u001b[0m \u001b[38;5;28;01mreturn\u001b[39;00m io_open(file, \u001b[38;5;241m*\u001b[39margs, \u001b[38;5;241m*\u001b[39m\u001b[38;5;241m*\u001b[39mkwargs)\n",
      "\u001b[1;31mFileExistsError\u001b[0m: [Errno 17] File exists: 'Sample.txt'"
     ]
    }
   ],
   "source": [
    "f=open('Sample.txt','x')\n",
    "f.close()"
   ]
  },
  {
   "cell_type": "code",
   "execution_count": 25,
   "id": "b39276dd",
   "metadata": {},
   "outputs": [
    {
     "name": "stdout",
     "output_type": "stream",
     "text": [
      "['I Am Completing My Data Science And Data Analtst Course With AI From Itvedant.\\n', 'Nothing ever goes as planned in this accursed world']\n"
     ]
    }
   ],
   "source": [
    "with open('Sample.txt','r') as f:\n",
    "    text_data1=f.readlines()\n",
    "print(text_data1)"
   ]
  },
  {
   "cell_type": "code",
   "execution_count": 27,
   "id": "1f3c3ae7",
   "metadata": {},
   "outputs": [
    {
     "name": "stdout",
     "output_type": "stream",
     "text": [
      "I Am Completing My Data Science And Data Analtst Course With AI From Itvedant.\n",
      "Nothing ever goes as planned in this accursed world\n"
     ]
    }
   ],
   "source": [
    "with open('Sample.txt','r') as f:\n",
    "    text_data=f.read()\n",
    "print(text_data)"
   ]
  },
  {
   "cell_type": "code",
   "execution_count": 28,
   "id": "234597b3",
   "metadata": {},
   "outputs": [
    {
     "name": "stdout",
     "output_type": "stream",
     "text": [
      "I Am Completing My Data Science And Data Analtst Course With AI From Itvedant.\n",
      "Nothing ever goes as planned in this accursed world\n"
     ]
    }
   ],
   "source": [
    "f=open('Sample.txt','r')\n",
    "print(f.read())\n",
    "f.close()"
   ]
  },
  {
   "cell_type": "markdown",
   "id": "6854d017",
   "metadata": {},
   "source": [
    "# DAY 19 PYTHON"
   ]
  },
  {
   "cell_type": "code",
   "execution_count": null,
   "id": "3ac59865",
   "metadata": {},
   "outputs": [],
   "source": [
    "Regular Expression\n",
    "Many linguistic processing tasks involve pattern matching.\n",
    "\n",
    "For example, we can find words ending with ed using endswith('ed').\n",
    "\n",
    "Regular expressions give us a more powerful and flexible method for describing the character patterns we are interested in.\n",
    "\n",
    "Pattern Matching with Regular Expression\n",
    " \n",
    "\n",
    "Basic Regular Expression Meta-Characters, Including Wildcards, Ranges and Closures\n",
    "\n",
    "Operator ---> Behavior\n",
    "\n",
    ". ---> Wildcard, matches any character\n",
    "\n",
    "^abc ---> Matches some pattern abc at the start of a string\n",
    "\n",
    "abc$ ---> Matches some pattern abc at the end of a string\n",
    "\n",
    "[abc] ---> Matches one of a set of characters\n",
    "\n",
    "[A-Z0-9] ---> Matches one of a range of characters\n",
    "\n",
    "ed|ing|s ---> Matches one of the specified strings (disjunction)\n",
    "\n",
    "* ---> Zero or more of previous item, e.g. a, [a-z] (also known as Kleene Closure)\n",
    "\n",
    "+ ---> One or more of previous item, e.g. a+, [a-z]+\n",
    "\n",
    "? ---> Zero or one of the previous item (i.e. optional), e.g. a?, [a-z]?\n",
    "\n",
    "{n} ---> Exactly n repeats where n is a non-negative integer\n",
    "\n",
    "{n,} ---> At least n repeats\n",
    "\n",
    "{,n} ---> No more than n repeats\n",
    "\n",
    "{m,n} ---> At least m and no more than n repeats\n",
    "\n",
    "a(b|c)+ ---> Parentheses that indicate the scope of the operators"
   ]
  },
  {
   "cell_type": "code",
   "execution_count": null,
   "id": "edb21366",
   "metadata": {},
   "outputs": [],
   "source": [
    "import re\n",
    " \n",
    "# Sample text data\n",
    "text = \"\"\"\n",
    "This is a sample text with +91-8591052098 some email addresses.\n",
    "You can mohit@gmail.com reach % me at sharma.doe@example.com or lobo_smith1234@email.co.uk.\n",
    "Please +91-9234232312 contact support@example.org for assistance.\n",
    "\"\"\"\n",
    " \n",
    "# Define a regular expression pattern for matching email addresses\n",
    "email_pattern = r'\\b[A-Za-z0-9._%+-]+@[A-Za-z0-9.-]+\\.[A-Z|a-z]{2,7}\\b'\n",
    "phone_number_pattern = r'\\+\\d{2}-\\d{10}'\n",
    "extra = \"[A-Z0-9]\"\n",
    " \n",
    "# Find all email addresses in the text\n",
    "email_addresses = re.findall(email_pattern,text)\n",
    "phone_number = re.findall(phone_number_pattern,text)\n",
    "# Print the found email addresses\n",
    "for email in email_addresses:\n",
    "    print(email)\n",
    "# Print the found phone numbers\n",
    "for phone in phone_number:\n",
    "    print(phone)"
   ]
  },
  {
   "cell_type": "markdown",
   "id": "9a1538d0",
   "metadata": {},
   "source": [
    "# Day 20 Python"
   ]
  },
  {
   "cell_type": "code",
   "execution_count": 3,
   "id": "fcaf39e6",
   "metadata": {},
   "outputs": [
    {
     "data": {
      "text/plain": [
       "<Response [200]>"
      ]
     },
     "execution_count": 3,
     "metadata": {},
     "output_type": "execute_result"
    }
   ],
   "source": [
    "import requests\n",
    "from bs4 import BeautifulSoup\n",
    "#creating the object to bold to page source content\n",
    "page = requests.get('https://forecast.weather.gov/MapClick.php?lat=37.7772&lon=-122.4168')\n",
    "page"
   ]
  },
  {
   "cell_type": "code",
   "execution_count": 4,
   "id": "3f1d30d4",
   "metadata": {
    "collapsed": true
   },
   "outputs": [
    {
     "data": {
      "text/plain": [
       "b'<!DOCTYPE html>\\n<html class=\"no-js\">\\n    <head>\\n        <!-- Meta -->\\n        <meta name=\"viewport\" content=\"width=device-width\">\\n        <link rel=\"schema.DC\" href=\"http://purl.org/dc/elements/1.1/\" /><title>National Weather Service</title><meta name=\"DC.title\" content=\"National Weather Service\" /><meta name=\"DC.description\" content=\"NOAA National Weather Service National Weather Service\" /><meta name=\"DC.creator\" content=\"US Department of Commerce, NOAA, National Weather Service\" /><meta name=\"DC.date.created\" scheme=\"ISO8601\" content=\"\" /><meta name=\"DC.language\" scheme=\"DCTERMS.RFC1766\" content=\"EN-US\" /><meta name=\"DC.keywords\" content=\"weather, National Weather Service\" /><meta name=\"DC.publisher\" content=\"NOAA\\'s National Weather Service\" /><meta name=\"DC.contributor\" content=\"National Weather Service\" /><meta name=\"DC.rights\" content=\"//www.weather.gov/disclaimer.php\" /><meta name=\"rating\" content=\"General\" /><meta name=\"robots\" content=\"index,follow\" />\\n\\n        <!-- Icons -->\\n        <link rel=\"shortcut icon\" href=\"./images/favicon.ico\" type=\"image/x-icon\" />\\n\\n        <!-- CSS -->\\n        <link rel=\"stylesheet\" href=\"css/bootstrap-3.2.0.min.css\">\\n        <link rel=\"stylesheet\" href=\"css/bootstrap-theme-3.2.0.min.css\">\\n        <link rel=\"stylesheet\" href=\"css/font-awesome-4.3.0.min.css\">\\n        <link rel=\"stylesheet\" href=\"css/ol-4.6.4.css\" type=\"text/css\">\\n        <link rel=\"stylesheet\" type=\"text/css\" href=\"css/mapclick.css\" />\\n        <!--[if lte IE 7]><link rel=\"stylesheet\" type=\"text/css\" href=\"css/bootstrap-ie7.css\" /><![endif]-->\\n        <!--[if lte IE 9]><link rel=\"stylesheet\" type=\"text/css\" href=\"css/mapclick-ie.css\" /><![endif]-->\\n        <link rel=\"stylesheet\" type=\"text/css\" href=\"css/print.css\" />\\n        <link rel=\"stylesheet\" type=\"text/css\" href=\"css/search.css\" />\\n\\n        <!-- Javascript -->\\n        <script type=\"text/javascript\" src=\"js/lib/modernizr-2.8.3.js\"></script>\\n        <script type=\"text/javascript\" src=\"js/lib/json3-3.3.2.min.js\"></script>\\n        <script type=\"text/javascript\" src=\"js/lib/jquery-1.11.3.min.js\"></script>\\n        <script type=\"text/javascript\" src=\"js/lib/jquery.hoverIntent-1.8.1.min.js\"></script>\\n        <script type=\"text/javascript\" src=\"js/lib/bootstrap-3.2.0.min.js\"></script>\\n        <script type=\"text/javascript\" src=\"js/lib/ol-4.6.4.js\"></script>\\n        <!--[if lte IE 8]><script type=\"text/javascript\" src=\"js/respond.min.js\"></script><![endif]-->\\n        <script type=\"text/javascript\" src=\"js/jquery.autocomplete.min.js\"></script>\\n        <script type=\"text/javascript\" src=\"js/cfisurvey/cfi.js?v2\"></script>\\n        <script type=\"text/javascript\" src=\"js/forecast.esri.js\"></script>\\n        <script type=\"text/javascript\" src=\"js/forecast.search.js\"></script>\\n        <script type=\"text/javascript\" src=\"js/forecast.openlayers.js\"></script>\\n        <script type=\"text/javascript\" src=\"js/browserSniffer.js\"></script>\\n        <script type=\"text/javascript\" id=\"_fed_an_ua_tag\" src=\"https://dap.digitalgov.gov/Universal-Federated-Analytics-Min.js?agency=DOC&subagency=NOAA\"></script>\\n        <script type=\"text/javascript\">\\n            // GoogleAnalyticsObject is defined in the federated analytics script, but PUA option not used as forecast UA needs sampleRate\\n            window[window[\\'GoogleAnalyticsObject\\']](\\'create\\', \\'UA-40768555-1\\', \\'weather.gov\\', {\\'sampleRate\\': 6});\\n            window[window[\\'GoogleAnalyticsObject\\']](\\'set\\', \\'anonymizeIp\\', true);\\n            window[window[\\'GoogleAnalyticsObject\\']](\\'require\\', \\'linkid\\');\\n            window[window[\\'GoogleAnalyticsObject\\']](\\'send\\', \\'pageview\\');\\n        </script>\\n        <script type=\"javascript\">\\n// ForeSee Staging Embed Script v2.01\\n// DO NOT MODIFY BELOW THIS LINE *****************************************\\n;(function (g) {\\n  var d = document, am = d.createElement(\\'script\\'), h = d.head || d.getElementsByTagName(\"head\")[0], fsr = \\'fsReady\\',\\n  aex = { \\n    \"src\": \"//gateway.foresee.com/sites/weather-gov/production/gateway.min.js\",\\n    \"type\": \"text/javascript\", \\n    \"async\": \"true\", \\n    \"data-vendor\": \"fs\", \\n    \"data-role\": \"gateway\" \\n  };\\n  for (var attr in aex) { am.setAttribute(attr, aex[attr]); } h.appendChild(am); g[fsr] || (g[fsr] = function () { var aT = \\'__\\' + fsr + \\'_stk__\\'; g[aT] = g[aT] || []; g[aT].push(arguments); });\\n})(window);\\n// DO NOT MODIFY ABOVE THIS LINE *****************************************\\n</script>\\n    </head>\\n    <body>\\n        <main class=\"container\">\\n                    <header class=\"row clearfix\" id=\"page-header\">\\n            <a href=\"//www.noaa.gov\" id=\"header-noaa\" class=\"pull-left\"><img src=\"/css/images/header_noaa.png\" alt=\"National Oceanic and Atmospheric Administration\"/></a>\\n            <a href=\"//www.weather.gov\" id=\"header-nws\" class=\"pull-left\"><img src=\"/css/images/header_nws.png\" alt=\"National Weather Service\"/></a>\\n            <a href=\"//www.commerce.gov\" id=\"header-doc\" class=\"pull-right\"><img src=\"/css/images/header_doc.png\" alt=\"United States Department of Commerce\"/></a>\\n        </header>\\n        \\n                    <nav class=\"navbar navbar-default row\" role=\"navigation\">\\n            <div class=\"container-fluid\">\\n                <div class=\"navbar-header\">\\n                    <button type=\"button\" class=\"navbar-toggle collapsed\" data-toggle=\"collapse\" data-target=\"#top-nav\">\\n                        <span class=\"sr-only\">Toggle navigation</span>\\n                        <span class=\"icon-bar\"></span>\\n                        <span class=\"icon-bar\"></span>\\n                        <span class=\"icon-bar\"></span>\\n                    </button>\\n                </div>\\n                <div class=\"collapse navbar-collapse\" id=\"top-nav\">\\n                    <ul class=\"nav navbar-nav\">\\n                        <li><a href=\"//www.weather.gov\">HOME</a></li>\\n                        <li class=\"dropdown\"><a href=\"http://www.weather.gov/forecastmaps\" class=\"dropdown-toggle\" data-toggle=\"dropdown\">FORECAST&nbsp;<span class=\"caret\"></span></a><ul class=\"dropdown-menu\" role=\"menu\"><li><a href=\"http://www.weather.gov\">Local</a></li><li><a href=\"http://digital.weather.gov\">Graphical</a></li><li><a href=\"http://www.aviationweather.gov/\">Aviation</a></li><li><a href=\"http://www.weather.gov/marine\">Marine</a></li><li><a href=\"http://water.weather.gov/ahps/\">Rivers and Lakes</a></li><li><a href=\"http://www.nhc.noaa.gov/\">Hurricanes</a></li><li><a href=\"http://www.spc.noaa.gov/\">Severe Weather</a></li><li><a href=\"http://www.weather.gov/fire/\">Fire Weather</a></li><li><a href=\"https://www.esrl.noaa.gov/gmd/grad/solcalc/sunrise.html\">Sun/Moon</a></li><li><a href=\"http://www.cpc.ncep.noaa.gov/\">Long Range Forecasts</a></li><li><a href=\"http://www.cpc.ncep.noaa.gov\">Climate Prediction</a></li><li><a href=\"https://www.swpc.noaa.gov/\">Space Weather</a></li></ul>                            </li>\\n                            <li class=\"dropdown\"><a href=\"https://www.weather.gov/wrh/climate/\" class=\"dropdown-toggle\" data-toggle=\"dropdown\">PAST WEATHER&nbsp;<span class=\"caret\"></span></a><ul class=\"dropdown-menu\" role=\"menu\"><li><a href=\"https://www.weather.gov/wrh/climate/\">Past Weather</a></li><li><a href=\"https://www.weather.gov/wrh/climate/\">Heating/Cooling Days</a></li><li><a href=\"https://www.weather.gov/wrh/climate/\">Monthly Temperatures</a></li><li><a href=\"https://www.weather.gov/wrh/climate/\">Records</a></li><li><a href=\"http://aa.usno.navy.mil/\">Astronomical Data</a></li></ul>                            </li>\\n                            <li class=\"dropdown\"><a href=\"http://www.weather.gov/safety\" class=\"dropdown-toggle\" data-toggle=\"dropdown\">SAFETY&nbsp;<span class=\"caret\"></span></a><ul class=\"dropdown-menu\" role=\"menu\"><li><a href=\"https://www.weather.gov/safety/flood\">Floods</a></li><li><a href=\"https://www.weather.gov/safety/tsunami\">Tsunamis</a></li><li><a href=\"https://www.weather.gov/safety/beachhazards\">Beach Hazards</a></li><li><a href=\"https://www.weather.gov/safety/wildfire\">Wildfire</a></li><li><a href=\"https://www.weather.gov/safety/cold\">Cold</a></li><li><a href=\"https://www.weather.gov/safety/tornado\">Tornadoes</a></li><li><a href=\"https://www.weather.gov/safety/airquality\">Air Quality</a></li><li><a href=\"https://www.weather.gov/safety/fog\">Fog</a></li><li><a href=\"https://www.weather.gov/safety/heat\">Heat</a></li><li><a href=\"https://www.weather.gov/safety/hurricane\">Hurricanes</a></li><li><a href=\"https://www.weather.gov/safety/lightning\">Lightning</a></li><li><a href=\"https://www.weather.gov/safety/safeboating\">Safe Boating</a></li><li><a href=\"https://www.weather.gov/safety/ripcurrent\">Rip Currents</a></li><li><a href=\"https://www.weather.gov/safety/thunderstorm\">Thunderstorms</a></li><li><a href=\"https://www.weather.gov/safety/space\">Space Weather</a></li><li><a href=\"https://www.weather.gov/safety/heat-uv\">Sun (Ultraviolet Radiation)</a></li><li><a href=\"http://www.weather.gov/safetycampaign\">Safety Campaigns</a></li><li><a href=\"https://www.weather.gov/safety/wind\">Wind</a></li><li><a href=\"https://www.weather.gov/safety/drought\">Drought</a></li><li><a href=\"https://www.weather.gov/safety/winter\">Winter Weather</a></li></ul>                            </li>\\n                            <li class=\"dropdown\"><a href=\"http://www.weather.gov/informationcenter\" class=\"dropdown-toggle\" data-toggle=\"dropdown\">INFORMATION&nbsp;<span class=\"caret\"></span></a><ul class=\"dropdown-menu\" role=\"menu\"><li><a href=\"http://www.weather.gov/wrn/wea\">Wireless Emergency Alerts</a></li><li><a href=\"https://www.weather.gov/owlie/publication_brochures\">Brochures</a></li><li><a href=\"http://www.weather.gov/wrn/\">Weather-Ready Nation</a></li><li><a href=\"https://www.weather.gov/coop/\">Cooperative Observers</a></li><li><a href=\"http://www.weather.gov/briefing/\">Daily Briefing</a></li><li><a href=\"http://www.nws.noaa.gov/om/hazstats.shtml\">Damage/Fatality/Injury Statistics</a></li><li><a href=\"http://mag.ncep.noaa.gov/\">Forecast Models</a></li><li><a href=\"https://www.weather.gov/gis\">GIS Data Portal</a></li><li><a href=\"https://www.weather.gov/nwr/\">NOAA Weather Radio</a></li><li><a href=\"http://weather.gov/publications\">Publications</a></li><li><a href=\"http://www.weather.gov/SKYWARN\">SKYWARN Storm Spotters</a></li><li><a href=\"http://www.weather.gov/StormReady\">StormReady</a></li><li><a href=\"https://www.weather.gov/TsunamiReady/\">TsunamiReady</a></li><li><a href=\"https://www.weather.gov/notification/\">Service Change Notices</a></li></ul>                            </li>\\n                            <li class=\"dropdown\"><a href=\"http://www.weather.gov/education\" class=\"dropdown-toggle\" data-toggle=\"dropdown\">EDUCATION&nbsp;<span class=\"caret\"></span></a><ul class=\"dropdown-menu\" role=\"menu\"><li><a href=\"https://www.weather.gov/wrn/force\">Be A Force of Nature</a></li><li><a href=\"http://www.weather.gov/owlie\">NWS Education Home</a></li></ul>                            </li>\\n                            <li class=\"dropdown\"><a href=\"http://www.weather.gov/news/\" class=\"dropdown-toggle\" data-toggle=\"dropdown\">NEWS&nbsp;<span class=\"caret\"></span></a><ul class=\"dropdown-menu\" role=\"menu\"><li><a href=\"http://www.weather.gov/news\">NWS News</a></li><li><a href=\"https://www.weather.gov/wrn/calendar\">Events</a></li><li><a href=\"https://www.weather.gov/owlie/publication_brochures\">Pubs/Brochures/Booklets </a></li><li><a href=\"http://www.noaa.gov/NOAA-Communications\">NWS Media Contacts</a></li></ul>                            </li>\\n                            <li class=\"dropdown\"><a href=\"http://www.weather.gov/search\" class=\"dropdown-toggle\" data-toggle=\"dropdown\">SEARCH&nbsp;<span class=\"caret\"></span></a><ul class=\"dropdown-menu\" role=\"menu\">                                <li><!-- Begin search code -->\\n                                    <div id=\"site-search\">\\n                                        <form method=\"get\" action=\"//search.usa.gov/search\" style=\"margin-bottom: 0; margin-top: 0;\">\\n                                            <input type=\"hidden\" name=\"v:project\" value=\"firstgov\" />\\n                                            <label for=\"query\">Search For</label>\\n                                            <input type=\"text\" name=\"query\" id=\"query\" size=\"12\" />\\n                                            <input type=\"submit\" value=\"Go\" />\\n                                            <p>\\n                                                <input type=\"radio\" name=\"affiliate\" checked=\"checked\" value=\"nws.noaa.gov\" id=\"nws\" />\\n                                                <label for=\"nws\" class=\"search-scope\">NWS</label>\\n                                                <input type=\"radio\" name=\"affiliate\" value=\"noaa.gov\" id=\"noaa\" />\\n                                                <label for=\"noaa\" class=\"search-scope\">All NOAA</label>\\n                                            </p>\\n                                        </form>\\n                                    </div>\\n                                </li>\\n                                </ul>                            </li>\\n                            <li class=\"dropdown\"><a href=\"http://www.weather.gov/about\" class=\"dropdown-toggle\" data-toggle=\"dropdown\">ABOUT&nbsp;<span class=\"caret\"></span></a><ul class=\"dropdown-menu\" role=\"menu\"><li><a href=\"http://www.weather.gov/about\">About NWS</a></li><li><a href=\"http://www.weather.gov/organization\">Organization</a></li><li><a href=\"https://www.weather.gov/media/wrn/NWS-2023-Strategic-Plan.pdf\">Strategic Plan</a></li><li><a href=\"http://www.weather.gov/careers/#diversity\">Commitment to Diversity</a></li><li><a href=\"https://sites.google.com/a/noaa.gov/nws-insider/\">For NWS Employees</a></li><li><a href=\"http://www.weather.gov/insider\">International</a></li><li><a href=\"http://www.weather.gov/ncep\">National Centers</a></li><li><a href=\"http://www.weather.gov/careers/\">Careers</a></li><li><a href=\"http://www.weather.gov/contact\">Contact Us</a></li><li><a href=\"https://w1.weather.gov/glossary\">Glossary</a></li><li><a href=\"https://weather.gov/socialmedia\">Social Media</a></li></ul>                            </li>\\n                                                </ul>\\n                </div>\\n            </div>\\n        </nav>\\n        \\n        <div class=\"contentArea\">\\n            <!-- Start Forecastsearch -->\\n    <div class=\"\" id=\"fcst-search\">\\n        <form name=\"getForecast\" id=\"getForecast\" class=\"form-inline\" role=\"form\" action=\"https://forecast.weather.gov/zipcity.php\" method=\"get\">\\n        <div id=\"getfcst-body\">\\n            <input name=\"inputstring\" type=\"text\" class=\"form-control\" id=\"inputstring\" placeholder=\"\" />\\n            <input name=\"btnSearch\" id=\"btnSearch\" class=\"btn btn-default\" type=\"submit\" value=\"Go\" />\\n            <div id=\"txtHelp\"><a href=\"javascript:void(window.open(\\'http://weather.gov/ForecastSearchHelp.html\\',\\'locsearchhelp\\',\\'status=0,toolbar=0,location=0,menubar=0,directories=0,resizable=1,scrollbars=1,height=500,width=530\\').focus());\">View Location Examples</a></div>\\n        </div>\\n        <div id=\"txtError\">\\n            <div id=\"errorNoResults\" style=\"display:none;\">Sorry, the location you searched for was not found. Please try another search.</div>\\n            <div id=\"errorMultipleResults\" style=\"display:none\">Multiple locations were found. Please select one of the following:</div>\\n            <div id=\"errorChoices\" style=\"display:none\"></div>\\n            <input id=\"btnCloseError\" type=\"button\" value=\"Close\" style=\"display:none\" />\\n        </div>\\n        <div id=\"getfcst-head\">\\n            <p>Your local forecast office is</p>\\n            <h3 id=\"getfcst-headOffice\"></h3>\\n        </div>\\n        </form>\\n    </div>\\n    <!-- end Forecastsearch -->\\n        \\n        <link rel=\"stylesheet\" type=\"text/css\" href=\"/css/topnews.css\">\\n<div id=\"news-items\">\\n    <div id=\"topnews\" class=\"important\">\\n    <div class=\"icon\"><img src=\"/images/news-important.jpg\"></div>\\n    <div class=\"body\">\\n        <h1 style=\"font-size: 11pt;\">Frigid Temperatures Persist; Heavy Precipitation for the Northwest</h1>\\n        <p>\\n            Temperatures remain frigid across much of the central and eastern U.S. through Wednesday morning. Significant icing is expected in portions of northwestern Oregon and southwestern Washington. Heavy snow will spread from the interior Northwest into the Northern Rockies and Plains. More lake effect snow downwind of the Great Lakes are expected through mid-week. \\n            <a href=\"http://www.wpc.ncep.noaa.gov/discussions/hpcdiscussions.php?disc=pmdspd\" target=\"_blank\">Read More &gt;</a>\\n        </p>\\n    </div>\\n</div>\\n\\n</div>\\n        <script type=\"text/javascript\">(function ($) { var topnews = $(\"#topnews\"); topnews.hide(); $.get(\"siteNews.php\", {a:\"mtr\"},function(response){ if (response !== \"false\") topnews.replaceWith($(response)); topnews.show(); }); })(jQuery);</script><!-- PageFormat-Land -->\\n<script language=javascript>document.title = \\'7-Day Forecast 37.77N 122.41W\\';</script><img src=\"images/track_land_point.png\" style=\"display:none;\" /><div class=\"panel panel-danger\"><div class=\"panel-heading\"><h3 class=\"panel-title\">Hazardous Weather Conditions</h3></div><div class=\"panel-body\"><ul><li><a id=\"hazard-CAZ006-Hydrologic+Outlook-0\" href=\"showsigwx.php?warnzone=CAZ006&warncounty=CAC075&firewxzone=CAZ006&local_place1=San Francisco CA&product1=Hydrologic+Outlook&lat=37.7772&lon=-122.4168\" class=\"anchor-hazards\">Hydrologic Outlook </a></li></ul></div></div>\\n<div id=\"quickLinks\">\\n    <span class=\"lang-spanish\"><a href=\"//forecast.weather.gov/MapClick.php?lat=37.7772&lon=-122.4168&lg=sp\">En Espa&ntilde;ol</a></span>\\n</div>\\n\\n<!-- Current Conditions -->\\n<div id=\"current-conditions\" class=\"panel panel-default\">\\n\\n    <!-- Current Conditions header row -->\\n    <div class=\"panel-heading\">\\n        <div>\\n            <b>Current conditions at</b>\\n            <h2 class=\"panel-title\">SAN FRANCISCO DOWNTOWN (SFOC1)</h2>\\n            <span class=\"smallTxt\"><b>Lat:&nbsp;</b>37.77056&deg;N<b>Lon:&nbsp;</b>122.42694&deg;W<b>Elev:&nbsp;</b>150.0ft.</span>\\n        </div>\\n    </div>\\n    <div class=\"panel-body\" id=\"current-conditions-body\">\\n        <!-- Graphic and temperatures -->\\n        <div id=\"current_conditions-summary\" class=\"pull-left\" >\\n                        <p class=\"myforecast-current\">NA</p>\\n            <p class=\"myforecast-current-lrg\">54&deg;F</p>\\n            <p class=\"myforecast-current-sm\">12&deg;C</p>\\n        </div>\\n        <div id=\"current_conditions_detail\" class=\"pull-left\">\\n            <table>\\n            <tr>\\n            <td class=\"text-right\"><b>Humidity</b></td>\\n            <td>100%</td>\\n            </tr>\\n            <tr>\\n            <td class=\"text-right\"><b>Wind Speed</b></td>\\n            <td>NA NA MPH</td>\\n            </tr>\\n            <tr>\\n            <td class=\"text-right\"><b>Barometer</b></td>\\n            <td>NA</td>\\n            </tr>\\n            <tr>\\n            <td class=\"text-right\"><b>Dewpoint</b></td>\\n            <td>54&deg;F (12&deg;C)</td>\\n            </tr>\\n            <tr>\\n            <td class=\"text-right\"><b>Visibility</b></td>\\n            <td>NA</td>\\n            </tr>\\n                        <tr>\\n            <td class=\"text-right\"><b>Last update</b></td>\\n            <td>\\n                16 Jan 10:43 PM PST            </td>\\n            </tr>\\n            </table>\\n        </div>\\n        <div id=\"current_conditions_station\">\\n            <div class=\"current-conditions-extra\">\\n                            <!-- Right hand section -->\\n            <p class=\"moreInfo\"><b>More Information:</b></p><p><a id=\"localWFO\" href=\"https://www.weather.gov/mtr\" title=\"San Francisco Bay Area/Monterey, CA\"><span class=\"hideText\">Local</span> Forecast Office</a><a id=\"moreWx\" href=\"https://www.weather.gov/wrh/LocalWeather?zone=CAZ006\">More Local Wx</a><a href=\"https://www.wrh.noaa.gov/mesowest/getobext.php?wfo=mtr&sid=SFOC1&num=72&raw=0\">3 Day History</a><a id=\"mobileWxLink\" href=\"//mobile.weather.gov/index.php?lat=37.7772&lon=-122.4168&unit=0&lg=english\">Mobile Weather</a><a id=\"wxGraph\" href=\"MapClick.php?lat=37.7772&lon=-122.4168&unit=0&amp;lg=english&amp;FcstType=graphical\">Hourly <span class=\"hideText\">Weather </span>Forecast</a></p>            </div>\\n        <!-- /current_conditions_station -->\\n        </div>\\n        <!-- /current-conditions-body -->\\n    </div>\\n<!-- /Current Conditions -->\\n</div>\\n\\n<!-- 7-Day Forecast -->\\n<div id=\"seven-day-forecast\" class=\"panel panel-default\">\\n    <div class=\"panel-heading\">\\n    <b>Extended Forecast for</b>\\n    <h2 class=\"panel-title\">\\n                San Francisco CA    </h2>\\n    </div>\\n    <div class=\"panel-body\" id=\"seven-day-forecast-body\">\\n            <div id=\"seven-day-forecast-container\"><ul id=\"seven-day-forecast-list\" class=\"list-unstyled\"><li class=\"forecast-tombstone\">\\n<div class=\"tombstone-container\">\\n<p class=\"period-name\">Tonight<br><br></p>\\n<p><img src=\"newimages/medium/nra60.png\" alt=\"Tonight: Rain likely.  Patchy fog after 1am.  Otherwise, mostly cloudy, with a low around 51. South wind 6 to 9 mph becoming west after midnight.  Chance of precipitation is 60%. New precipitation amounts of less than a tenth of an inch possible. \" title=\"Tonight: Rain likely.  Patchy fog after 1am.  Otherwise, mostly cloudy, with a low around 51. South wind 6 to 9 mph becoming west after midnight.  Chance of precipitation is 60%. New precipitation amounts of less than a tenth of an inch possible. \" class=\"forecast-icon\"></p><p class=\"short-desc\">Rain Likely<br>and Patchy<br>Fog</p><p class=\"temp temp-low\">Low: 51 &deg;F</p></div></li><li class=\"forecast-tombstone\">\\n<div class=\"tombstone-container\">\\n<p class=\"period-name\">Wednesday<br><br></p>\\n<p><img src=\"DualImage.php?i=fg&j=sct\" alt=\"Wednesday: Patchy fog before 11am.  Otherwise, partly sunny, with a high near 59. West wind 6 to 9 mph. \" title=\"Wednesday: Patchy fog before 11am.  Otherwise, partly sunny, with a high near 59. West wind 6 to 9 mph. \" class=\"forecast-icon\"></p><p class=\"short-desc\">Patchy Fog<br>then Mostly<br>Sunny</p><p class=\"temp temp-high\">High: 59 &deg;F</p></div></li><li class=\"forecast-tombstone\">\\n<div class=\"tombstone-container\">\\n<p class=\"period-name\">Wednesday<br>Night</p>\\n<p><img src=\"newimages/medium/nfg.png\" alt=\"Wednesday Night: Patchy fog after 11pm.  Otherwise, mostly cloudy, with a low around 48. West wind 5 to 7 mph becoming calm  in the evening. \" title=\"Wednesday Night: Patchy fog after 11pm.  Otherwise, mostly cloudy, with a low around 48. West wind 5 to 7 mph becoming calm  in the evening. \" class=\"forecast-icon\"></p><p class=\"short-desc\">Patchy Fog</p><p class=\"temp temp-low\">Low: 48 &deg;F</p></div></li><li class=\"forecast-tombstone\">\\n<div class=\"tombstone-container\">\\n<p class=\"period-name\">Thursday<br><br></p>\\n<p><img src=\"DualImage.php?i=fg&j=bkn\" alt=\"Thursday: Areas of fog before 10am.  Otherwise, mostly cloudy, with a high near 60. East wind 3 to 5 mph. \" title=\"Thursday: Areas of fog before 10am.  Otherwise, mostly cloudy, with a high near 60. East wind 3 to 5 mph. \" class=\"forecast-icon\"></p><p class=\"short-desc\">Areas Fog<br>then Mostly<br>Cloudy</p><p class=\"temp temp-high\">High: 60 &deg;F</p></div></li><li class=\"forecast-tombstone\">\\n<div class=\"tombstone-container\">\\n<p class=\"period-name\">Thursday<br>Night</p>\\n<p><img src=\"DualImage.php?i=nbkn&j=nra&jp=10\" alt=\"Thursday Night: A 10 percent chance of rain after 4am.  Patchy fog after 4am.  Otherwise, mostly cloudy, with a low around 51. Calm wind becoming east around 5 mph after midnight. \" title=\"Thursday Night: A 10 percent chance of rain after 4am.  Patchy fog after 4am.  Otherwise, mostly cloudy, with a low around 51. Calm wind becoming east around 5 mph after midnight. \" class=\"forecast-icon\"></p><p class=\"short-desc\">Mostly Cloudy<br>then Slight<br>Chance Rain<br>and Patchy<br>Fog</p><p class=\"temp temp-low\">Low: 51 &deg;F</p></div></li><li class=\"forecast-tombstone\">\\n<div class=\"tombstone-container\">\\n<p class=\"period-name\">Friday<br><br></p>\\n<p><img src=\"newimages/medium/ra80.png\" alt=\"Friday: Rain, mainly after 10am.  Patchy fog before 8am. High near 60. Chance of precipitation is 80%. New precipitation amounts between a quarter and half of an inch possible. \" title=\"Friday: Rain, mainly after 10am.  Patchy fog before 8am. High near 60. Chance of precipitation is 80%. New precipitation amounts between a quarter and half of an inch possible. \" class=\"forecast-icon\"></p><p class=\"short-desc\">Rain and<br>Patchy Fog</p><p class=\"temp temp-high\">High: 60 &deg;F</p></div></li><li class=\"forecast-tombstone\">\\n<div class=\"tombstone-container\">\\n<p class=\"period-name\">Friday<br>Night</p>\\n<p><img src=\"newimages/medium/nshra90.png\" alt=\"Friday Night: Showers and possibly a thunderstorm, mainly before 4am, then a chance of rain and thunderstorms after 4am.  Low around 53. Chance of precipitation is 90%.\" title=\"Friday Night: Showers and possibly a thunderstorm, mainly before 4am, then a chance of rain and thunderstorms after 4am.  Low around 53. Chance of precipitation is 90%.\" class=\"forecast-icon\"></p><p class=\"short-desc\">Showers</p><p class=\"temp temp-low\">Low: 53 &deg;F</p></div></li><li class=\"forecast-tombstone\">\\n<div class=\"tombstone-container\">\\n<p class=\"period-name\">Saturday<br><br></p>\\n<p><img src=\"newimages/medium/ra.png\" alt=\"Saturday: Rain, mainly after 10am.  Mostly cloudy, with a high near 60.\" title=\"Saturday: Rain, mainly after 10am.  Mostly cloudy, with a high near 60.\" class=\"forecast-icon\"></p><p class=\"short-desc\">Rain</p><p class=\"temp temp-high\">High: 60 &deg;F</p></div></li><li class=\"forecast-tombstone\">\\n<div class=\"tombstone-container\">\\n<p class=\"period-name\">Saturday<br>Night</p>\\n<p><img src=\"newimages/medium/nra.png\" alt=\"Saturday Night: Rain.  Cloudy, with a low around 53.\" title=\"Saturday Night: Rain.  Cloudy, with a low around 53.\" class=\"forecast-icon\"></p><p class=\"short-desc\">Rain</p><p class=\"temp temp-low\">Low: 53 &deg;F</p></div></li></ul></div>\\n<script type=\"text/javascript\">\\n// equalize forecast heights\\n$(function () {\\n    var maxh = 0;\\n    $(\".forecast-tombstone .short-desc\").each(function () {\\n        var h = $(this).height();\\n        if (h > maxh) { maxh = h; }\\n    });\\n    $(\".forecast-tombstone .short-desc\").height(maxh);\\n});\\n</script>    </div>\\n</div>\\n\\n<!-- Everything between 7-Day Forecast and Footer goes in this row -->\\n<div id=\"floatingDivs\" class=\"row\">\\n    <!-- Everything on the left-hand side -->\\n    <div class=\"col-md-7 col-lg-8\">\\n        <!-- Detailed Forecast -->\\n        <div id=\"detailed-forecast\" class=\"panel panel-default\">\\n        <div class=\"panel-heading\">\\n            <h2 class=\"panel-title\">Detailed Forecast</h2>\\n        </div>\\n        <div class=\"panel-body\" id=\"detailed-forecast-body\">\\n            <div class=\"row row-odd row-forecast\"><div class=\"col-sm-2 forecast-label\"><b>Tonight</b></div><div class=\"col-sm-10 forecast-text\">Rain likely.  Patchy fog after 1am.  Otherwise, mostly cloudy, with a low around 51. South wind 6 to 9 mph becoming west after midnight.  Chance of precipitation is 60%. New precipitation amounts of less than a tenth of an inch possible. </div></div><div class=\"row row-even row-forecast\"><div class=\"col-sm-2 forecast-label\"><b>Wednesday</b></div><div class=\"col-sm-10 forecast-text\">Patchy fog before 11am.  Otherwise, partly sunny, with a high near 59. West wind 6 to 9 mph. </div></div><div class=\"row row-odd row-forecast\"><div class=\"col-sm-2 forecast-label\"><b>Wednesday Night</b></div><div class=\"col-sm-10 forecast-text\">Patchy fog after 11pm.  Otherwise, mostly cloudy, with a low around 48. West wind 5 to 7 mph becoming calm  in the evening. </div></div><div class=\"row row-even row-forecast\"><div class=\"col-sm-2 forecast-label\"><b>Thursday</b></div><div class=\"col-sm-10 forecast-text\">Areas of fog before 10am.  Otherwise, mostly cloudy, with a high near 60. East wind 3 to 5 mph. </div></div><div class=\"row row-odd row-forecast\"><div class=\"col-sm-2 forecast-label\"><b>Thursday Night</b></div><div class=\"col-sm-10 forecast-text\">A 10 percent chance of rain after 4am.  Patchy fog after 4am.  Otherwise, mostly cloudy, with a low around 51. Calm wind becoming east around 5 mph after midnight. </div></div><div class=\"row row-even row-forecast\"><div class=\"col-sm-2 forecast-label\"><b>Friday</b></div><div class=\"col-sm-10 forecast-text\">Rain, mainly after 10am.  Patchy fog before 8am. High near 60. Chance of precipitation is 80%. New precipitation amounts between a quarter and half of an inch possible. </div></div><div class=\"row row-odd row-forecast\"><div class=\"col-sm-2 forecast-label\"><b>Friday Night</b></div><div class=\"col-sm-10 forecast-text\">Showers and possibly a thunderstorm, mainly before 4am, then a chance of rain and thunderstorms after 4am.  Low around 53. Chance of precipitation is 90%.</div></div><div class=\"row row-even row-forecast\"><div class=\"col-sm-2 forecast-label\"><b>Saturday</b></div><div class=\"col-sm-10 forecast-text\">Rain, mainly after 10am.  Mostly cloudy, with a high near 60.</div></div><div class=\"row row-odd row-forecast\"><div class=\"col-sm-2 forecast-label\"><b>Saturday Night</b></div><div class=\"col-sm-10 forecast-text\">Rain.  Cloudy, with a low around 53.</div></div><div class=\"row row-even row-forecast\"><div class=\"col-sm-2 forecast-label\"><b>Sunday</b></div><div class=\"col-sm-10 forecast-text\">Rain.  Cloudy, with a high near 61.</div></div><div class=\"row row-odd row-forecast\"><div class=\"col-sm-2 forecast-label\"><b>Sunday Night</b></div><div class=\"col-sm-10 forecast-text\">Rain.  Cloudy, with a low around 54.</div></div><div class=\"row row-even row-forecast\"><div class=\"col-sm-2 forecast-label\"><b>Monday</b></div><div class=\"col-sm-10 forecast-text\">Rain.  Mostly cloudy, with a high near 61.</div></div><div class=\"row row-odd row-forecast\"><div class=\"col-sm-2 forecast-label\"><b>Monday Night</b></div><div class=\"col-sm-10 forecast-text\">A chance of rain.  Patchy fog.  Otherwise, mostly cloudy, with a low around 52.</div></div><div class=\"row row-even row-forecast\"><div class=\"col-sm-2 forecast-label\"><b>Tuesday</b></div><div class=\"col-sm-10 forecast-text\">A chance of rain.  Patchy fog.  Otherwise, partly sunny, with a high near 62.</div></div>        </div>\\n    </div>\\n    <!-- /Detailed Forecast -->\\n\\n        \\n        <!-- Additional Forecasts and Information -->\\n        <div id=\"additional_forecasts\" class=\"panel panel-default\">\\n        <div class=\"panel-heading\">\\n        <h2 class=\"panel-title\">Additional Forecasts and Information</h2>\\n        </div>\\n\\n        <div class=\"panel-body\" id=\"additional-forecasts-body\">\\n        <p class=\"myforecast-location\"><a href=\"MapClick.php?zoneid=CAZ006\">Zone Area Forecast for San Francisco County, CA</a></p>\\n                <!-- First nine-ten links -->\\n        <div id=\"linkBlockContainer\">\\n            <div class=\"linkBlock\">\\n                <ul class=\"list-unstyled\">\\n                    <li><a href=\"//forecast.weather.gov/product.php?site=MTR&issuedby=MTR&product=AFD&format=CI&version=1&glossary=1\">Forecast Discussion</a></li>\\n                    <li><a href=\"MapClick.php?lat=37.7772&lon=-122.4168&unit=0&lg=english&FcstType=text&TextType=2\">Printable Forecast</a></li>\\n                    <li><a href=\"MapClick.php?lat=37.7772&lon=-122.4168&unit=0&lg=english&FcstType=text&TextType=1\">Text Only Forecast</a></li>\\n                </ul>\\n            </div>\\n            <div class=\"linkBlock\">\\n                <ul class=\"list-unstyled\">\\n                    <li><a href=\"MapClick.php?lat=37.7772&lon=-122.4168&unit=0&lg=english&FcstType=graphical\">Hourly Weather Forecast</a></li>\\n                    <li><a href=\"MapClick.php?lat=37.7772&lon=-122.4168&unit=0&lg=english&FcstType=digital\">Tabular Forecast</a></li>\\n                    <!-- <li><a href=\"afm/PointClick.php?lat=37.7772&lon=-122.4168\">Quick Forecast</a></li> -->\\n                </ul>\\n            </div>\\n            <div class=\"linkBlock\">\\n                <ul class=\"list-unstyled\">\\n                    <li><a href=\"//weather.gov/aq/probe_aq_data.php?latitude=37.7772&longitude=-122.4168\">Air Quality Forecasts</a></li>\\n                    <li><a href=\"MapClick.php?lat=37.7772&lon=-122.4168&FcstType=text&unit=1&lg=en\">International System of Units</a></li>\\n                                        <li><a href=\"//www.wrh.noaa.gov/forecast/wxtables/index.php?lat=37.7772&lon=-122.4168\">Forecast Weather Table Interface</a></li>\\n                                    </ul>\\n            </div>\\n            <!-- /First nine-ten links -->\\n                <!-- Additional links -->\\n                    <div class=\"linkBlock\"><ul class=\"list-unstyled\"><li><a href=\"http://www.wrh.noaa.gov/mtr/versprod.php?pil=RR8&sid=RSA\" target=\"_self\">Hourly River Stages</a></li><li><a href=\"http://www.wrh.noaa.gov/mtr/versprod.php?pil=RR5&sid=RSA\" target=\"_self\">Hourly Rainfall</a></li></ul></div><div class=\"linkBlock\"><ul class=\"list-unstyled\"><li><a href=\"http://www.wrh.noaa.gov/mtr/wxlinks.php\" target=\"_self\">NWS Office Map</a></li><li><a href=\"http://www.wrh.noaa.gov/mtr/wx_calculator.php\" target=\"_self\">Weather Calculator</a></li></ul></div><div class=\"linkBlock\"><ul class=\"list-unstyled\"><li><a href=\"http://www.nws.noaa.gov/wtf/udaf/area/?site=mtr\" target=\"_self\">User Defined Area</a></li></ul></div>\\n        </div> <!-- /linkBlockContainer -->\\n        </div><!-- /additional-forecasts-body-->\\n    </div> <!-- /additional_forecasts -->\\n    </div> <!-- /Everything on the left-hand side -->\\n\\n    <!-- right-side-data -->\\n    <div class=\"col-md-5 col-lg-4\" id=\"right-side-data\">\\n    <div id=\"mapAndDescriptionArea\">\\n        <!-- openlayer map -->\\n            <style>\\n#custom-search{\\ndisplay: block;\\nposition: relative;\\nz-index: 50;\\ntop: 52px;\\nleft: 60px;\\n}\\n#esri-geocoder-search{\\ndisplay: block;\\nposition: relative;\\nz-index: 50;\\ntop: 52px;\\nleft: 60px;\\n}\\n#emap{\\nmargin-top:15px;\\ncursor:pointer;\\nheight:370px;\\nwidth:100%;\\nborder: 1px solid #ccc;\\nborder-radius: 3px;\\n}\\n#switch-basemap-container{\\n}\\n#basemap-selection-form ul{\\nlist-style: none;\\n margin: 0px;\\n}\\n#basemap-selection-form li{\\nfloat: left;\\n}\\n.disclaimer{\\nmargin-top:350px;\\nmargin-left: 5px;\\nz-index: 100;\\nposition: absolute;\\ntext-transform: none;\\n}\\n.esriAttributionLastItem{\\ntext-transform: none;\\n}\\n.esriSimpleSlider div{\\nheight:22px;\\nline-height:20px;\\nwidth:20px;\\n}\\n#point-forecast-map-label {\\ntext-align:center;\\nfont-weight:bold;\\ncolor:black;\\n}\\n@media (max-width: 767px) {\\n#emap{\\nmargin-top:.5em;\\nheight:270px;\\n}\\n.disclaimer{\\nmargin-top:250px;\\n}\\n}\\n</style>\\n<!-- forecast-map -->\\n<div class=\\'point-forecast-map\\'>\\n    <div class=\\'point-forecast-map-header text-center\\'>\\n        <div id=\"toolbar\">\\n        <div id=\"switch-basemap-container\">\\n            <div id=\"basemap-selection-form\" title=\"Choose a Basemap\">\\n            <div id=\"basemap-menu\">\\n                <select name=\"basemap-selected\" id=\"basemap-selected\" autocomplete=\"off\" title=\"Basemap Dropdown Menu\">\\n                <option value=\"none\">Select Basemap</option>\\n                <option value=\"topo\" selected>Topographic</option>\\n                <option value=\"streets\">Streets</option>\\n                <option value=\"satellite\">Satellite</option>\\n                <option value=\"ocean\">Ocean</option>\\n                </select>\\n            </div>\\n            </div>\\n            <div id=\"point-forecast-map-label\">\\n                    Click Map For Forecast\\n                </div>\\n        </div><!-- //#switch-basemap-container -->\\n        <div style=\"clear:both;\"></div>\\n        </div><!-- //#toolbar -->\\n    </div><!-- //.point-forecast-map-header -->\\n\\n    <div id=\"emap\">\\n        <noscript><center><br><br><b>Map function requires Javascript and a compatible browser.</b></center></noscript>\\n        <div class=\"disclaimer\"><a href=\\'http://www.weather.gov/disclaimer#esri\\'>Disclaimer</a></div>\\n    </div><!-- //#emap -->\\n\\n    <div class=\"point-forecast-map-footer\">\\n        <img src=\"./images/wtf/maplegend_forecast-area.gif\" width=\"100\" height=\"16\" alt=\"Map Legend\">\\n    </div><!-- //.point-forecast-map-footer -->\\n\\n</div> <!-- //.point-forecast-map -->\\n<!-- //forecast-map -->\\n        <!-- //openlayer map -->\\n\\n        <!-- About this Forecast -->\\n        <div id=\"about_forecast\">\\n            <div class=\"fullRow\">\\n                <div class=\"left\">Point Forecast:</div>\\n                <div class=\"right\">San Francisco CA<br>&nbsp;37.77&deg;N 122.41&deg;W (Elev. 131 ft)</div>\\n                    </div>\\n            <div class=\"fullRow\">\\n                <div class=\"left\"><a target=\"_blank\" href=\"//www.weather.gov/glossary/index.php?word=Last+update\">Last Update</a>: </div>\\n                <div class=\"right\">12:26 pm PST Jan 16, 2024</div>\\n            </div>\\n            <div class=\"fullRow\">\\n                <div class=\"left\"><a target=\"_blank\" href=\"//www.weather.gov/glossary/index.php?word=forecast+valid+for\">Forecast Valid</a>: </div>\\n                <div class=\"right\">11pm PST Jan 16, 2024-6pm PST Jan 23, 2024</div>\\n            </div>\\n            <div class=\"fullRow\">\\n                <div class=\"left\">&nbsp;</div>\\n                <div class=\"right\"><a href=\"https://forecast.weather.gov/product.php?site=MTR&issuedby=MTR&product=AFD&format=CI&version=1&glossary=1\">Forecast Discussion</a></div>\\n            </div>\\n            <div class=\"fullRow\">\\n                <div class=\"left\">&nbsp;</div>\\n                <div class=\"right\">\\n                    <a href=\"MapClick.php?lat=37.7772&lon=-122.4168&unit=0&lg=english&FcstType=kml\"><img src=\"/images/wtf/kml_badge.png\" width=\"45\" height=\"17\" alt=\"Get as KML\" /></a>\\n                    <a href=\"MapClick.php?lat=37.7772&lon=-122.4168&unit=0&lg=english&FcstType=dwml\"><img src=\"/images/wtf/xml_badge.png\" width=\"45\" height=\"17\" alt=\"Get as XML\" /></a>\\n                </div>\\n            </div>\\n        </div>\\n        <!-- /About this Forecast -->\\n    </div>\\n    \\n        <!--additionalForecast-->\\n        <div class=\"panel panel-default\" id=\"additionalForecast\">\\n            <div class=\"panel-heading\">\\n                <h2 class=\"panel-title\">Additional Resources</h2>\\n            </div>\\n            <div class=\"panel-body\">\\n\\n                <!-- Radar & Satellite Images -->\\n                <div id=\"radar\" class=\"subItem\">\\n                    <h4>Radar &amp; Satellite Image</h4>\\n                    <a href=\"http://radar.weather.gov/station/kmux/standard\"><img src=\"http://radar.weather.gov/ridge/standard/KMUX_0.gif\" class=\"radar-thumb\" alt=\"Link to Local Radar Data\" title=\"Link to Local Radar Data\"></a>                    <a href=\"https://www.star.nesdis.noaa.gov/GOES/sector.php?sat=G17&sector=psw\"><img src=\"https://cdn.star.nesdis.noaa.gov/GOES17/ABI/SECTOR/psw/GEOCOLOR/600x600.jpg\" class=\"satellite-thumb\" alt=\"Link to Satellite Data\" title=\"Link to Satellite Data\"></a>                </div>\\n                <!-- /Radar & Satellite Images -->\\n                <!-- Hourly Weather Forecast -->\\n                <div id=\"feature\" class=\"subItem\">\\n                    <h4>Hourly Weather Forecast</h4>\\n                    <a href=\"MapClick.php?lat=37.7772&lon=-122.4168&unit=0&lg=english&FcstType=graphical\"><img src=\"newimages/medium/hourlyweather.png\" class=\"img-responsive\" /></a>\\n                </div>\\n                <!-- /Hourly Weather Forecast -->\\n                <!-- NDFD -->\\n                <div id=\"NDFD\" class=\"subItem\">\\n                    <h4>National Digital Forecast Database</h4>\\n                    <div class=\"one-sixth-first\"><a href=\"//graphical.weather.gov/sectors/pacsouthwest.php?element=MaxT\"><img src=\"//graphical.weather.gov/images/thumbnail/latest_MaxMinT_pacsouthwest_thumbnail.png\" border=\"0\" alt=\"National Digital Forecast Database Maximum Temperature Forecast\" title=\"National Digital Forecast Database Maximum Temperature Forecast\" width=\"147\" height=\"150\"></a>\\n                <p><a href=\"//graphical.weather.gov/sectors/pacsouthwest.php?element=MaxT\">High Temperature</a></p></div><div class=\"one-sixth-first\"><a href=\"//graphical.weather.gov/sectors/pacsouthwest.php?element=Wx\"><img src=\"//graphical.weather.gov/images/thumbnail/latest_Wx_pacsouthwest_thumbnail.png\" border=\"0\" alt=\"National Digital Forecast Database Weather Element Forecast\" title=\"National Digital Forecast Database Weather Element Forecast\" width=\"147\" height=\"150\"></a>\\n                <p><a href=\"//graphical.weather.gov/sectors/pacsouthwest.php?element=Wx\">Chance of Precipitation</a></p></div>                </div>\\n                <!-- /NDFD -->\\n            </div>\\n        </div>\\n        <!-- /additionalForecast -->\\n\\n    </div>\\n    <!-- /col-md-4 -->\\n    <!-- /right-side-data -->\\n    <script language=\\'javascript\\'>$( document ).ready(function() { load_openlayers_map(\\'\\', \\'\\', \\'\\', \\'{\"centroid_lat\":\"37.7772\",\"centroid_lon\":\"-122.4168\",\"lat1\":\"37.7595\",\"lon1\":\"-122.4205\",\"lat2\":\"37.781\",\"lon2\":\"-122.426\",\"lat3\":\"37.7855\",\"lon3\":\"-122.3985\",\"lat4\":\"37.764\",\"lon4\":\"-122.393\"}\\') });</script></div>\\n<!-- /row  -->\\n\\n\\n</div>\\n<!-- /PageFormat-Land -->\\n\\n        </div>\\n            <footer>\\n                        <div id=\"sitemap\" class=\"sitemap-content row\">\\n            <div class=\"col-xs-12\">\\n                <div class=\"sitemap-columns\">\\n                                                    <div class=\"sitemap-section\">\\n                                    <div class=\"panel-heading\">\\n                                        <a class=\"sitemap-section-heading\" href=\"http://alerts.weather.gov\">ACTIVE ALERTS</a>\\n                                        <button type=\"button\" class=\"menu-toggle pull-right\" data-toggle=\"collapse\" data-target=\"#sitemap-1\">\\n                                            <span class=\"sr-only\">Toggle menu</span>\\n                                            <span class=\"icon-bar\"></span>\\n                                            <span class=\"icon-bar\"></span>\\n                                            <span class=\"icon-bar\"></span>\\n                                        </button>\\n                                    </div>\\n                                    <div class=\"sitemap-section-body panel-body collapsable collapse\" id=\"sitemap-1\">\\n                                        <ul class=\"list-unstyled\">\\n                                                                                            <li><a href=\" http://alerts.weather.gov\">Warnings By State</a></li>\\n                                                                                                <li><a href=\" http://www.wpc.ncep.noaa.gov/ww.shtml\">Excessive Rainfall and Winter Weather Forecasts</a></li>\\n                                                                                                <li><a href=\"http://water.weather.gov/ahps/?current_color=flood&amp;current_type=all&amp;fcst_type=obs&amp;conus_map=d_map\">River Flooding </a></li>\\n                                                                                                <li><a href=\" http://www.weather.gov\">Latest Warnings</a></li>\\n                                                                                                <li><a href=\" http://www.spc.noaa.gov/products/outlook/\">Thunderstorm/Tornado Outlook </a></li>\\n                                                                                                <li><a href=\" http://www.nhc.noaa.gov/\">Hurricanes </a></li>\\n                                                                                                <li><a href=\" http://www.spc.noaa.gov/products/fire_wx/\">Fire Weather Outlooks </a></li>\\n                                                                                                <li><a href=\" http://www.cpc.ncep.noaa.gov/products/stratosphere/uv_index/uv_alert.shtml\">UV Alerts </a></li>\\n                                                                                                <li><a href=\" http://www.drought.gov/\">Drought </a></li>\\n                                                                                                <li><a href=\"http://www.swpc.noaa.gov/products/alerts-watches-and-warnings\">Space Weather </a></li>\\n                                                                                                <li><a href=\" http://www.nws.noaa.gov/nwr/\">NOAA Weather Radio </a></li>\\n                                                                                                <li><a href=\" http://alerts.weather.gov/\">NWS CAP Feeds </a></li>\\n                                                                                        </ul>\\n                                    </div>\\n                                </div>\\n                                                                <div class=\"sitemap-section\">\\n                                    <div class=\"panel-heading\">\\n                                        <a class=\"sitemap-section-heading\" href=\"https://www.weather.gov/wrh/climate\">PAST WEATHER</a>\\n                                        <button type=\"button\" class=\"menu-toggle pull-right\" data-toggle=\"collapse\" data-target=\"#sitemap-2\">\\n                                            <span class=\"sr-only\">Toggle menu</span>\\n                                            <span class=\"icon-bar\"></span>\\n                                            <span class=\"icon-bar\"></span>\\n                                            <span class=\"icon-bar\"></span>\\n                                        </button>\\n                                    </div>\\n                                    <div class=\"sitemap-section-body panel-body collapsable collapse\" id=\"sitemap-2\">\\n                                        <ul class=\"list-unstyled\">\\n                                                                                            <li><a href=\" http://www.cpc.ncep.noaa.gov/products/MD_index.shtml\">Climate Monitoring </a></li>\\n                                                                                                <li><a href=\"https://www.weather.gov/wrh/climate\">Past Weather </a></li>\\n                                                                                                <li><a href=\"https://www.weather.gov/wrh/climate\">Monthly Temps </a></li>\\n                                                                                                <li><a href=\"https://www.weather.gov/wrh/climate\">Records </a></li>\\n                                                                                                <li><a href=\"https://www.esrl.noaa.gov/gmd/grad/solcalc/sunrise.html\">Astronomical Data </a></li>\\n                                                                                                <li><a href=\"https://www.climate.gov/maps-data/dataset/past-weather-zip-code-data-table\">Certified Weather Data </a></li>\\n                                                                                        </ul>\\n                                    </div>\\n                                </div>\\n                                                                <div class=\"sitemap-section\">\\n                                    <div class=\"panel-heading\">\\n                                        <a class=\"sitemap-section-heading\" href=\"http://www.weather.gov/current\">CURRENT CONDITIONS</a>\\n                                        <button type=\"button\" class=\"menu-toggle pull-right\" data-toggle=\"collapse\" data-target=\"#sitemap-3\">\\n                                            <span class=\"sr-only\">Toggle menu</span>\\n                                            <span class=\"icon-bar\"></span>\\n                                            <span class=\"icon-bar\"></span>\\n                                            <span class=\"icon-bar\"></span>\\n                                        </button>\\n                                    </div>\\n                                    <div class=\"sitemap-section-body panel-body collapsable collapse\" id=\"sitemap-3\">\\n                                        <ul class=\"list-unstyled\">\\n                                                                                            <li><a href=\" https://radar.weather.gov\">Radar </a></li>\\n                                                                                                <li><a href=\"http://www.cpc.ncep.noaa.gov/products/monitoring_and_data/\">Climate Monitoring </a></li>\\n                                                                                                <li><a href=\" http://water.weather.gov/ahps/\">River Levels </a></li>\\n                                                                                                <li><a href=\" http://water.weather.gov/precip/\">Observed Precipitation </a></li>\\n                                                                                                <li><a href=\"https://www.wpc.ncep.noaa.gov/sfc/sfcobs/sfcobs.shtml\">Surface Weather </a></li>\\n                                                                                                <li><a href=\"http://www.spc.noaa.gov/obswx/maps/\">Upper Air </a></li>\\n                                                                                                <li><a href=\" http://www.ndbc.noaa.gov/\">Marine and Buoy Reports </a></li>\\n                                                                                                <li><a href=\"http://www.nohrsc.noaa.gov/interactive/html/map.html\">Snow Cover </a></li>\\n                                                                                                <li><a href=\" http://www.weather.gov/satellite\">Satellite </a></li>\\n                                                                                                <li><a href=\" http://www.swpc.noaa.gov/\">Space Weather </a></li>\\n                                                                                                <li><a href=\"http://www.weather.gov/pr\">International Observations</a></li>\\n                                                                                        </ul>\\n                                    </div>\\n                                </div>\\n                                                                <div class=\"sitemap-section\">\\n                                    <div class=\"panel-heading\">\\n                                        <a class=\"sitemap-section-heading\" href=\"http://weather.gov/forecastmaps\">FORECAST</a>\\n                                        <button type=\"button\" class=\"menu-toggle pull-right\" data-toggle=\"collapse\" data-target=\"#sitemap-4\">\\n                                            <span class=\"sr-only\">Toggle menu</span>\\n                                            <span class=\"icon-bar\"></span>\\n                                            <span class=\"icon-bar\"></span>\\n                                            <span class=\"icon-bar\"></span>\\n                                        </button>\\n                                    </div>\\n                                    <div class=\"sitemap-section-body panel-body collapsable collapse\" id=\"sitemap-4\">\\n                                        <ul class=\"list-unstyled\">\\n                                                                                            <li><a href=\" http://www.weather.gov/\">Local Forecast </a></li>\\n                                                                                                <li><a href=\"http://www.weather.gov/pr\">International Forecasts</a></li>\\n                                                                                                <li><a href=\" http://www.spc.noaa.gov/\">Severe Weather </a></li>\\n                                                                                                <li><a href=\" http://www.wpc.ncep.noaa.gov/\">Current Outlook Maps </a></li>\\n                                                                                                <li><a href=\"http://www.cpc.ncep.noaa.gov/products/Drought\">Drought </a></li>\\n                                                                                                <li><a href=\"http://www.weather.gov/fire\">Fire Weather </a></li>\\n                                                                                                <li><a href=\" http://www.wpc.ncep.noaa.gov/\">Fronts/Precipitation Maps </a></li>\\n                                                                                                <li><a href=\" http://www.nws.noaa.gov/forecasts/graphical/\">Current Graphical Forecast Maps </a></li>\\n                                                                                                <li><a href=\"http://water.weather.gov/ahps/forecasts.php\">Rivers </a></li>\\n                                                                                                <li><a href=\"https://www.weather.gov/marine/\">Marine </a></li>\\n                                                                                                <li><a href=\"https://ocean.weather.gov/marine_areas.php\">Offshore and High Seas</a></li>\\n                                                                                                <li><a href=\" http://www.nhc.noaa.gov/\">Hurricanes </a></li>\\n                                                                                                <li><a href=\" http://aviationweather.gov\">Aviation Weather </a></li>\\n                                                                                                <li><a href=\"http://www.cpc.ncep.noaa.gov/products/OUTLOOKS_index.shtml\">Climatic Outlook </a></li>\\n                                                                                        </ul>\\n                                    </div>\\n                                </div>\\n                                                                <div class=\"sitemap-section\">\\n                                    <div class=\"panel-heading\">\\n                                        <a class=\"sitemap-section-heading\" href=\"http://www.weather.gov/informationcenter\">INFORMATION CENTER</a>\\n                                        <button type=\"button\" class=\"menu-toggle pull-right\" data-toggle=\"collapse\" data-target=\"#sitemap-5\">\\n                                            <span class=\"sr-only\">Toggle menu</span>\\n                                            <span class=\"icon-bar\"></span>\\n                                            <span class=\"icon-bar\"></span>\\n                                            <span class=\"icon-bar\"></span>\\n                                        </button>\\n                                    </div>\\n                                    <div class=\"sitemap-section-body panel-body collapsable collapse\" id=\"sitemap-5\">\\n                                        <ul class=\"list-unstyled\">\\n                                                                                            <li><a href=\" http://www.spaceweather.gov\">Space Weather </a></li>\\n                                                                                                <li><a href=\"http://www.weather.gov/briefing/\">Daily Briefing </a></li>\\n                                                                                                <li><a href=\" http://www.nws.noaa.gov/om/marine/home.htm\">Marine </a></li>\\n                                                                                                <li><a href=\"https://www.weather.gov/wrh/climate\">Climate </a></li>\\n                                                                                                <li><a href=\"http://www.weather.gov/fire\">Fire Weather </a></li>\\n                                                                                                <li><a href=\" http://www.aviationweather.gov/\">Aviation </a></li>\\n                                                                                                <li><a href=\"http://mag.ncep.noaa.gov/\">Forecast Models </a></li>\\n                                                                                                <li><a href=\"http://water.weather.gov/ahps/\">Water </a></li>\\n                                                                                                <li><a href=\"https://www.weather.gov/gis/\">GIS</a></li>\\n                                                                                                <li><a href=\" http://www.nws.noaa.gov/om/coop/\">Cooperative Observers </a></li>\\n                                                                                                <li><a href=\"https://www.weather.gov/skywarn/\">Storm Spotters </a></li>\\n                                                                                                <li><a href=\"http://www.tsunami.gov\">Tsunami Warning System</a></li>\\n                                                                                                <li><a href=\"http://water.noaa.gov/\">National Water Center</a></li>\\n                                                                                                <li><a href=\"http://www.weather.gov/pr\">International Weather</a></li>\\n                                                                                        </ul>\\n                                    </div>\\n                                </div>\\n                                                                <div class=\"sitemap-section\">\\n                                    <div class=\"panel-heading\">\\n                                        <a class=\"sitemap-section-heading\" href=\"http://weather.gov/safety\">WEATHER SAFETY</a>\\n                                        <button type=\"button\" class=\"menu-toggle pull-right\" data-toggle=\"collapse\" data-target=\"#sitemap-6\">\\n                                            <span class=\"sr-only\">Toggle menu</span>\\n                                            <span class=\"icon-bar\"></span>\\n                                            <span class=\"icon-bar\"></span>\\n                                            <span class=\"icon-bar\"></span>\\n                                        </button>\\n                                    </div>\\n                                    <div class=\"sitemap-section-body panel-body collapsable collapse\" id=\"sitemap-6\">\\n                                        <ul class=\"list-unstyled\">\\n                                                                                            <li><a href=\"http://www.weather.gov/nwr/\">NOAA Weather Radio</a></li>\\n                                                                                                <li><a href=\"http://www.weather.gov/stormready/\">StormReady</a></li>\\n                                                                                                <li><a href=\"http://www.nws.noaa.gov/om/heat/index.shtml\">Heat </a></li>\\n                                                                                                <li><a href=\"https://www.weather.gov/safety/lightning\">Lightning </a></li>\\n                                                                                                <li><a href=\" http://www.nhc.noaa.gov/prepare/\">Hurricanes </a></li>\\n                                                                                                <li><a href=\"http://www.nws.noaa.gov/om/thunderstorm/\">Thunderstorms </a></li>\\n                                                                                                <li><a href=\"https://www.weather.gov/safety/tornado\">Tornadoes </a></li>\\n                                                                                                <li><a href=\"https://www.weather.gov/safety/ripcurrent\">Rip Currents </a></li>\\n                                                                                                <li><a href=\"https://www.weather.gov/safety/flood\">Floods </a></li>\\n                                                                                                <li><a href=\"https://www.weather.gov/safety/tsunami\">Tsunamis</a></li>\\n                                                                                                <li><a href=\"https://www.weather.gov/tsunamiready/\">TsunamiReady</a></li>\\n                                                                                                <li><a href=\" http://www.weather.gov/om/winter/index.shtml\">Winter Weather </a></li>\\n                                                                                                <li><a href=\"http://www.nws.noaa.gov/om/heat/uv.shtml\">Ultra Violet Radiation </a></li>\\n                                                                                                <li><a href=\" http://www.weather.gov/airquality/\">Air Quality </a></li>\\n                                                                                                <li><a href=\" http://www.weather.gov/om/hazstats.shtml\">Damage/Fatality/Injury Statistics </a></li>\\n                                                                                                <li><a href=\" http://www.redcross.org/\">Red Cross </a></li>\\n                                                                                                <li><a href=\" http://www.fema.gov/\">Federal Emergency Management Agency (FEMA) </a></li>\\n                                                                                                <li><a href=\" http://www.weather.gov/om/brochures.shtml\">Brochures </a></li>\\n                                                                                                <li><a href=\"http://www.nws.noaa.gov/os/marine/safeboating/\">Safe Boating</a></li>\\n                                                                                        </ul>\\n                                    </div>\\n                                </div>\\n                                                                <div class=\"sitemap-section\">\\n                                    <div class=\"panel-heading\">\\n                                        <a class=\"sitemap-section-heading\" href=\"http://weather.gov/news\">NEWS</a>\\n                                        <button type=\"button\" class=\"menu-toggle pull-right\" data-toggle=\"collapse\" data-target=\"#sitemap-7\">\\n                                            <span class=\"sr-only\">Toggle menu</span>\\n                                            <span class=\"icon-bar\"></span>\\n                                            <span class=\"icon-bar\"></span>\\n                                            <span class=\"icon-bar\"></span>\\n                                        </button>\\n                                    </div>\\n                                    <div class=\"sitemap-section-body panel-body collapsable collapse\" id=\"sitemap-7\">\\n                                        <ul class=\"list-unstyled\">\\n                                                                                            <li><a href=\" http://weather.gov/news\">Newsroom</a></li>\\n                                                                                                <li><a href=\"http://www.nws.noaa.gov/com/weatherreadynation/calendar.html\">Events</a></li>\\n                                                                                                <li><a href=\" http://www.weather.gov/om/brochures.shtml\">Pubs/Brochures/Booklets </a></li>\\n                                                                                        </ul>\\n                                    </div>\\n                                </div>\\n                                                                <div class=\"sitemap-section\">\\n                                    <div class=\"panel-heading\">\\n                                        <a class=\"sitemap-section-heading\" href=\"http://weather.gov/owlie\">EDUCATION</a>\\n                                        <button type=\"button\" class=\"menu-toggle pull-right\" data-toggle=\"collapse\" data-target=\"#sitemap-8\">\\n                                            <span class=\"sr-only\">Toggle menu</span>\\n                                            <span class=\"icon-bar\"></span>\\n                                            <span class=\"icon-bar\"></span>\\n                                            <span class=\"icon-bar\"></span>\\n                                        </button>\\n                                    </div>\\n                                    <div class=\"sitemap-section-body panel-body collapsable collapse\" id=\"sitemap-8\">\\n                                        <ul class=\"list-unstyled\">\\n                                                                                            <li><a href=\"http://weather.gov/education\">NWS Education Home</a></li>\\n                                                                                                <li><a href=\"http://www.nws.noaa.gov/com/weatherreadynation/force.html\">Be A Force of Nature</a></li>\\n                                                                                                <li><a href=\" http://www.education.noaa.gov/Weather_and_Atmosphere/\">NOAA Education Resources </a></li>\\n                                                                                                <li><a href=\" http://www.weather.gov/glossary/\">Glossary </a></li>\\n                                                                                                <li><a href=\"https://www.weather.gov/jetstream/\">JetStream </a></li>\\n                                                                                                <li><a href=\" http://www.weather.gov/training/\">NWS Training Portal </a></li>\\n                                                                                                <li><a href=\"https://library.noaa.gov/\">NOAA Library </a></li>\\n                                                                                                <li><a href=\"http://weather.gov/owlie\">For Students, Parents and Teachers</a></li>\\n                                                                                                <li><a href=\"http://www.weather.gov/owlie/publication_brochures\">Brochures </a></li>\\n                                                                                        </ul>\\n                                    </div>\\n                                </div>\\n                                                                <div class=\"sitemap-section\">\\n                                    <div class=\"panel-heading\">\\n                                        <a class=\"sitemap-section-heading\" href=\"http://weather.gov/about\">ABOUT</a>\\n                                        <button type=\"button\" class=\"menu-toggle pull-right\" data-toggle=\"collapse\" data-target=\"#sitemap-9\">\\n                                            <span class=\"sr-only\">Toggle menu</span>\\n                                            <span class=\"icon-bar\"></span>\\n                                            <span class=\"icon-bar\"></span>\\n                                            <span class=\"icon-bar\"></span>\\n                                        </button>\\n                                    </div>\\n                                    <div class=\"sitemap-section-body panel-body collapsable collapse\" id=\"sitemap-9\">\\n                                        <ul class=\"list-unstyled\">\\n                                                                                            <li><a href=\"http://weather.gov/organization\">Organization </a></li>\\n                                                                                                <li><a href=\"https://www.noaa.gov/NWStransformation\">NWS Transformation</a></li>\\n                                                                                                <li><a href=\"https://www.weather.gov/media/wrn/NWS-2023-Strategic-Plan.pdf\">Strategic Plan </a></li>\\n                                                                                                <li><a href=\"https:/weather.gov/insider\">For NWS Employees </a></li>\\n                                                                                                <li><a href=\"https://www.weather.gov/international/\">International </a></li>\\n                                                                                                <li><a href=\"http://www.weather.gov/ncep\">National Centers </a></li>\\n                                                                                                <li><a href=\" http://www.weather.gov/tg/\">Products and Services </a></li>\\n                                                                                                <li><a href=\"http://www.weather.gov/careers/\">Careers</a></li>\\n                                                                                                <li><a href=\" http://www.weather.gov/glossary/\">Glossary </a></li>\\n                                                                                                <li><a href=\"http://weather.gov/contact\">Contact Us </a></li>\\n                                                                                                <li><a href=\"https://weather.gov/socialmedia\">Social Media</a></li>\\n                                                                                        </ul>\\n                                    </div>\\n                                </div>\\n                                                </div>\\n            </div>\\n        </div>\\n        \\n                <!-- legal footer area -->\\n                        <div class=\"footer-legal\">\\n            <div id=\"footerLogo\" class=\"col-xs-12 col-sm-2 col-md-2\">\\n                <a href=\"//www.usa.gov\"><img src=\"/css/images/usa_gov.png\" alt=\"usa.gov\" width=\"110\" height=\"30\" /></a>\\n            </div>\\n            <div class=\"col-xs-12 col-sm-4 col-md-4\">\\n                <ul class=\"list-unstyled footer-legal-content\">\\n                <li><a href=\"//www.commerce.gov\">US Dept of Commerce</a></li>\\n                <li><a href=\"//www.noaa.gov\">National Oceanic and Atmospheric Administration</a></li>\\n                <li><a href=\"//www.weather.gov\">National Weather Service</a></li>\\n                <li><a href=\"https://www.weather.gov/mtr\">San Francisco Bay Area, CA</a></li><li><br /><a href=\"mailto:w-mtr.webmaster@noaa.gov\">Comments? Questions? Please Contact Us.</a></li>                </ul>\\n            </div>\\n            <div class=\"col-xs-12 col-sm-3 col-md-3\">\\n                <ul class=\"list-unstyled\">\\n                    <li><a href=\"https://www.weather.gov/disclaimer\">Disclaimer</a></li>\\n                    <li><a href=\"//www.cio.noaa.gov/services_programs/info_quality.html\">Information Quality</a></li>\\n                    <li><a href=\"https://www.weather.gov/help\">Help</a></li>\\n                    <li><a href=\"//www.weather.gov/glossary\">Glossary</a></li>\\n                </ul>\\n            </div>\\n            <div class=\"col-xs-12 col-sm-3 col-md-3\">\\n                <ul class=\"list-unstyled\">\\n                    <li><a href=\"https://www.weather.gov/privacy\">Privacy Policy</a></li>\\n                    <li><a href=\"https://www.noaa.gov/foia-freedom-of-information-act\">Freedom of Information Act (FOIA)</a></li>\\n                    <li><a href=\"https://www.weather.gov/about\">About Us</a></li>\\n                    <li><a href=\"https://www.weather.gov/careers\">Career Opportunities</a></li>\\n                </ul>\\n            </div>\\n        </div>\\n        \\n            </footer>\\n        </main>\\n    </body>\\n</html>\\n'"
      ]
     },
     "execution_count": 4,
     "metadata": {},
     "output_type": "execute_result"
    }
   ],
   "source": [
    "page.content"
   ]
  },
  {
   "cell_type": "code",
   "execution_count": 5,
   "id": "c6b3bd76",
   "metadata": {
    "collapsed": true
   },
   "outputs": [
    {
     "data": {
      "text/plain": [
       "<!DOCTYPE html>\n",
       "\n",
       "<html class=\"no-js\">\n",
       "<head>\n",
       "<!-- Meta -->\n",
       "<meta content=\"width=device-width\" name=\"viewport\"/>\n",
       "<link href=\"http://purl.org/dc/elements/1.1/\" rel=\"schema.DC\"/><title>National Weather Service</title><meta content=\"National Weather Service\" name=\"DC.title\"><meta content=\"NOAA National Weather Service National Weather Service\" name=\"DC.description\"/><meta content=\"US Department of Commerce, NOAA, National Weather Service\" name=\"DC.creator\"/><meta content=\"\" name=\"DC.date.created\" scheme=\"ISO8601\"/><meta content=\"EN-US\" name=\"DC.language\" scheme=\"DCTERMS.RFC1766\"/><meta content=\"weather, National Weather Service\" name=\"DC.keywords\"/><meta content=\"NOAA's National Weather Service\" name=\"DC.publisher\"/><meta content=\"National Weather Service\" name=\"DC.contributor\"/><meta content=\"//www.weather.gov/disclaimer.php\" name=\"DC.rights\"/><meta content=\"General\" name=\"rating\"/><meta content=\"index,follow\" name=\"robots\"/>\n",
       "<!-- Icons -->\n",
       "<link href=\"./images/favicon.ico\" rel=\"shortcut icon\" type=\"image/x-icon\"/>\n",
       "<!-- CSS -->\n",
       "<link href=\"css/bootstrap-3.2.0.min.css\" rel=\"stylesheet\"/>\n",
       "<link href=\"css/bootstrap-theme-3.2.0.min.css\" rel=\"stylesheet\"/>\n",
       "<link href=\"css/font-awesome-4.3.0.min.css\" rel=\"stylesheet\"/>\n",
       "<link href=\"css/ol-4.6.4.css\" rel=\"stylesheet\" type=\"text/css\"/>\n",
       "<link href=\"css/mapclick.css\" rel=\"stylesheet\" type=\"text/css\">\n",
       "<!--[if lte IE 7]><link rel=\"stylesheet\" type=\"text/css\" href=\"css/bootstrap-ie7.css\" /><![endif]-->\n",
       "<!--[if lte IE 9]><link rel=\"stylesheet\" type=\"text/css\" href=\"css/mapclick-ie.css\" /><![endif]-->\n",
       "<link href=\"css/print.css\" rel=\"stylesheet\" type=\"text/css\">\n",
       "<link href=\"css/search.css\" rel=\"stylesheet\" type=\"text/css\">\n",
       "<!-- Javascript -->\n",
       "<script src=\"js/lib/modernizr-2.8.3.js\" type=\"text/javascript\"></script>\n",
       "<script src=\"js/lib/json3-3.3.2.min.js\" type=\"text/javascript\"></script>\n",
       "<script src=\"js/lib/jquery-1.11.3.min.js\" type=\"text/javascript\"></script>\n",
       "<script src=\"js/lib/jquery.hoverIntent-1.8.1.min.js\" type=\"text/javascript\"></script>\n",
       "<script src=\"js/lib/bootstrap-3.2.0.min.js\" type=\"text/javascript\"></script>\n",
       "<script src=\"js/lib/ol-4.6.4.js\" type=\"text/javascript\"></script>\n",
       "<!--[if lte IE 8]><script type=\"text/javascript\" src=\"js/respond.min.js\"></script><![endif]-->\n",
       "<script src=\"js/jquery.autocomplete.min.js\" type=\"text/javascript\"></script>\n",
       "<script src=\"js/cfisurvey/cfi.js?v2\" type=\"text/javascript\"></script>\n",
       "<script src=\"js/forecast.esri.js\" type=\"text/javascript\"></script>\n",
       "<script src=\"js/forecast.search.js\" type=\"text/javascript\"></script>\n",
       "<script src=\"js/forecast.openlayers.js\" type=\"text/javascript\"></script>\n",
       "<script src=\"js/browserSniffer.js\" type=\"text/javascript\"></script>\n",
       "<script id=\"_fed_an_ua_tag\" src=\"https://dap.digitalgov.gov/Universal-Federated-Analytics-Min.js?agency=DOC&amp;subagency=NOAA\" type=\"text/javascript\"></script>\n",
       "<script type=\"text/javascript\">\n",
       "            // GoogleAnalyticsObject is defined in the federated analytics script, but PUA option not used as forecast UA needs sampleRate\n",
       "            window[window['GoogleAnalyticsObject']]('create', 'UA-40768555-1', 'weather.gov', {'sampleRate': 6});\n",
       "            window[window['GoogleAnalyticsObject']]('set', 'anonymizeIp', true);\n",
       "            window[window['GoogleAnalyticsObject']]('require', 'linkid');\n",
       "            window[window['GoogleAnalyticsObject']]('send', 'pageview');\n",
       "        </script>\n",
       "<script type=\"javascript\">\n",
       "// ForeSee Staging Embed Script v2.01\n",
       "// DO NOT MODIFY BELOW THIS LINE *****************************************\n",
       ";(function (g) {\n",
       "  var d = document, am = d.createElement('script'), h = d.head || d.getElementsByTagName(\"head\")[0], fsr = 'fsReady',\n",
       "  aex = { \n",
       "    \"src\": \"//gateway.foresee.com/sites/weather-gov/production/gateway.min.js\",\n",
       "    \"type\": \"text/javascript\", \n",
       "    \"async\": \"true\", \n",
       "    \"data-vendor\": \"fs\", \n",
       "    \"data-role\": \"gateway\" \n",
       "  };\n",
       "  for (var attr in aex) { am.setAttribute(attr, aex[attr]); } h.appendChild(am); g[fsr] || (g[fsr] = function () { var aT = '__' + fsr + '_stk__'; g[aT] = g[aT] || []; g[aT].push(arguments); });\n",
       "})(window);\n",
       "// DO NOT MODIFY ABOVE THIS LINE *****************************************\n",
       "</script>\n",
       "</link></link></link></meta></head>\n",
       "<body>\n",
       "<main class=\"container\">\n",
       "<header class=\"row clearfix\" id=\"page-header\">\n",
       "<a class=\"pull-left\" href=\"//www.noaa.gov\" id=\"header-noaa\"><img alt=\"National Oceanic and Atmospheric Administration\" src=\"/css/images/header_noaa.png\"/></a>\n",
       "<a class=\"pull-left\" href=\"//www.weather.gov\" id=\"header-nws\"><img alt=\"National Weather Service\" src=\"/css/images/header_nws.png\"/></a>\n",
       "<a class=\"pull-right\" href=\"//www.commerce.gov\" id=\"header-doc\"><img alt=\"United States Department of Commerce\" src=\"/css/images/header_doc.png\"/></a>\n",
       "</header>\n",
       "<nav class=\"navbar navbar-default row\" role=\"navigation\">\n",
       "<div class=\"container-fluid\">\n",
       "<div class=\"navbar-header\">\n",
       "<button class=\"navbar-toggle collapsed\" data-target=\"#top-nav\" data-toggle=\"collapse\" type=\"button\">\n",
       "<span class=\"sr-only\">Toggle navigation</span>\n",
       "<span class=\"icon-bar\"></span>\n",
       "<span class=\"icon-bar\"></span>\n",
       "<span class=\"icon-bar\"></span>\n",
       "</button>\n",
       "</div>\n",
       "<div class=\"collapse navbar-collapse\" id=\"top-nav\">\n",
       "<ul class=\"nav navbar-nav\">\n",
       "<li><a href=\"//www.weather.gov\">HOME</a></li>\n",
       "<li class=\"dropdown\"><a class=\"dropdown-toggle\" data-toggle=\"dropdown\" href=\"http://www.weather.gov/forecastmaps\">FORECAST <span class=\"caret\"></span></a><ul class=\"dropdown-menu\" role=\"menu\"><li><a href=\"http://www.weather.gov\">Local</a></li><li><a href=\"http://digital.weather.gov\">Graphical</a></li><li><a href=\"http://www.aviationweather.gov/\">Aviation</a></li><li><a href=\"http://www.weather.gov/marine\">Marine</a></li><li><a href=\"http://water.weather.gov/ahps/\">Rivers and Lakes</a></li><li><a href=\"http://www.nhc.noaa.gov/\">Hurricanes</a></li><li><a href=\"http://www.spc.noaa.gov/\">Severe Weather</a></li><li><a href=\"http://www.weather.gov/fire/\">Fire Weather</a></li><li><a href=\"https://www.esrl.noaa.gov/gmd/grad/solcalc/sunrise.html\">Sun/Moon</a></li><li><a href=\"http://www.cpc.ncep.noaa.gov/\">Long Range Forecasts</a></li><li><a href=\"http://www.cpc.ncep.noaa.gov\">Climate Prediction</a></li><li><a href=\"https://www.swpc.noaa.gov/\">Space Weather</a></li></ul> </li>\n",
       "<li class=\"dropdown\"><a class=\"dropdown-toggle\" data-toggle=\"dropdown\" href=\"https://www.weather.gov/wrh/climate/\">PAST WEATHER <span class=\"caret\"></span></a><ul class=\"dropdown-menu\" role=\"menu\"><li><a href=\"https://www.weather.gov/wrh/climate/\">Past Weather</a></li><li><a href=\"https://www.weather.gov/wrh/climate/\">Heating/Cooling Days</a></li><li><a href=\"https://www.weather.gov/wrh/climate/\">Monthly Temperatures</a></li><li><a href=\"https://www.weather.gov/wrh/climate/\">Records</a></li><li><a href=\"http://aa.usno.navy.mil/\">Astronomical Data</a></li></ul> </li>\n",
       "<li class=\"dropdown\"><a class=\"dropdown-toggle\" data-toggle=\"dropdown\" href=\"http://www.weather.gov/safety\">SAFETY <span class=\"caret\"></span></a><ul class=\"dropdown-menu\" role=\"menu\"><li><a href=\"https://www.weather.gov/safety/flood\">Floods</a></li><li><a href=\"https://www.weather.gov/safety/tsunami\">Tsunamis</a></li><li><a href=\"https://www.weather.gov/safety/beachhazards\">Beach Hazards</a></li><li><a href=\"https://www.weather.gov/safety/wildfire\">Wildfire</a></li><li><a href=\"https://www.weather.gov/safety/cold\">Cold</a></li><li><a href=\"https://www.weather.gov/safety/tornado\">Tornadoes</a></li><li><a href=\"https://www.weather.gov/safety/airquality\">Air Quality</a></li><li><a href=\"https://www.weather.gov/safety/fog\">Fog</a></li><li><a href=\"https://www.weather.gov/safety/heat\">Heat</a></li><li><a href=\"https://www.weather.gov/safety/hurricane\">Hurricanes</a></li><li><a href=\"https://www.weather.gov/safety/lightning\">Lightning</a></li><li><a href=\"https://www.weather.gov/safety/safeboating\">Safe Boating</a></li><li><a href=\"https://www.weather.gov/safety/ripcurrent\">Rip Currents</a></li><li><a href=\"https://www.weather.gov/safety/thunderstorm\">Thunderstorms</a></li><li><a href=\"https://www.weather.gov/safety/space\">Space Weather</a></li><li><a href=\"https://www.weather.gov/safety/heat-uv\">Sun (Ultraviolet Radiation)</a></li><li><a href=\"http://www.weather.gov/safetycampaign\">Safety Campaigns</a></li><li><a href=\"https://www.weather.gov/safety/wind\">Wind</a></li><li><a href=\"https://www.weather.gov/safety/drought\">Drought</a></li><li><a href=\"https://www.weather.gov/safety/winter\">Winter Weather</a></li></ul> </li>\n",
       "<li class=\"dropdown\"><a class=\"dropdown-toggle\" data-toggle=\"dropdown\" href=\"http://www.weather.gov/informationcenter\">INFORMATION <span class=\"caret\"></span></a><ul class=\"dropdown-menu\" role=\"menu\"><li><a href=\"http://www.weather.gov/wrn/wea\">Wireless Emergency Alerts</a></li><li><a href=\"https://www.weather.gov/owlie/publication_brochures\">Brochures</a></li><li><a href=\"http://www.weather.gov/wrn/\">Weather-Ready Nation</a></li><li><a href=\"https://www.weather.gov/coop/\">Cooperative Observers</a></li><li><a href=\"http://www.weather.gov/briefing/\">Daily Briefing</a></li><li><a href=\"http://www.nws.noaa.gov/om/hazstats.shtml\">Damage/Fatality/Injury Statistics</a></li><li><a href=\"http://mag.ncep.noaa.gov/\">Forecast Models</a></li><li><a href=\"https://www.weather.gov/gis\">GIS Data Portal</a></li><li><a href=\"https://www.weather.gov/nwr/\">NOAA Weather Radio</a></li><li><a href=\"http://weather.gov/publications\">Publications</a></li><li><a href=\"http://www.weather.gov/SKYWARN\">SKYWARN Storm Spotters</a></li><li><a href=\"http://www.weather.gov/StormReady\">StormReady</a></li><li><a href=\"https://www.weather.gov/TsunamiReady/\">TsunamiReady</a></li><li><a href=\"https://www.weather.gov/notification/\">Service Change Notices</a></li></ul> </li>\n",
       "<li class=\"dropdown\"><a class=\"dropdown-toggle\" data-toggle=\"dropdown\" href=\"http://www.weather.gov/education\">EDUCATION <span class=\"caret\"></span></a><ul class=\"dropdown-menu\" role=\"menu\"><li><a href=\"https://www.weather.gov/wrn/force\">Be A Force of Nature</a></li><li><a href=\"http://www.weather.gov/owlie\">NWS Education Home</a></li></ul> </li>\n",
       "<li class=\"dropdown\"><a class=\"dropdown-toggle\" data-toggle=\"dropdown\" href=\"http://www.weather.gov/news/\">NEWS <span class=\"caret\"></span></a><ul class=\"dropdown-menu\" role=\"menu\"><li><a href=\"http://www.weather.gov/news\">NWS News</a></li><li><a href=\"https://www.weather.gov/wrn/calendar\">Events</a></li><li><a href=\"https://www.weather.gov/owlie/publication_brochures\">Pubs/Brochures/Booklets </a></li><li><a href=\"http://www.noaa.gov/NOAA-Communications\">NWS Media Contacts</a></li></ul> </li>\n",
       "<li class=\"dropdown\"><a class=\"dropdown-toggle\" data-toggle=\"dropdown\" href=\"http://www.weather.gov/search\">SEARCH <span class=\"caret\"></span></a><ul class=\"dropdown-menu\" role=\"menu\"> <li><!-- Begin search code -->\n",
       "<div id=\"site-search\">\n",
       "<form action=\"//search.usa.gov/search\" method=\"get\" style=\"margin-bottom: 0; margin-top: 0;\">\n",
       "<input name=\"v:project\" type=\"hidden\" value=\"firstgov\"/>\n",
       "<label for=\"query\">Search For</label>\n",
       "<input id=\"query\" name=\"query\" size=\"12\" type=\"text\"/>\n",
       "<input type=\"submit\" value=\"Go\"/>\n",
       "<p>\n",
       "<input checked=\"checked\" id=\"nws\" name=\"affiliate\" type=\"radio\" value=\"nws.noaa.gov\"/>\n",
       "<label class=\"search-scope\" for=\"nws\">NWS</label>\n",
       "<input id=\"noaa\" name=\"affiliate\" type=\"radio\" value=\"noaa.gov\"/>\n",
       "<label class=\"search-scope\" for=\"noaa\">All NOAA</label>\n",
       "</p>\n",
       "</form>\n",
       "</div>\n",
       "</li>\n",
       "</ul> </li>\n",
       "<li class=\"dropdown\"><a class=\"dropdown-toggle\" data-toggle=\"dropdown\" href=\"http://www.weather.gov/about\">ABOUT <span class=\"caret\"></span></a><ul class=\"dropdown-menu\" role=\"menu\"><li><a href=\"http://www.weather.gov/about\">About NWS</a></li><li><a href=\"http://www.weather.gov/organization\">Organization</a></li><li><a href=\"https://www.weather.gov/media/wrn/NWS-2023-Strategic-Plan.pdf\">Strategic Plan</a></li><li><a href=\"http://www.weather.gov/careers/#diversity\">Commitment to Diversity</a></li><li><a href=\"https://sites.google.com/a/noaa.gov/nws-insider/\">For NWS Employees</a></li><li><a href=\"http://www.weather.gov/insider\">International</a></li><li><a href=\"http://www.weather.gov/ncep\">National Centers</a></li><li><a href=\"http://www.weather.gov/careers/\">Careers</a></li><li><a href=\"http://www.weather.gov/contact\">Contact Us</a></li><li><a href=\"https://w1.weather.gov/glossary\">Glossary</a></li><li><a href=\"https://weather.gov/socialmedia\">Social Media</a></li></ul> </li>\n",
       "</ul>\n",
       "</div>\n",
       "</div>\n",
       "</nav>\n",
       "<div class=\"contentArea\">\n",
       "<!-- Start Forecastsearch -->\n",
       "<div class=\"\" id=\"fcst-search\">\n",
       "<form action=\"https://forecast.weather.gov/zipcity.php\" class=\"form-inline\" id=\"getForecast\" method=\"get\" name=\"getForecast\" role=\"form\">\n",
       "<div id=\"getfcst-body\">\n",
       "<input class=\"form-control\" id=\"inputstring\" name=\"inputstring\" placeholder=\"\" type=\"text\"/>\n",
       "<input class=\"btn btn-default\" id=\"btnSearch\" name=\"btnSearch\" type=\"submit\" value=\"Go\"/>\n",
       "<div id=\"txtHelp\"><a href=\"javascript:void(window.open('http://weather.gov/ForecastSearchHelp.html','locsearchhelp','status=0,toolbar=0,location=0,menubar=0,directories=0,resizable=1,scrollbars=1,height=500,width=530').focus());\">View Location Examples</a></div>\n",
       "</div>\n",
       "<div id=\"txtError\">\n",
       "<div id=\"errorNoResults\" style=\"display:none;\">Sorry, the location you searched for was not found. Please try another search.</div>\n",
       "<div id=\"errorMultipleResults\" style=\"display:none\">Multiple locations were found. Please select one of the following:</div>\n",
       "<div id=\"errorChoices\" style=\"display:none\"></div>\n",
       "<input id=\"btnCloseError\" style=\"display:none\" type=\"button\" value=\"Close\"/>\n",
       "</div>\n",
       "<div id=\"getfcst-head\">\n",
       "<p>Your local forecast office is</p>\n",
       "<h3 id=\"getfcst-headOffice\"></h3>\n",
       "</div>\n",
       "</form>\n",
       "</div>\n",
       "<!-- end Forecastsearch -->\n",
       "<link href=\"/css/topnews.css\" rel=\"stylesheet\" type=\"text/css\"/>\n",
       "<div id=\"news-items\">\n",
       "<div class=\"important\" id=\"topnews\">\n",
       "<div class=\"icon\"><img src=\"/images/news-important.jpg\"/></div>\n",
       "<div class=\"body\">\n",
       "<h1 style=\"font-size: 11pt;\">Frigid Temperatures Persist; Heavy Precipitation for the Northwest</h1>\n",
       "<p>\n",
       "            Temperatures remain frigid across much of the central and eastern U.S. through Wednesday morning. Significant icing is expected in portions of northwestern Oregon and southwestern Washington. Heavy snow will spread from the interior Northwest into the Northern Rockies and Plains. More lake effect snow downwind of the Great Lakes are expected through mid-week. \n",
       "            <a href=\"http://www.wpc.ncep.noaa.gov/discussions/hpcdiscussions.php?disc=pmdspd\" target=\"_blank\">Read More &gt;</a>\n",
       "</p>\n",
       "</div>\n",
       "</div>\n",
       "</div>\n",
       "<script type=\"text/javascript\">(function ($) { var topnews = $(\"#topnews\"); topnews.hide(); $.get(\"siteNews.php\", {a:\"mtr\"},function(response){ if (response !== \"false\") topnews.replaceWith($(response)); topnews.show(); }); })(jQuery);</script><!-- PageFormat-Land -->\n",
       "<script language=\"javascript\">document.title = '7-Day Forecast 37.77N 122.41W';</script><img src=\"images/track_land_point.png\" style=\"display:none;\"><div class=\"panel panel-danger\"><div class=\"panel-heading\"><h3 class=\"panel-title\">Hazardous Weather Conditions</h3></div><div class=\"panel-body\"><ul><li><a class=\"anchor-hazards\" href=\"showsigwx.php?warnzone=CAZ006&amp;warncounty=CAC075&amp;firewxzone=CAZ006&amp;local_place1=San Francisco CA&amp;product1=Hydrologic+Outlook&amp;lat=37.7772&amp;lon=-122.4168\" id=\"hazard-CAZ006-Hydrologic+Outlook-0\">Hydrologic Outlook </a></li></ul></div></div>\n",
       "<div id=\"quickLinks\">\n",
       "<span class=\"lang-spanish\"><a href=\"//forecast.weather.gov/MapClick.php?lat=37.7772&amp;lon=-122.4168&amp;lg=sp\">En Español</a></span>\n",
       "</div>\n",
       "<!-- Current Conditions -->\n",
       "<div class=\"panel panel-default\" id=\"current-conditions\">\n",
       "<!-- Current Conditions header row -->\n",
       "<div class=\"panel-heading\">\n",
       "<div>\n",
       "<b>Current conditions at</b>\n",
       "<h2 class=\"panel-title\">SAN FRANCISCO DOWNTOWN (SFOC1)</h2>\n",
       "<span class=\"smallTxt\"><b>Lat: </b>37.77056°N<b>Lon: </b>122.42694°W<b>Elev: </b>150.0ft.</span>\n",
       "</div>\n",
       "</div>\n",
       "<div class=\"panel-body\" id=\"current-conditions-body\">\n",
       "<!-- Graphic and temperatures -->\n",
       "<div class=\"pull-left\" id=\"current_conditions-summary\">\n",
       "<p class=\"myforecast-current\">NA</p>\n",
       "<p class=\"myforecast-current-lrg\">54°F</p>\n",
       "<p class=\"myforecast-current-sm\">12°C</p>\n",
       "</div>\n",
       "<div class=\"pull-left\" id=\"current_conditions_detail\">\n",
       "<table>\n",
       "<tr>\n",
       "<td class=\"text-right\"><b>Humidity</b></td>\n",
       "<td>100%</td>\n",
       "</tr>\n",
       "<tr>\n",
       "<td class=\"text-right\"><b>Wind Speed</b></td>\n",
       "<td>NA NA MPH</td>\n",
       "</tr>\n",
       "<tr>\n",
       "<td class=\"text-right\"><b>Barometer</b></td>\n",
       "<td>NA</td>\n",
       "</tr>\n",
       "<tr>\n",
       "<td class=\"text-right\"><b>Dewpoint</b></td>\n",
       "<td>54°F (12°C)</td>\n",
       "</tr>\n",
       "<tr>\n",
       "<td class=\"text-right\"><b>Visibility</b></td>\n",
       "<td>NA</td>\n",
       "</tr>\n",
       "<tr>\n",
       "<td class=\"text-right\"><b>Last update</b></td>\n",
       "<td>\n",
       "                16 Jan 10:43 PM PST            </td>\n",
       "</tr>\n",
       "</table>\n",
       "</div>\n",
       "<div id=\"current_conditions_station\">\n",
       "<div class=\"current-conditions-extra\">\n",
       "<!-- Right hand section -->\n",
       "<p class=\"moreInfo\"><b>More Information:</b></p><p><a href=\"https://www.weather.gov/mtr\" id=\"localWFO\" title=\"San Francisco Bay Area/Monterey, CA\"><span class=\"hideText\">Local</span> Forecast Office</a><a href=\"https://www.weather.gov/wrh/LocalWeather?zone=CAZ006\" id=\"moreWx\">More Local Wx</a><a href=\"https://www.wrh.noaa.gov/mesowest/getobext.php?wfo=mtr&amp;sid=SFOC1&amp;num=72&amp;raw=0\">3 Day History</a><a href=\"//mobile.weather.gov/index.php?lat=37.7772&amp;lon=-122.4168&amp;unit=0&amp;lg=english\" id=\"mobileWxLink\">Mobile Weather</a><a href=\"MapClick.php?lat=37.7772&amp;lon=-122.4168&amp;unit=0&amp;lg=english&amp;FcstType=graphical\" id=\"wxGraph\">Hourly <span class=\"hideText\">Weather </span>Forecast</a></p> </div>\n",
       "<!-- /current_conditions_station -->\n",
       "</div>\n",
       "<!-- /current-conditions-body -->\n",
       "</div>\n",
       "<!-- /Current Conditions -->\n",
       "</div>\n",
       "<!-- 7-Day Forecast -->\n",
       "<div class=\"panel panel-default\" id=\"seven-day-forecast\">\n",
       "<div class=\"panel-heading\">\n",
       "<b>Extended Forecast for</b>\n",
       "<h2 class=\"panel-title\">\n",
       "                San Francisco CA    </h2>\n",
       "</div>\n",
       "<div class=\"panel-body\" id=\"seven-day-forecast-body\">\n",
       "<div id=\"seven-day-forecast-container\"><ul class=\"list-unstyled\" id=\"seven-day-forecast-list\"><li class=\"forecast-tombstone\">\n",
       "<div class=\"tombstone-container\">\n",
       "<p class=\"period-name\">Tonight<br/><br/></p>\n",
       "<p><img alt=\"Tonight: Rain likely.  Patchy fog after 1am.  Otherwise, mostly cloudy, with a low around 51. South wind 6 to 9 mph becoming west after midnight.  Chance of precipitation is 60%. New precipitation amounts of less than a tenth of an inch possible. \" class=\"forecast-icon\" src=\"newimages/medium/nra60.png\" title=\"Tonight: Rain likely.  Patchy fog after 1am.  Otherwise, mostly cloudy, with a low around 51. South wind 6 to 9 mph becoming west after midnight.  Chance of precipitation is 60%. New precipitation amounts of less than a tenth of an inch possible. \"/></p><p class=\"short-desc\">Rain Likely<br/>and Patchy<br/>Fog</p><p class=\"temp temp-low\">Low: 51 °F</p></div></li><li class=\"forecast-tombstone\">\n",
       "<div class=\"tombstone-container\">\n",
       "<p class=\"period-name\">Wednesday<br/><br/></p>\n",
       "<p><img alt=\"Wednesday: Patchy fog before 11am.  Otherwise, partly sunny, with a high near 59. West wind 6 to 9 mph. \" class=\"forecast-icon\" src=\"DualImage.php?i=fg&amp;j=sct\" title=\"Wednesday: Patchy fog before 11am.  Otherwise, partly sunny, with a high near 59. West wind 6 to 9 mph. \"/></p><p class=\"short-desc\">Patchy Fog<br/>then Mostly<br/>Sunny</p><p class=\"temp temp-high\">High: 59 °F</p></div></li><li class=\"forecast-tombstone\">\n",
       "<div class=\"tombstone-container\">\n",
       "<p class=\"period-name\">Wednesday<br/>Night</p>\n",
       "<p><img alt=\"Wednesday Night: Patchy fog after 11pm.  Otherwise, mostly cloudy, with a low around 48. West wind 5 to 7 mph becoming calm  in the evening. \" class=\"forecast-icon\" src=\"newimages/medium/nfg.png\" title=\"Wednesday Night: Patchy fog after 11pm.  Otherwise, mostly cloudy, with a low around 48. West wind 5 to 7 mph becoming calm  in the evening. \"/></p><p class=\"short-desc\">Patchy Fog</p><p class=\"temp temp-low\">Low: 48 °F</p></div></li><li class=\"forecast-tombstone\">\n",
       "<div class=\"tombstone-container\">\n",
       "<p class=\"period-name\">Thursday<br/><br/></p>\n",
       "<p><img alt=\"Thursday: Areas of fog before 10am.  Otherwise, mostly cloudy, with a high near 60. East wind 3 to 5 mph. \" class=\"forecast-icon\" src=\"DualImage.php?i=fg&amp;j=bkn\" title=\"Thursday: Areas of fog before 10am.  Otherwise, mostly cloudy, with a high near 60. East wind 3 to 5 mph. \"/></p><p class=\"short-desc\">Areas Fog<br/>then Mostly<br/>Cloudy</p><p class=\"temp temp-high\">High: 60 °F</p></div></li><li class=\"forecast-tombstone\">\n",
       "<div class=\"tombstone-container\">\n",
       "<p class=\"period-name\">Thursday<br/>Night</p>\n",
       "<p><img alt=\"Thursday Night: A 10 percent chance of rain after 4am.  Patchy fog after 4am.  Otherwise, mostly cloudy, with a low around 51. Calm wind becoming east around 5 mph after midnight. \" class=\"forecast-icon\" src=\"DualImage.php?i=nbkn&amp;j=nra&amp;jp=10\" title=\"Thursday Night: A 10 percent chance of rain after 4am.  Patchy fog after 4am.  Otherwise, mostly cloudy, with a low around 51. Calm wind becoming east around 5 mph after midnight. \"/></p><p class=\"short-desc\">Mostly Cloudy<br/>then Slight<br/>Chance Rain<br/>and Patchy<br/>Fog</p><p class=\"temp temp-low\">Low: 51 °F</p></div></li><li class=\"forecast-tombstone\">\n",
       "<div class=\"tombstone-container\">\n",
       "<p class=\"period-name\">Friday<br/><br/></p>\n",
       "<p><img alt=\"Friday: Rain, mainly after 10am.  Patchy fog before 8am. High near 60. Chance of precipitation is 80%. New precipitation amounts between a quarter and half of an inch possible. \" class=\"forecast-icon\" src=\"newimages/medium/ra80.png\" title=\"Friday: Rain, mainly after 10am.  Patchy fog before 8am. High near 60. Chance of precipitation is 80%. New precipitation amounts between a quarter and half of an inch possible. \"/></p><p class=\"short-desc\">Rain and<br/>Patchy Fog</p><p class=\"temp temp-high\">High: 60 °F</p></div></li><li class=\"forecast-tombstone\">\n",
       "<div class=\"tombstone-container\">\n",
       "<p class=\"period-name\">Friday<br/>Night</p>\n",
       "<p><img alt=\"Friday Night: Showers and possibly a thunderstorm, mainly before 4am, then a chance of rain and thunderstorms after 4am.  Low around 53. Chance of precipitation is 90%.\" class=\"forecast-icon\" src=\"newimages/medium/nshra90.png\" title=\"Friday Night: Showers and possibly a thunderstorm, mainly before 4am, then a chance of rain and thunderstorms after 4am.  Low around 53. Chance of precipitation is 90%.\"/></p><p class=\"short-desc\">Showers</p><p class=\"temp temp-low\">Low: 53 °F</p></div></li><li class=\"forecast-tombstone\">\n",
       "<div class=\"tombstone-container\">\n",
       "<p class=\"period-name\">Saturday<br/><br/></p>\n",
       "<p><img alt=\"Saturday: Rain, mainly after 10am.  Mostly cloudy, with a high near 60.\" class=\"forecast-icon\" src=\"newimages/medium/ra.png\" title=\"Saturday: Rain, mainly after 10am.  Mostly cloudy, with a high near 60.\"/></p><p class=\"short-desc\">Rain</p><p class=\"temp temp-high\">High: 60 °F</p></div></li><li class=\"forecast-tombstone\">\n",
       "<div class=\"tombstone-container\">\n",
       "<p class=\"period-name\">Saturday<br/>Night</p>\n",
       "<p><img alt=\"Saturday Night: Rain.  Cloudy, with a low around 53.\" class=\"forecast-icon\" src=\"newimages/medium/nra.png\" title=\"Saturday Night: Rain.  Cloudy, with a low around 53.\"/></p><p class=\"short-desc\">Rain</p><p class=\"temp temp-low\">Low: 53 °F</p></div></li></ul></div>\n",
       "<script type=\"text/javascript\">\n",
       "// equalize forecast heights\n",
       "$(function () {\n",
       "    var maxh = 0;\n",
       "    $(\".forecast-tombstone .short-desc\").each(function () {\n",
       "        var h = $(this).height();\n",
       "        if (h > maxh) { maxh = h; }\n",
       "    });\n",
       "    $(\".forecast-tombstone .short-desc\").height(maxh);\n",
       "});\n",
       "</script> </div>\n",
       "</div>\n",
       "<!-- Everything between 7-Day Forecast and Footer goes in this row -->\n",
       "<div class=\"row\" id=\"floatingDivs\">\n",
       "<!-- Everything on the left-hand side -->\n",
       "<div class=\"col-md-7 col-lg-8\">\n",
       "<!-- Detailed Forecast -->\n",
       "<div class=\"panel panel-default\" id=\"detailed-forecast\">\n",
       "<div class=\"panel-heading\">\n",
       "<h2 class=\"panel-title\">Detailed Forecast</h2>\n",
       "</div>\n",
       "<div class=\"panel-body\" id=\"detailed-forecast-body\">\n",
       "<div class=\"row row-odd row-forecast\"><div class=\"col-sm-2 forecast-label\"><b>Tonight</b></div><div class=\"col-sm-10 forecast-text\">Rain likely.  Patchy fog after 1am.  Otherwise, mostly cloudy, with a low around 51. South wind 6 to 9 mph becoming west after midnight.  Chance of precipitation is 60%. New precipitation amounts of less than a tenth of an inch possible. </div></div><div class=\"row row-even row-forecast\"><div class=\"col-sm-2 forecast-label\"><b>Wednesday</b></div><div class=\"col-sm-10 forecast-text\">Patchy fog before 11am.  Otherwise, partly sunny, with a high near 59. West wind 6 to 9 mph. </div></div><div class=\"row row-odd row-forecast\"><div class=\"col-sm-2 forecast-label\"><b>Wednesday Night</b></div><div class=\"col-sm-10 forecast-text\">Patchy fog after 11pm.  Otherwise, mostly cloudy, with a low around 48. West wind 5 to 7 mph becoming calm  in the evening. </div></div><div class=\"row row-even row-forecast\"><div class=\"col-sm-2 forecast-label\"><b>Thursday</b></div><div class=\"col-sm-10 forecast-text\">Areas of fog before 10am.  Otherwise, mostly cloudy, with a high near 60. East wind 3 to 5 mph. </div></div><div class=\"row row-odd row-forecast\"><div class=\"col-sm-2 forecast-label\"><b>Thursday Night</b></div><div class=\"col-sm-10 forecast-text\">A 10 percent chance of rain after 4am.  Patchy fog after 4am.  Otherwise, mostly cloudy, with a low around 51. Calm wind becoming east around 5 mph after midnight. </div></div><div class=\"row row-even row-forecast\"><div class=\"col-sm-2 forecast-label\"><b>Friday</b></div><div class=\"col-sm-10 forecast-text\">Rain, mainly after 10am.  Patchy fog before 8am. High near 60. Chance of precipitation is 80%. New precipitation amounts between a quarter and half of an inch possible. </div></div><div class=\"row row-odd row-forecast\"><div class=\"col-sm-2 forecast-label\"><b>Friday Night</b></div><div class=\"col-sm-10 forecast-text\">Showers and possibly a thunderstorm, mainly before 4am, then a chance of rain and thunderstorms after 4am.  Low around 53. Chance of precipitation is 90%.</div></div><div class=\"row row-even row-forecast\"><div class=\"col-sm-2 forecast-label\"><b>Saturday</b></div><div class=\"col-sm-10 forecast-text\">Rain, mainly after 10am.  Mostly cloudy, with a high near 60.</div></div><div class=\"row row-odd row-forecast\"><div class=\"col-sm-2 forecast-label\"><b>Saturday Night</b></div><div class=\"col-sm-10 forecast-text\">Rain.  Cloudy, with a low around 53.</div></div><div class=\"row row-even row-forecast\"><div class=\"col-sm-2 forecast-label\"><b>Sunday</b></div><div class=\"col-sm-10 forecast-text\">Rain.  Cloudy, with a high near 61.</div></div><div class=\"row row-odd row-forecast\"><div class=\"col-sm-2 forecast-label\"><b>Sunday Night</b></div><div class=\"col-sm-10 forecast-text\">Rain.  Cloudy, with a low around 54.</div></div><div class=\"row row-even row-forecast\"><div class=\"col-sm-2 forecast-label\"><b>Monday</b></div><div class=\"col-sm-10 forecast-text\">Rain.  Mostly cloudy, with a high near 61.</div></div><div class=\"row row-odd row-forecast\"><div class=\"col-sm-2 forecast-label\"><b>Monday Night</b></div><div class=\"col-sm-10 forecast-text\">A chance of rain.  Patchy fog.  Otherwise, mostly cloudy, with a low around 52.</div></div><div class=\"row row-even row-forecast\"><div class=\"col-sm-2 forecast-label\"><b>Tuesday</b></div><div class=\"col-sm-10 forecast-text\">A chance of rain.  Patchy fog.  Otherwise, partly sunny, with a high near 62.</div></div> </div>\n",
       "</div>\n",
       "<!-- /Detailed Forecast -->\n",
       "<!-- Additional Forecasts and Information -->\n",
       "<div class=\"panel panel-default\" id=\"additional_forecasts\">\n",
       "<div class=\"panel-heading\">\n",
       "<h2 class=\"panel-title\">Additional Forecasts and Information</h2>\n",
       "</div>\n",
       "<div class=\"panel-body\" id=\"additional-forecasts-body\">\n",
       "<p class=\"myforecast-location\"><a href=\"MapClick.php?zoneid=CAZ006\">Zone Area Forecast for San Francisco County, CA</a></p>\n",
       "<!-- First nine-ten links -->\n",
       "<div id=\"linkBlockContainer\">\n",
       "<div class=\"linkBlock\">\n",
       "<ul class=\"list-unstyled\">\n",
       "<li><a href=\"//forecast.weather.gov/product.php?site=MTR&amp;issuedby=MTR&amp;product=AFD&amp;format=CI&amp;version=1&amp;glossary=1\">Forecast Discussion</a></li>\n",
       "<li><a href=\"MapClick.php?lat=37.7772&amp;lon=-122.4168&amp;unit=0&amp;lg=english&amp;FcstType=text&amp;TextType=2\">Printable Forecast</a></li>\n",
       "<li><a href=\"MapClick.php?lat=37.7772&amp;lon=-122.4168&amp;unit=0&amp;lg=english&amp;FcstType=text&amp;TextType=1\">Text Only Forecast</a></li>\n",
       "</ul>\n",
       "</div>\n",
       "<div class=\"linkBlock\">\n",
       "<ul class=\"list-unstyled\">\n",
       "<li><a href=\"MapClick.php?lat=37.7772&amp;lon=-122.4168&amp;unit=0&amp;lg=english&amp;FcstType=graphical\">Hourly Weather Forecast</a></li>\n",
       "<li><a href=\"MapClick.php?lat=37.7772&amp;lon=-122.4168&amp;unit=0&amp;lg=english&amp;FcstType=digital\">Tabular Forecast</a></li>\n",
       "<!-- <li><a href=\"afm/PointClick.php?lat=37.7772&lon=-122.4168\">Quick Forecast</a></li> -->\n",
       "</ul>\n",
       "</div>\n",
       "<div class=\"linkBlock\">\n",
       "<ul class=\"list-unstyled\">\n",
       "<li><a href=\"//weather.gov/aq/probe_aq_data.php?latitude=37.7772&amp;longitude=-122.4168\">Air Quality Forecasts</a></li>\n",
       "<li><a href=\"MapClick.php?lat=37.7772&amp;lon=-122.4168&amp;FcstType=text&amp;unit=1&amp;lg=en\">International System of Units</a></li>\n",
       "<li><a href=\"//www.wrh.noaa.gov/forecast/wxtables/index.php?lat=37.7772&amp;lon=-122.4168\">Forecast Weather Table Interface</a></li>\n",
       "</ul>\n",
       "</div>\n",
       "<!-- /First nine-ten links -->\n",
       "<!-- Additional links -->\n",
       "<div class=\"linkBlock\"><ul class=\"list-unstyled\"><li><a href=\"http://www.wrh.noaa.gov/mtr/versprod.php?pil=RR8&amp;sid=RSA\" target=\"_self\">Hourly River Stages</a></li><li><a href=\"http://www.wrh.noaa.gov/mtr/versprod.php?pil=RR5&amp;sid=RSA\" target=\"_self\">Hourly Rainfall</a></li></ul></div><div class=\"linkBlock\"><ul class=\"list-unstyled\"><li><a href=\"http://www.wrh.noaa.gov/mtr/wxlinks.php\" target=\"_self\">NWS Office Map</a></li><li><a href=\"http://www.wrh.noaa.gov/mtr/wx_calculator.php\" target=\"_self\">Weather Calculator</a></li></ul></div><div class=\"linkBlock\"><ul class=\"list-unstyled\"><li><a href=\"http://www.nws.noaa.gov/wtf/udaf/area/?site=mtr\" target=\"_self\">User Defined Area</a></li></ul></div>\n",
       "</div> <!-- /linkBlockContainer -->\n",
       "</div><!-- /additional-forecasts-body-->\n",
       "</div> <!-- /additional_forecasts -->\n",
       "</div> <!-- /Everything on the left-hand side -->\n",
       "<!-- right-side-data -->\n",
       "<div class=\"col-md-5 col-lg-4\" id=\"right-side-data\">\n",
       "<div id=\"mapAndDescriptionArea\">\n",
       "<!-- openlayer map -->\n",
       "<style>\n",
       "#custom-search{\n",
       "display: block;\n",
       "position: relative;\n",
       "z-index: 50;\n",
       "top: 52px;\n",
       "left: 60px;\n",
       "}\n",
       "#esri-geocoder-search{\n",
       "display: block;\n",
       "position: relative;\n",
       "z-index: 50;\n",
       "top: 52px;\n",
       "left: 60px;\n",
       "}\n",
       "#emap{\n",
       "margin-top:15px;\n",
       "cursor:pointer;\n",
       "height:370px;\n",
       "width:100%;\n",
       "border: 1px solid #ccc;\n",
       "border-radius: 3px;\n",
       "}\n",
       "#switch-basemap-container{\n",
       "}\n",
       "#basemap-selection-form ul{\n",
       "list-style: none;\n",
       " margin: 0px;\n",
       "}\n",
       "#basemap-selection-form li{\n",
       "float: left;\n",
       "}\n",
       ".disclaimer{\n",
       "margin-top:350px;\n",
       "margin-left: 5px;\n",
       "z-index: 100;\n",
       "position: absolute;\n",
       "text-transform: none;\n",
       "}\n",
       ".esriAttributionLastItem{\n",
       "text-transform: none;\n",
       "}\n",
       ".esriSimpleSlider div{\n",
       "height:22px;\n",
       "line-height:20px;\n",
       "width:20px;\n",
       "}\n",
       "#point-forecast-map-label {\n",
       "text-align:center;\n",
       "font-weight:bold;\n",
       "color:black;\n",
       "}\n",
       "@media (max-width: 767px) {\n",
       "#emap{\n",
       "margin-top:.5em;\n",
       "height:270px;\n",
       "}\n",
       ".disclaimer{\n",
       "margin-top:250px;\n",
       "}\n",
       "}\n",
       "</style>\n",
       "<!-- forecast-map -->\n",
       "<div class=\"point-forecast-map\">\n",
       "<div class=\"point-forecast-map-header text-center\">\n",
       "<div id=\"toolbar\">\n",
       "<div id=\"switch-basemap-container\">\n",
       "<div id=\"basemap-selection-form\" title=\"Choose a Basemap\">\n",
       "<div id=\"basemap-menu\">\n",
       "<select autocomplete=\"off\" id=\"basemap-selected\" name=\"basemap-selected\" title=\"Basemap Dropdown Menu\">\n",
       "<option value=\"none\">Select Basemap</option>\n",
       "<option selected=\"\" value=\"topo\">Topographic</option>\n",
       "<option value=\"streets\">Streets</option>\n",
       "<option value=\"satellite\">Satellite</option>\n",
       "<option value=\"ocean\">Ocean</option>\n",
       "</select>\n",
       "</div>\n",
       "</div>\n",
       "<div id=\"point-forecast-map-label\">\n",
       "                    Click Map For Forecast\n",
       "                </div>\n",
       "</div><!-- //#switch-basemap-container -->\n",
       "<div style=\"clear:both;\"></div>\n",
       "</div><!-- //#toolbar -->\n",
       "</div><!-- //.point-forecast-map-header -->\n",
       "<div id=\"emap\">\n",
       "<noscript><center><br/><br/><b>Map function requires Javascript and a compatible browser.</b></center></noscript>\n",
       "<div class=\"disclaimer\"><a href=\"http://www.weather.gov/disclaimer#esri\">Disclaimer</a></div>\n",
       "</div><!-- //#emap -->\n",
       "<div class=\"point-forecast-map-footer\">\n",
       "<img alt=\"Map Legend\" height=\"16\" src=\"./images/wtf/maplegend_forecast-area.gif\" width=\"100\"/>\n",
       "</div><!-- //.point-forecast-map-footer -->\n",
       "</div> <!-- //.point-forecast-map -->\n",
       "<!-- //forecast-map -->\n",
       "<!-- //openlayer map -->\n",
       "<!-- About this Forecast -->\n",
       "<div id=\"about_forecast\">\n",
       "<div class=\"fullRow\">\n",
       "<div class=\"left\">Point Forecast:</div>\n",
       "<div class=\"right\">San Francisco CA<br/> 37.77°N 122.41°W (Elev. 131 ft)</div>\n",
       "</div>\n",
       "<div class=\"fullRow\">\n",
       "<div class=\"left\"><a href=\"//www.weather.gov/glossary/index.php?word=Last+update\" target=\"_blank\">Last Update</a>: </div>\n",
       "<div class=\"right\">12:26 pm PST Jan 16, 2024</div>\n",
       "</div>\n",
       "<div class=\"fullRow\">\n",
       "<div class=\"left\"><a href=\"//www.weather.gov/glossary/index.php?word=forecast+valid+for\" target=\"_blank\">Forecast Valid</a>: </div>\n",
       "<div class=\"right\">11pm PST Jan 16, 2024-6pm PST Jan 23, 2024</div>\n",
       "</div>\n",
       "<div class=\"fullRow\">\n",
       "<div class=\"left\"> </div>\n",
       "<div class=\"right\"><a href=\"https://forecast.weather.gov/product.php?site=MTR&amp;issuedby=MTR&amp;product=AFD&amp;format=CI&amp;version=1&amp;glossary=1\">Forecast Discussion</a></div>\n",
       "</div>\n",
       "<div class=\"fullRow\">\n",
       "<div class=\"left\"> </div>\n",
       "<div class=\"right\">\n",
       "<a href=\"MapClick.php?lat=37.7772&amp;lon=-122.4168&amp;unit=0&amp;lg=english&amp;FcstType=kml\"><img alt=\"Get as KML\" height=\"17\" src=\"/images/wtf/kml_badge.png\" width=\"45\"/></a>\n",
       "<a href=\"MapClick.php?lat=37.7772&amp;lon=-122.4168&amp;unit=0&amp;lg=english&amp;FcstType=dwml\"><img alt=\"Get as XML\" height=\"17\" src=\"/images/wtf/xml_badge.png\" width=\"45\"/></a>\n",
       "</div>\n",
       "</div>\n",
       "</div>\n",
       "<!-- /About this Forecast -->\n",
       "</div>\n",
       "<!--additionalForecast-->\n",
       "<div class=\"panel panel-default\" id=\"additionalForecast\">\n",
       "<div class=\"panel-heading\">\n",
       "<h2 class=\"panel-title\">Additional Resources</h2>\n",
       "</div>\n",
       "<div class=\"panel-body\">\n",
       "<!-- Radar & Satellite Images -->\n",
       "<div class=\"subItem\" id=\"radar\">\n",
       "<h4>Radar &amp; Satellite Image</h4>\n",
       "<a href=\"http://radar.weather.gov/station/kmux/standard\"><img alt=\"Link to Local Radar Data\" class=\"radar-thumb\" src=\"http://radar.weather.gov/ridge/standard/KMUX_0.gif\" title=\"Link to Local Radar Data\"/></a> <a href=\"https://www.star.nesdis.noaa.gov/GOES/sector.php?sat=G17§or=psw\"><img alt=\"Link to Satellite Data\" class=\"satellite-thumb\" src=\"https://cdn.star.nesdis.noaa.gov/GOES17/ABI/SECTOR/psw/GEOCOLOR/600x600.jpg\" title=\"Link to Satellite Data\"/></a> </div>\n",
       "<!-- /Radar & Satellite Images -->\n",
       "<!-- Hourly Weather Forecast -->\n",
       "<div class=\"subItem\" id=\"feature\">\n",
       "<h4>Hourly Weather Forecast</h4>\n",
       "<a href=\"MapClick.php?lat=37.7772&amp;lon=-122.4168&amp;unit=0&amp;lg=english&amp;FcstType=graphical\"><img class=\"img-responsive\" src=\"newimages/medium/hourlyweather.png\"/></a>\n",
       "</div>\n",
       "<!-- /Hourly Weather Forecast -->\n",
       "<!-- NDFD -->\n",
       "<div class=\"subItem\" id=\"NDFD\">\n",
       "<h4>National Digital Forecast Database</h4>\n",
       "<div class=\"one-sixth-first\"><a href=\"//graphical.weather.gov/sectors/pacsouthwest.php?element=MaxT\"><img alt=\"National Digital Forecast Database Maximum Temperature Forecast\" border=\"0\" height=\"150\" src=\"//graphical.weather.gov/images/thumbnail/latest_MaxMinT_pacsouthwest_thumbnail.png\" title=\"National Digital Forecast Database Maximum Temperature Forecast\" width=\"147\"/></a>\n",
       "<p><a href=\"//graphical.weather.gov/sectors/pacsouthwest.php?element=MaxT\">High Temperature</a></p></div><div class=\"one-sixth-first\"><a href=\"//graphical.weather.gov/sectors/pacsouthwest.php?element=Wx\"><img alt=\"National Digital Forecast Database Weather Element Forecast\" border=\"0\" height=\"150\" src=\"//graphical.weather.gov/images/thumbnail/latest_Wx_pacsouthwest_thumbnail.png\" title=\"National Digital Forecast Database Weather Element Forecast\" width=\"147\"/></a>\n",
       "<p><a href=\"//graphical.weather.gov/sectors/pacsouthwest.php?element=Wx\">Chance of Precipitation</a></p></div> </div>\n",
       "<!-- /NDFD -->\n",
       "</div>\n",
       "</div>\n",
       "<!-- /additionalForecast -->\n",
       "</div>\n",
       "<!-- /col-md-4 -->\n",
       "<!-- /right-side-data -->\n",
       "<script language=\"javascript\">$( document ).ready(function() { load_openlayers_map('', '', '', '{\"centroid_lat\":\"37.7772\",\"centroid_lon\":\"-122.4168\",\"lat1\":\"37.7595\",\"lon1\":\"-122.4205\",\"lat2\":\"37.781\",\"lon2\":\"-122.426\",\"lat3\":\"37.7855\",\"lon3\":\"-122.3985\",\"lat4\":\"37.764\",\"lon4\":\"-122.393\"}') });</script></div>\n",
       "<!-- /row  -->\n",
       "</img></div>\n",
       "<!-- /PageFormat-Land -->\n",
       "\n",
       "<footer>\n",
       "<div class=\"sitemap-content row\" id=\"sitemap\">\n",
       "<div class=\"col-xs-12\">\n",
       "<div class=\"sitemap-columns\">\n",
       "<div class=\"sitemap-section\">\n",
       "<div class=\"panel-heading\">\n",
       "<a class=\"sitemap-section-heading\" href=\"http://alerts.weather.gov\">ACTIVE ALERTS</a>\n",
       "<button class=\"menu-toggle pull-right\" data-target=\"#sitemap-1\" data-toggle=\"collapse\" type=\"button\">\n",
       "<span class=\"sr-only\">Toggle menu</span>\n",
       "<span class=\"icon-bar\"></span>\n",
       "<span class=\"icon-bar\"></span>\n",
       "<span class=\"icon-bar\"></span>\n",
       "</button>\n",
       "</div>\n",
       "<div class=\"sitemap-section-body panel-body collapsable collapse\" id=\"sitemap-1\">\n",
       "<ul class=\"list-unstyled\">\n",
       "<li><a href=\" http://alerts.weather.gov\">Warnings By State</a></li>\n",
       "<li><a href=\" http://www.wpc.ncep.noaa.gov/ww.shtml\">Excessive Rainfall and Winter Weather Forecasts</a></li>\n",
       "<li><a href=\"http://water.weather.gov/ahps/?current_color=flood&amp;current_type=all&amp;fcst_type=obs&amp;conus_map=d_map\">River Flooding </a></li>\n",
       "<li><a href=\" http://www.weather.gov\">Latest Warnings</a></li>\n",
       "<li><a href=\" http://www.spc.noaa.gov/products/outlook/\">Thunderstorm/Tornado Outlook </a></li>\n",
       "<li><a href=\" http://www.nhc.noaa.gov/\">Hurricanes </a></li>\n",
       "<li><a href=\" http://www.spc.noaa.gov/products/fire_wx/\">Fire Weather Outlooks </a></li>\n",
       "<li><a href=\" http://www.cpc.ncep.noaa.gov/products/stratosphere/uv_index/uv_alert.shtml\">UV Alerts </a></li>\n",
       "<li><a href=\" http://www.drought.gov/\">Drought </a></li>\n",
       "<li><a href=\"http://www.swpc.noaa.gov/products/alerts-watches-and-warnings\">Space Weather </a></li>\n",
       "<li><a href=\" http://www.nws.noaa.gov/nwr/\">NOAA Weather Radio </a></li>\n",
       "<li><a href=\" http://alerts.weather.gov/\">NWS CAP Feeds </a></li>\n",
       "</ul>\n",
       "</div>\n",
       "</div>\n",
       "<div class=\"sitemap-section\">\n",
       "<div class=\"panel-heading\">\n",
       "<a class=\"sitemap-section-heading\" href=\"https://www.weather.gov/wrh/climate\">PAST WEATHER</a>\n",
       "<button class=\"menu-toggle pull-right\" data-target=\"#sitemap-2\" data-toggle=\"collapse\" type=\"button\">\n",
       "<span class=\"sr-only\">Toggle menu</span>\n",
       "<span class=\"icon-bar\"></span>\n",
       "<span class=\"icon-bar\"></span>\n",
       "<span class=\"icon-bar\"></span>\n",
       "</button>\n",
       "</div>\n",
       "<div class=\"sitemap-section-body panel-body collapsable collapse\" id=\"sitemap-2\">\n",
       "<ul class=\"list-unstyled\">\n",
       "<li><a href=\" http://www.cpc.ncep.noaa.gov/products/MD_index.shtml\">Climate Monitoring </a></li>\n",
       "<li><a href=\"https://www.weather.gov/wrh/climate\">Past Weather </a></li>\n",
       "<li><a href=\"https://www.weather.gov/wrh/climate\">Monthly Temps </a></li>\n",
       "<li><a href=\"https://www.weather.gov/wrh/climate\">Records </a></li>\n",
       "<li><a href=\"https://www.esrl.noaa.gov/gmd/grad/solcalc/sunrise.html\">Astronomical Data </a></li>\n",
       "<li><a href=\"https://www.climate.gov/maps-data/dataset/past-weather-zip-code-data-table\">Certified Weather Data </a></li>\n",
       "</ul>\n",
       "</div>\n",
       "</div>\n",
       "<div class=\"sitemap-section\">\n",
       "<div class=\"panel-heading\">\n",
       "<a class=\"sitemap-section-heading\" href=\"http://www.weather.gov/current\">CURRENT CONDITIONS</a>\n",
       "<button class=\"menu-toggle pull-right\" data-target=\"#sitemap-3\" data-toggle=\"collapse\" type=\"button\">\n",
       "<span class=\"sr-only\">Toggle menu</span>\n",
       "<span class=\"icon-bar\"></span>\n",
       "<span class=\"icon-bar\"></span>\n",
       "<span class=\"icon-bar\"></span>\n",
       "</button>\n",
       "</div>\n",
       "<div class=\"sitemap-section-body panel-body collapsable collapse\" id=\"sitemap-3\">\n",
       "<ul class=\"list-unstyled\">\n",
       "<li><a href=\" https://radar.weather.gov\">Radar </a></li>\n",
       "<li><a href=\"http://www.cpc.ncep.noaa.gov/products/monitoring_and_data/\">Climate Monitoring </a></li>\n",
       "<li><a href=\" http://water.weather.gov/ahps/\">River Levels </a></li>\n",
       "<li><a href=\" http://water.weather.gov/precip/\">Observed Precipitation </a></li>\n",
       "<li><a href=\"https://www.wpc.ncep.noaa.gov/sfc/sfcobs/sfcobs.shtml\">Surface Weather </a></li>\n",
       "<li><a href=\"http://www.spc.noaa.gov/obswx/maps/\">Upper Air </a></li>\n",
       "<li><a href=\" http://www.ndbc.noaa.gov/\">Marine and Buoy Reports </a></li>\n",
       "<li><a href=\"http://www.nohrsc.noaa.gov/interactive/html/map.html\">Snow Cover </a></li>\n",
       "<li><a href=\" http://www.weather.gov/satellite\">Satellite </a></li>\n",
       "<li><a href=\" http://www.swpc.noaa.gov/\">Space Weather </a></li>\n",
       "<li><a href=\"http://www.weather.gov/pr\">International Observations</a></li>\n",
       "</ul>\n",
       "</div>\n",
       "</div>\n",
       "<div class=\"sitemap-section\">\n",
       "<div class=\"panel-heading\">\n",
       "<a class=\"sitemap-section-heading\" href=\"http://weather.gov/forecastmaps\">FORECAST</a>\n",
       "<button class=\"menu-toggle pull-right\" data-target=\"#sitemap-4\" data-toggle=\"collapse\" type=\"button\">\n",
       "<span class=\"sr-only\">Toggle menu</span>\n",
       "<span class=\"icon-bar\"></span>\n",
       "<span class=\"icon-bar\"></span>\n",
       "<span class=\"icon-bar\"></span>\n",
       "</button>\n",
       "</div>\n",
       "<div class=\"sitemap-section-body panel-body collapsable collapse\" id=\"sitemap-4\">\n",
       "<ul class=\"list-unstyled\">\n",
       "<li><a href=\" http://www.weather.gov/\">Local Forecast </a></li>\n",
       "<li><a href=\"http://www.weather.gov/pr\">International Forecasts</a></li>\n",
       "<li><a href=\" http://www.spc.noaa.gov/\">Severe Weather </a></li>\n",
       "<li><a href=\" http://www.wpc.ncep.noaa.gov/\">Current Outlook Maps </a></li>\n",
       "<li><a href=\"http://www.cpc.ncep.noaa.gov/products/Drought\">Drought </a></li>\n",
       "<li><a href=\"http://www.weather.gov/fire\">Fire Weather </a></li>\n",
       "<li><a href=\" http://www.wpc.ncep.noaa.gov/\">Fronts/Precipitation Maps </a></li>\n",
       "<li><a href=\" http://www.nws.noaa.gov/forecasts/graphical/\">Current Graphical Forecast Maps </a></li>\n",
       "<li><a href=\"http://water.weather.gov/ahps/forecasts.php\">Rivers </a></li>\n",
       "<li><a href=\"https://www.weather.gov/marine/\">Marine </a></li>\n",
       "<li><a href=\"https://ocean.weather.gov/marine_areas.php\">Offshore and High Seas</a></li>\n",
       "<li><a href=\" http://www.nhc.noaa.gov/\">Hurricanes </a></li>\n",
       "<li><a href=\" http://aviationweather.gov\">Aviation Weather </a></li>\n",
       "<li><a href=\"http://www.cpc.ncep.noaa.gov/products/OUTLOOKS_index.shtml\">Climatic Outlook </a></li>\n",
       "</ul>\n",
       "</div>\n",
       "</div>\n",
       "<div class=\"sitemap-section\">\n",
       "<div class=\"panel-heading\">\n",
       "<a class=\"sitemap-section-heading\" href=\"http://www.weather.gov/informationcenter\">INFORMATION CENTER</a>\n",
       "<button class=\"menu-toggle pull-right\" data-target=\"#sitemap-5\" data-toggle=\"collapse\" type=\"button\">\n",
       "<span class=\"sr-only\">Toggle menu</span>\n",
       "<span class=\"icon-bar\"></span>\n",
       "<span class=\"icon-bar\"></span>\n",
       "<span class=\"icon-bar\"></span>\n",
       "</button>\n",
       "</div>\n",
       "<div class=\"sitemap-section-body panel-body collapsable collapse\" id=\"sitemap-5\">\n",
       "<ul class=\"list-unstyled\">\n",
       "<li><a href=\" http://www.spaceweather.gov\">Space Weather </a></li>\n",
       "<li><a href=\"http://www.weather.gov/briefing/\">Daily Briefing </a></li>\n",
       "<li><a href=\" http://www.nws.noaa.gov/om/marine/home.htm\">Marine </a></li>\n",
       "<li><a href=\"https://www.weather.gov/wrh/climate\">Climate </a></li>\n",
       "<li><a href=\"http://www.weather.gov/fire\">Fire Weather </a></li>\n",
       "<li><a href=\" http://www.aviationweather.gov/\">Aviation </a></li>\n",
       "<li><a href=\"http://mag.ncep.noaa.gov/\">Forecast Models </a></li>\n",
       "<li><a href=\"http://water.weather.gov/ahps/\">Water </a></li>\n",
       "<li><a href=\"https://www.weather.gov/gis/\">GIS</a></li>\n",
       "<li><a href=\" http://www.nws.noaa.gov/om/coop/\">Cooperative Observers </a></li>\n",
       "<li><a href=\"https://www.weather.gov/skywarn/\">Storm Spotters </a></li>\n",
       "<li><a href=\"http://www.tsunami.gov\">Tsunami Warning System</a></li>\n",
       "<li><a href=\"http://water.noaa.gov/\">National Water Center</a></li>\n",
       "<li><a href=\"http://www.weather.gov/pr\">International Weather</a></li>\n",
       "</ul>\n",
       "</div>\n",
       "</div>\n",
       "<div class=\"sitemap-section\">\n",
       "<div class=\"panel-heading\">\n",
       "<a class=\"sitemap-section-heading\" href=\"http://weather.gov/safety\">WEATHER SAFETY</a>\n",
       "<button class=\"menu-toggle pull-right\" data-target=\"#sitemap-6\" data-toggle=\"collapse\" type=\"button\">\n",
       "<span class=\"sr-only\">Toggle menu</span>\n",
       "<span class=\"icon-bar\"></span>\n",
       "<span class=\"icon-bar\"></span>\n",
       "<span class=\"icon-bar\"></span>\n",
       "</button>\n",
       "</div>\n",
       "<div class=\"sitemap-section-body panel-body collapsable collapse\" id=\"sitemap-6\">\n",
       "<ul class=\"list-unstyled\">\n",
       "<li><a href=\"http://www.weather.gov/nwr/\">NOAA Weather Radio</a></li>\n",
       "<li><a href=\"http://www.weather.gov/stormready/\">StormReady</a></li>\n",
       "<li><a href=\"http://www.nws.noaa.gov/om/heat/index.shtml\">Heat </a></li>\n",
       "<li><a href=\"https://www.weather.gov/safety/lightning\">Lightning </a></li>\n",
       "<li><a href=\" http://www.nhc.noaa.gov/prepare/\">Hurricanes </a></li>\n",
       "<li><a href=\"http://www.nws.noaa.gov/om/thunderstorm/\">Thunderstorms </a></li>\n",
       "<li><a href=\"https://www.weather.gov/safety/tornado\">Tornadoes </a></li>\n",
       "<li><a href=\"https://www.weather.gov/safety/ripcurrent\">Rip Currents </a></li>\n",
       "<li><a href=\"https://www.weather.gov/safety/flood\">Floods </a></li>\n",
       "<li><a href=\"https://www.weather.gov/safety/tsunami\">Tsunamis</a></li>\n",
       "<li><a href=\"https://www.weather.gov/tsunamiready/\">TsunamiReady</a></li>\n",
       "<li><a href=\" http://www.weather.gov/om/winter/index.shtml\">Winter Weather </a></li>\n",
       "<li><a href=\"http://www.nws.noaa.gov/om/heat/uv.shtml\">Ultra Violet Radiation </a></li>\n",
       "<li><a href=\" http://www.weather.gov/airquality/\">Air Quality </a></li>\n",
       "<li><a href=\" http://www.weather.gov/om/hazstats.shtml\">Damage/Fatality/Injury Statistics </a></li>\n",
       "<li><a href=\" http://www.redcross.org/\">Red Cross </a></li>\n",
       "<li><a href=\" http://www.fema.gov/\">Federal Emergency Management Agency (FEMA) </a></li>\n",
       "<li><a href=\" http://www.weather.gov/om/brochures.shtml\">Brochures </a></li>\n",
       "<li><a href=\"http://www.nws.noaa.gov/os/marine/safeboating/\">Safe Boating</a></li>\n",
       "</ul>\n",
       "</div>\n",
       "</div>\n",
       "<div class=\"sitemap-section\">\n",
       "<div class=\"panel-heading\">\n",
       "<a class=\"sitemap-section-heading\" href=\"http://weather.gov/news\">NEWS</a>\n",
       "<button class=\"menu-toggle pull-right\" data-target=\"#sitemap-7\" data-toggle=\"collapse\" type=\"button\">\n",
       "<span class=\"sr-only\">Toggle menu</span>\n",
       "<span class=\"icon-bar\"></span>\n",
       "<span class=\"icon-bar\"></span>\n",
       "<span class=\"icon-bar\"></span>\n",
       "</button>\n",
       "</div>\n",
       "<div class=\"sitemap-section-body panel-body collapsable collapse\" id=\"sitemap-7\">\n",
       "<ul class=\"list-unstyled\">\n",
       "<li><a href=\" http://weather.gov/news\">Newsroom</a></li>\n",
       "<li><a href=\"http://www.nws.noaa.gov/com/weatherreadynation/calendar.html\">Events</a></li>\n",
       "<li><a href=\" http://www.weather.gov/om/brochures.shtml\">Pubs/Brochures/Booklets </a></li>\n",
       "</ul>\n",
       "</div>\n",
       "</div>\n",
       "<div class=\"sitemap-section\">\n",
       "<div class=\"panel-heading\">\n",
       "<a class=\"sitemap-section-heading\" href=\"http://weather.gov/owlie\">EDUCATION</a>\n",
       "<button class=\"menu-toggle pull-right\" data-target=\"#sitemap-8\" data-toggle=\"collapse\" type=\"button\">\n",
       "<span class=\"sr-only\">Toggle menu</span>\n",
       "<span class=\"icon-bar\"></span>\n",
       "<span class=\"icon-bar\"></span>\n",
       "<span class=\"icon-bar\"></span>\n",
       "</button>\n",
       "</div>\n",
       "<div class=\"sitemap-section-body panel-body collapsable collapse\" id=\"sitemap-8\">\n",
       "<ul class=\"list-unstyled\">\n",
       "<li><a href=\"http://weather.gov/education\">NWS Education Home</a></li>\n",
       "<li><a href=\"http://www.nws.noaa.gov/com/weatherreadynation/force.html\">Be A Force of Nature</a></li>\n",
       "<li><a href=\" http://www.education.noaa.gov/Weather_and_Atmosphere/\">NOAA Education Resources </a></li>\n",
       "<li><a href=\" http://www.weather.gov/glossary/\">Glossary </a></li>\n",
       "<li><a href=\"https://www.weather.gov/jetstream/\">JetStream </a></li>\n",
       "<li><a href=\" http://www.weather.gov/training/\">NWS Training Portal </a></li>\n",
       "<li><a href=\"https://library.noaa.gov/\">NOAA Library </a></li>\n",
       "<li><a href=\"http://weather.gov/owlie\">For Students, Parents and Teachers</a></li>\n",
       "<li><a href=\"http://www.weather.gov/owlie/publication_brochures\">Brochures </a></li>\n",
       "</ul>\n",
       "</div>\n",
       "</div>\n",
       "<div class=\"sitemap-section\">\n",
       "<div class=\"panel-heading\">\n",
       "<a class=\"sitemap-section-heading\" href=\"http://weather.gov/about\">ABOUT</a>\n",
       "<button class=\"menu-toggle pull-right\" data-target=\"#sitemap-9\" data-toggle=\"collapse\" type=\"button\">\n",
       "<span class=\"sr-only\">Toggle menu</span>\n",
       "<span class=\"icon-bar\"></span>\n",
       "<span class=\"icon-bar\"></span>\n",
       "<span class=\"icon-bar\"></span>\n",
       "</button>\n",
       "</div>\n",
       "<div class=\"sitemap-section-body panel-body collapsable collapse\" id=\"sitemap-9\">\n",
       "<ul class=\"list-unstyled\">\n",
       "<li><a href=\"http://weather.gov/organization\">Organization </a></li>\n",
       "<li><a href=\"https://www.noaa.gov/NWStransformation\">NWS Transformation</a></li>\n",
       "<li><a href=\"https://www.weather.gov/media/wrn/NWS-2023-Strategic-Plan.pdf\">Strategic Plan </a></li>\n",
       "<li><a href=\"https:/weather.gov/insider\">For NWS Employees </a></li>\n",
       "<li><a href=\"https://www.weather.gov/international/\">International </a></li>\n",
       "<li><a href=\"http://www.weather.gov/ncep\">National Centers </a></li>\n",
       "<li><a href=\" http://www.weather.gov/tg/\">Products and Services </a></li>\n",
       "<li><a href=\"http://www.weather.gov/careers/\">Careers</a></li>\n",
       "<li><a href=\" http://www.weather.gov/glossary/\">Glossary </a></li>\n",
       "<li><a href=\"http://weather.gov/contact\">Contact Us </a></li>\n",
       "<li><a href=\"https://weather.gov/socialmedia\">Social Media</a></li>\n",
       "</ul>\n",
       "</div>\n",
       "</div>\n",
       "</div>\n",
       "</div>\n",
       "</div>\n",
       "<!-- legal footer area -->\n",
       "<div class=\"footer-legal\">\n",
       "<div class=\"col-xs-12 col-sm-2 col-md-2\" id=\"footerLogo\">\n",
       "<a href=\"//www.usa.gov\"><img alt=\"usa.gov\" height=\"30\" src=\"/css/images/usa_gov.png\" width=\"110\"/></a>\n",
       "</div>\n",
       "<div class=\"col-xs-12 col-sm-4 col-md-4\">\n",
       "<ul class=\"list-unstyled footer-legal-content\">\n",
       "<li><a href=\"//www.commerce.gov\">US Dept of Commerce</a></li>\n",
       "<li><a href=\"//www.noaa.gov\">National Oceanic and Atmospheric Administration</a></li>\n",
       "<li><a href=\"//www.weather.gov\">National Weather Service</a></li>\n",
       "<li><a href=\"https://www.weather.gov/mtr\">San Francisco Bay Area, CA</a></li><li><br><a href=\"mailto:w-mtr.webmaster@noaa.gov\">Comments? Questions? Please Contact Us.</a></br></li> </ul>\n",
       "</div>\n",
       "<div class=\"col-xs-12 col-sm-3 col-md-3\">\n",
       "<ul class=\"list-unstyled\">\n",
       "<li><a href=\"https://www.weather.gov/disclaimer\">Disclaimer</a></li>\n",
       "<li><a href=\"//www.cio.noaa.gov/services_programs/info_quality.html\">Information Quality</a></li>\n",
       "<li><a href=\"https://www.weather.gov/help\">Help</a></li>\n",
       "<li><a href=\"//www.weather.gov/glossary\">Glossary</a></li>\n",
       "</ul>\n",
       "</div>\n",
       "<div class=\"col-xs-12 col-sm-3 col-md-3\">\n",
       "<ul class=\"list-unstyled\">\n",
       "<li><a href=\"https://www.weather.gov/privacy\">Privacy Policy</a></li>\n",
       "<li><a href=\"https://www.noaa.gov/foia-freedom-of-information-act\">Freedom of Information Act (FOIA)</a></li>\n",
       "<li><a href=\"https://www.weather.gov/about\">About Us</a></li>\n",
       "<li><a href=\"https://www.weather.gov/careers\">Career Opportunities</a></li>\n",
       "</ul>\n",
       "</div>\n",
       "</div>\n",
       "</footer>\n",
       "</main>\n",
       "</body>\n",
       "</html>"
      ]
     },
     "execution_count": 5,
     "metadata": {},
     "output_type": "execute_result"
    }
   ],
   "source": [
    "#creating an object to store the page source in proper html format\n",
    "soup = BeautifulSoup(page.content,\"html.parser\")\n",
    "soup"
   ]
  },
  {
   "cell_type": "code",
   "execution_count": 6,
   "id": "6b8d1bcb",
   "metadata": {
    "collapsed": true
   },
   "outputs": [
    {
     "name": "stdout",
     "output_type": "stream",
     "text": [
      "<div class=\"panel panel-default\" id=\"seven-day-forecast\">\n",
      "<div class=\"panel-heading\">\n",
      "<b>Extended Forecast for</b>\n",
      "<h2 class=\"panel-title\">\n",
      "                San Francisco CA    </h2>\n",
      "</div>\n",
      "<div class=\"panel-body\" id=\"seven-day-forecast-body\">\n",
      "<div id=\"seven-day-forecast-container\"><ul class=\"list-unstyled\" id=\"seven-day-forecast-list\"><li class=\"forecast-tombstone\">\n",
      "<div class=\"tombstone-container\">\n",
      "<p class=\"period-name\">Tonight<br/><br/></p>\n",
      "<p><img alt=\"Tonight: Rain likely.  Patchy fog after 1am.  Otherwise, mostly cloudy, with a low around 51. South wind 6 to 9 mph becoming west after midnight.  Chance of precipitation is 60%. New precipitation amounts of less than a tenth of an inch possible. \" class=\"forecast-icon\" src=\"newimages/medium/nra60.png\" title=\"Tonight: Rain likely.  Patchy fog after 1am.  Otherwise, mostly cloudy, with a low around 51. South wind 6 to 9 mph becoming west after midnight.  Chance of precipitation is 60%. New precipitation amounts of less than a tenth of an inch possible. \"/></p><p class=\"short-desc\">Rain Likely<br/>and Patchy<br/>Fog</p><p class=\"temp temp-low\">Low: 51 °F</p></div></li><li class=\"forecast-tombstone\">\n",
      "<div class=\"tombstone-container\">\n",
      "<p class=\"period-name\">Wednesday<br/><br/></p>\n",
      "<p><img alt=\"Wednesday: Patchy fog before 11am.  Otherwise, partly sunny, with a high near 59. West wind 6 to 9 mph. \" class=\"forecast-icon\" src=\"DualImage.php?i=fg&amp;j=sct\" title=\"Wednesday: Patchy fog before 11am.  Otherwise, partly sunny, with a high near 59. West wind 6 to 9 mph. \"/></p><p class=\"short-desc\">Patchy Fog<br/>then Mostly<br/>Sunny</p><p class=\"temp temp-high\">High: 59 °F</p></div></li><li class=\"forecast-tombstone\">\n",
      "<div class=\"tombstone-container\">\n",
      "<p class=\"period-name\">Wednesday<br/>Night</p>\n",
      "<p><img alt=\"Wednesday Night: Patchy fog after 11pm.  Otherwise, mostly cloudy, with a low around 48. West wind 5 to 7 mph becoming calm  in the evening. \" class=\"forecast-icon\" src=\"newimages/medium/nfg.png\" title=\"Wednesday Night: Patchy fog after 11pm.  Otherwise, mostly cloudy, with a low around 48. West wind 5 to 7 mph becoming calm  in the evening. \"/></p><p class=\"short-desc\">Patchy Fog</p><p class=\"temp temp-low\">Low: 48 °F</p></div></li><li class=\"forecast-tombstone\">\n",
      "<div class=\"tombstone-container\">\n",
      "<p class=\"period-name\">Thursday<br/><br/></p>\n",
      "<p><img alt=\"Thursday: Areas of fog before 10am.  Otherwise, mostly cloudy, with a high near 60. East wind 3 to 5 mph. \" class=\"forecast-icon\" src=\"DualImage.php?i=fg&amp;j=bkn\" title=\"Thursday: Areas of fog before 10am.  Otherwise, mostly cloudy, with a high near 60. East wind 3 to 5 mph. \"/></p><p class=\"short-desc\">Areas Fog<br/>then Mostly<br/>Cloudy</p><p class=\"temp temp-high\">High: 60 °F</p></div></li><li class=\"forecast-tombstone\">\n",
      "<div class=\"tombstone-container\">\n",
      "<p class=\"period-name\">Thursday<br/>Night</p>\n",
      "<p><img alt=\"Thursday Night: A 10 percent chance of rain after 4am.  Patchy fog after 4am.  Otherwise, mostly cloudy, with a low around 51. Calm wind becoming east around 5 mph after midnight. \" class=\"forecast-icon\" src=\"DualImage.php?i=nbkn&amp;j=nra&amp;jp=10\" title=\"Thursday Night: A 10 percent chance of rain after 4am.  Patchy fog after 4am.  Otherwise, mostly cloudy, with a low around 51. Calm wind becoming east around 5 mph after midnight. \"/></p><p class=\"short-desc\">Mostly Cloudy<br/>then Slight<br/>Chance Rain<br/>and Patchy<br/>Fog</p><p class=\"temp temp-low\">Low: 51 °F</p></div></li><li class=\"forecast-tombstone\">\n",
      "<div class=\"tombstone-container\">\n",
      "<p class=\"period-name\">Friday<br/><br/></p>\n",
      "<p><img alt=\"Friday: Rain, mainly after 10am.  Patchy fog before 8am. High near 60. Chance of precipitation is 80%. New precipitation amounts between a quarter and half of an inch possible. \" class=\"forecast-icon\" src=\"newimages/medium/ra80.png\" title=\"Friday: Rain, mainly after 10am.  Patchy fog before 8am. High near 60. Chance of precipitation is 80%. New precipitation amounts between a quarter and half of an inch possible. \"/></p><p class=\"short-desc\">Rain and<br/>Patchy Fog</p><p class=\"temp temp-high\">High: 60 °F</p></div></li><li class=\"forecast-tombstone\">\n",
      "<div class=\"tombstone-container\">\n",
      "<p class=\"period-name\">Friday<br/>Night</p>\n",
      "<p><img alt=\"Friday Night: Showers and possibly a thunderstorm, mainly before 4am, then a chance of rain and thunderstorms after 4am.  Low around 53. Chance of precipitation is 90%.\" class=\"forecast-icon\" src=\"newimages/medium/nshra90.png\" title=\"Friday Night: Showers and possibly a thunderstorm, mainly before 4am, then a chance of rain and thunderstorms after 4am.  Low around 53. Chance of precipitation is 90%.\"/></p><p class=\"short-desc\">Showers</p><p class=\"temp temp-low\">Low: 53 °F</p></div></li><li class=\"forecast-tombstone\">\n",
      "<div class=\"tombstone-container\">\n",
      "<p class=\"period-name\">Saturday<br/><br/></p>\n",
      "<p><img alt=\"Saturday: Rain, mainly after 10am.  Mostly cloudy, with a high near 60.\" class=\"forecast-icon\" src=\"newimages/medium/ra.png\" title=\"Saturday: Rain, mainly after 10am.  Mostly cloudy, with a high near 60.\"/></p><p class=\"short-desc\">Rain</p><p class=\"temp temp-high\">High: 60 °F</p></div></li><li class=\"forecast-tombstone\">\n",
      "<div class=\"tombstone-container\">\n",
      "<p class=\"period-name\">Saturday<br/>Night</p>\n",
      "<p><img alt=\"Saturday Night: Rain.  Cloudy, with a low around 53.\" class=\"forecast-icon\" src=\"newimages/medium/nra.png\" title=\"Saturday Night: Rain.  Cloudy, with a low around 53.\"/></p><p class=\"short-desc\">Rain</p><p class=\"temp temp-low\">Low: 53 °F</p></div></li></ul></div>\n",
      "<script type=\"text/javascript\">\n",
      "// equalize forecast heights\n",
      "$(function () {\n",
      "    var maxh = 0;\n",
      "    $(\".forecast-tombstone .short-desc\").each(function () {\n",
      "        var h = $(this).height();\n",
      "        if (h > maxh) { maxh = h; }\n",
      "    });\n",
      "    $(\".forecast-tombstone .short-desc\").height(maxh);\n",
      "});\n",
      "</script> </div>\n",
      "</div>\n"
     ]
    }
   ],
   "source": [
    "#storing page source belonging to a particular id tag to the page\n",
    "seven_day = soup.find(id = \"seven-day-forecast\")\n",
    "print(seven_day)"
   ]
  },
  {
   "cell_type": "code",
   "execution_count": 7,
   "id": "b4d883cd",
   "metadata": {
    "collapsed": true
   },
   "outputs": [
    {
     "name": "stdout",
     "output_type": "stream",
     "text": [
      "[<div class=\"tombstone-container\">\n",
      "<p class=\"period-name\">Tonight<br/><br/></p>\n",
      "<p><img alt=\"Tonight: Rain likely.  Patchy fog after 1am.  Otherwise, mostly cloudy, with a low around 51. South wind 6 to 9 mph becoming west after midnight.  Chance of precipitation is 60%. New precipitation amounts of less than a tenth of an inch possible. \" class=\"forecast-icon\" src=\"newimages/medium/nra60.png\" title=\"Tonight: Rain likely.  Patchy fog after 1am.  Otherwise, mostly cloudy, with a low around 51. South wind 6 to 9 mph becoming west after midnight.  Chance of precipitation is 60%. New precipitation amounts of less than a tenth of an inch possible. \"/></p><p class=\"short-desc\">Rain Likely<br/>and Patchy<br/>Fog</p><p class=\"temp temp-low\">Low: 51 °F</p></div>, <div class=\"tombstone-container\">\n",
      "<p class=\"period-name\">Wednesday<br/><br/></p>\n",
      "<p><img alt=\"Wednesday: Patchy fog before 11am.  Otherwise, partly sunny, with a high near 59. West wind 6 to 9 mph. \" class=\"forecast-icon\" src=\"DualImage.php?i=fg&amp;j=sct\" title=\"Wednesday: Patchy fog before 11am.  Otherwise, partly sunny, with a high near 59. West wind 6 to 9 mph. \"/></p><p class=\"short-desc\">Patchy Fog<br/>then Mostly<br/>Sunny</p><p class=\"temp temp-high\">High: 59 °F</p></div>, <div class=\"tombstone-container\">\n",
      "<p class=\"period-name\">Wednesday<br/>Night</p>\n",
      "<p><img alt=\"Wednesday Night: Patchy fog after 11pm.  Otherwise, mostly cloudy, with a low around 48. West wind 5 to 7 mph becoming calm  in the evening. \" class=\"forecast-icon\" src=\"newimages/medium/nfg.png\" title=\"Wednesday Night: Patchy fog after 11pm.  Otherwise, mostly cloudy, with a low around 48. West wind 5 to 7 mph becoming calm  in the evening. \"/></p><p class=\"short-desc\">Patchy Fog</p><p class=\"temp temp-low\">Low: 48 °F</p></div>, <div class=\"tombstone-container\">\n",
      "<p class=\"period-name\">Thursday<br/><br/></p>\n",
      "<p><img alt=\"Thursday: Areas of fog before 10am.  Otherwise, mostly cloudy, with a high near 60. East wind 3 to 5 mph. \" class=\"forecast-icon\" src=\"DualImage.php?i=fg&amp;j=bkn\" title=\"Thursday: Areas of fog before 10am.  Otherwise, mostly cloudy, with a high near 60. East wind 3 to 5 mph. \"/></p><p class=\"short-desc\">Areas Fog<br/>then Mostly<br/>Cloudy</p><p class=\"temp temp-high\">High: 60 °F</p></div>, <div class=\"tombstone-container\">\n",
      "<p class=\"period-name\">Thursday<br/>Night</p>\n",
      "<p><img alt=\"Thursday Night: A 10 percent chance of rain after 4am.  Patchy fog after 4am.  Otherwise, mostly cloudy, with a low around 51. Calm wind becoming east around 5 mph after midnight. \" class=\"forecast-icon\" src=\"DualImage.php?i=nbkn&amp;j=nra&amp;jp=10\" title=\"Thursday Night: A 10 percent chance of rain after 4am.  Patchy fog after 4am.  Otherwise, mostly cloudy, with a low around 51. Calm wind becoming east around 5 mph after midnight. \"/></p><p class=\"short-desc\">Mostly Cloudy<br/>then Slight<br/>Chance Rain<br/>and Patchy<br/>Fog</p><p class=\"temp temp-low\">Low: 51 °F</p></div>, <div class=\"tombstone-container\">\n",
      "<p class=\"period-name\">Friday<br/><br/></p>\n",
      "<p><img alt=\"Friday: Rain, mainly after 10am.  Patchy fog before 8am. High near 60. Chance of precipitation is 80%. New precipitation amounts between a quarter and half of an inch possible. \" class=\"forecast-icon\" src=\"newimages/medium/ra80.png\" title=\"Friday: Rain, mainly after 10am.  Patchy fog before 8am. High near 60. Chance of precipitation is 80%. New precipitation amounts between a quarter and half of an inch possible. \"/></p><p class=\"short-desc\">Rain and<br/>Patchy Fog</p><p class=\"temp temp-high\">High: 60 °F</p></div>, <div class=\"tombstone-container\">\n",
      "<p class=\"period-name\">Friday<br/>Night</p>\n",
      "<p><img alt=\"Friday Night: Showers and possibly a thunderstorm, mainly before 4am, then a chance of rain and thunderstorms after 4am.  Low around 53. Chance of precipitation is 90%.\" class=\"forecast-icon\" src=\"newimages/medium/nshra90.png\" title=\"Friday Night: Showers and possibly a thunderstorm, mainly before 4am, then a chance of rain and thunderstorms after 4am.  Low around 53. Chance of precipitation is 90%.\"/></p><p class=\"short-desc\">Showers</p><p class=\"temp temp-low\">Low: 53 °F</p></div>, <div class=\"tombstone-container\">\n",
      "<p class=\"period-name\">Saturday<br/><br/></p>\n",
      "<p><img alt=\"Saturday: Rain, mainly after 10am.  Mostly cloudy, with a high near 60.\" class=\"forecast-icon\" src=\"newimages/medium/ra.png\" title=\"Saturday: Rain, mainly after 10am.  Mostly cloudy, with a high near 60.\"/></p><p class=\"short-desc\">Rain</p><p class=\"temp temp-high\">High: 60 °F</p></div>, <div class=\"tombstone-container\">\n",
      "<p class=\"period-name\">Saturday<br/>Night</p>\n",
      "<p><img alt=\"Saturday Night: Rain.  Cloudy, with a low around 53.\" class=\"forecast-icon\" src=\"newimages/medium/nra.png\" title=\"Saturday Night: Rain.  Cloudy, with a low around 53.\"/></p><p class=\"short-desc\">Rain</p><p class=\"temp temp-low\">Low: 53 °F</p></div>]\n"
     ]
    }
   ],
   "source": [
    "#finding all instance of a particular class tag within the id and storing it to object\n",
    "forecast_items = seven_day.find_all(class_=\"tombstone-container\")\n",
    "print(forecast_items)"
   ]
  },
  {
   "cell_type": "code",
   "execution_count": 8,
   "id": "afa52d16",
   "metadata": {
    "collapsed": true
   },
   "outputs": [
    {
     "name": "stdout",
     "output_type": "stream",
     "text": [
      "<div class=\"tombstone-container\">\n",
      " <p class=\"period-name\">\n",
      "  Tonight\n",
      "  <br/>\n",
      "  <br/>\n",
      " </p>\n",
      " <p>\n",
      "  <img alt=\"Tonight: Rain likely.  Patchy fog after 1am.  Otherwise, mostly cloudy, with a low around 51. South wind 6 to 9 mph becoming west after midnight.  Chance of precipitation is 60%. New precipitation amounts of less than a tenth of an inch possible. \" class=\"forecast-icon\" src=\"newimages/medium/nra60.png\" title=\"Tonight: Rain likely.  Patchy fog after 1am.  Otherwise, mostly cloudy, with a low around 51. South wind 6 to 9 mph becoming west after midnight.  Chance of precipitation is 60%. New precipitation amounts of less than a tenth of an inch possible. \"/>\n",
      " </p>\n",
      " <p class=\"short-desc\">\n",
      "  Rain Likely\n",
      "  <br/>\n",
      "  and Patchy\n",
      "  <br/>\n",
      "  Fog\n",
      " </p>\n",
      " <p class=\"temp temp-low\">\n",
      "  Low: 51 °F\n",
      " </p>\n",
      "</div>\n",
      "\n"
     ]
    }
   ],
   "source": [
    "tonight = forecast_items[0]\n",
    "print(tonight.prettify())"
   ]
  },
  {
   "cell_type": "code",
   "execution_count": 14,
   "id": "3d4079fb",
   "metadata": {
    "collapsed": true
   },
   "outputs": [
    {
     "name": "stdout",
     "output_type": "stream",
     "text": [
      "None\n",
      "Rain Likelyand PatchyFog\n",
      "Low: 51 °F\n",
      "\n",
      "\n",
      "Extended Forecast for\n",
      "\n",
      "                San Francisco CA    \n",
      "\n",
      "\n",
      "\n",
      "\n",
      "Tonight\n",
      "Rain Likelyand PatchyFogLow: 51 °F\n",
      "\n",
      "Wednesday\n",
      "Patchy Fogthen MostlySunnyHigh: 59 °F\n",
      "\n",
      "WednesdayNight\n",
      "Patchy FogLow: 48 °F\n",
      "\n",
      "Thursday\n",
      "Areas Fogthen MostlyCloudyHigh: 60 °F\n",
      "\n",
      "ThursdayNight\n",
      "Mostly Cloudythen SlightChance Rainand PatchyFogLow: 51 °F\n",
      "\n",
      "Friday\n",
      "Rain andPatchy FogHigh: 60 °F\n",
      "\n",
      "FridayNight\n",
      "ShowersLow: 53 °F\n",
      "\n",
      "Saturday\n",
      "RainHigh: 60 °F\n",
      "\n",
      "SaturdayNight\n",
      "RainLow: 53 °F\n",
      " \n",
      "\n"
     ]
    }
   ],
   "source": [
    "#extracting the values of subtags\n",
    "peroid = tonight.find(class_= \"peroid-name\")\n",
    "short_desc = tonight.find(class_= \"short-desc\").get_text()\n",
    "temp = tonight.find(class_= \"temp temp-low\").get_text()\n",
    "print(peroid)\n",
    "print(short_desc)\n",
    "print(temp)\n",
    "if seven_day is not None: #used to solve the issue of .get_text() for peroid\n",
    "    peroid = seven_day.get_text()\n",
    "    print(peroid)\n",
    "else:\n",
    "    print(\"Title tag not found on the webpage.\")"
   ]
  },
  {
   "cell_type": "code",
   "execution_count": 23,
   "id": "6e64fa9c",
   "metadata": {
    "collapsed": true
   },
   "outputs": [
    {
     "name": "stdout",
     "output_type": "stream",
     "text": [
      "<img alt=\"Tonight: Rain likely.  Patchy fog after 1am.  Otherwise, mostly cloudy, with a low around 51. South wind 6 to 9 mph becoming west after midnight.  Chance of precipitation is 60%. New precipitation amounts of less than a tenth of an inch possible. \" class=\"forecast-icon\" src=\"newimages/medium/nra60.png\" title=\"Tonight: Rain likely.  Patchy fog after 1am.  Otherwise, mostly cloudy, with a low around 51. South wind 6 to 9 mph becoming west after midnight.  Chance of precipitation is 60%. New precipitation amounts of less than a tenth of an inch possible. \"/>\n",
      "Image Source : newimages/medium/nra60.png\n"
     ]
    }
   ],
   "source": [
    "#extracting the title part of the img\n",
    "img = tonight.find(\"img\")\n",
    "print(img)\n",
    "#checking if 'img' tag is found\n",
    "if img:\n",
    "    print(f\"Image Source : {img['src']}\")\n",
    "else:\n",
    "    print(\"Image tag is not found\")"
   ]
  },
  {
   "cell_type": "code",
   "execution_count": 24,
   "id": "1776e77f",
   "metadata": {},
   "outputs": [
    {
     "name": "stdout",
     "output_type": "stream",
     "text": [
      "Tonight: Rain likely.  Patchy fog after 1am.  Otherwise, mostly cloudy, with a low around 51. South wind 6 to 9 mph becoming west after midnight.  Chance of precipitation is 60%. New precipitation amounts of less than a tenth of an inch possible. \n"
     ]
    }
   ],
   "source": [
    "desc = img['title']\n",
    "\n",
    "print(desc)"
   ]
  },
  {
   "cell_type": "code",
   "execution_count": 25,
   "id": "e0d26463",
   "metadata": {
    "collapsed": true
   },
   "outputs": [
    {
     "name": "stdout",
     "output_type": "stream",
     "text": [
      "[<p class=\"period-name\">Tonight<br/><br/></p>, <p class=\"period-name\">Wednesday<br/><br/></p>, <p class=\"period-name\">Wednesday<br/>Night</p>, <p class=\"period-name\">Thursday<br/><br/></p>, <p class=\"period-name\">Thursday<br/>Night</p>, <p class=\"period-name\">Friday<br/><br/></p>, <p class=\"period-name\">Friday<br/>Night</p>, <p class=\"period-name\">Saturday<br/><br/></p>, <p class=\"period-name\">Saturday<br/>Night</p>]\n"
     ]
    }
   ],
   "source": [
    "#extracting all values for the period tag from the entire object\n",
    "period_tags = seven_day.select(\".tombstone-container .period-name\")\n",
    "\n",
    "print(period_tags)"
   ]
  },
  {
   "cell_type": "code",
   "execution_count": 26,
   "id": "5a1dd90f",
   "metadata": {},
   "outputs": [
    {
     "name": "stdout",
     "output_type": "stream",
     "text": [
      "['Tonight', 'Wednesday', 'WednesdayNight', 'Thursday', 'ThursdayNight', 'Friday', 'FridayNight', 'Saturday', 'SaturdayNight']\n"
     ]
    }
   ],
   "source": [
    "periods = [pt.get_text() for pt in period_tags]\n",
    "print(periods)"
   ]
  },
  {
   "cell_type": "code",
   "execution_count": 27,
   "id": "169c93ff",
   "metadata": {
    "collapsed": true
   },
   "outputs": [
    {
     "name": "stdout",
     "output_type": "stream",
     "text": [
      "['Rain Likelyand PatchyFog', 'Patchy Fogthen MostlySunny', 'Patchy Fog', 'Areas Fogthen MostlyCloudy', 'Mostly Cloudythen SlightChance Rainand PatchyFog', 'Rain andPatchy Fog', 'Showers', 'Rain', 'Rain']\n",
      "\n",
      "['Low: 51 °F', 'High: 59 °F', 'Low: 48 °F', 'High: 60 °F', 'Low: 51 °F', 'High: 60 °F', 'Low: 53 °F', 'High: 60 °F', 'Low: 53 °F']\n",
      "\n",
      "['Tonight: Rain likely.  Patchy fog after 1am.  Otherwise, mostly cloudy, with a low around 51. South wind 6 to 9 mph becoming west after midnight.  Chance of precipitation is 60%. New precipitation amounts of less than a tenth of an inch possible. ', 'Wednesday: Patchy fog before 11am.  Otherwise, partly sunny, with a high near 59. West wind 6 to 9 mph. ', 'Wednesday Night: Patchy fog after 11pm.  Otherwise, mostly cloudy, with a low around 48. West wind 5 to 7 mph becoming calm  in the evening. ', 'Thursday: Areas of fog before 10am.  Otherwise, mostly cloudy, with a high near 60. East wind 3 to 5 mph. ', 'Thursday Night: A 10 percent chance of rain after 4am.  Patchy fog after 4am.  Otherwise, mostly cloudy, with a low around 51. Calm wind becoming east around 5 mph after midnight. ', 'Friday: Rain, mainly after 10am.  Patchy fog before 8am. High near 60. Chance of precipitation is 80%. New precipitation amounts between a quarter and half of an inch possible. ', 'Friday Night: Showers and possibly a thunderstorm, mainly before 4am, then a chance of rain and thunderstorms after 4am.  Low around 53. Chance of precipitation is 90%.', 'Saturday: Rain, mainly after 10am.  Mostly cloudy, with a high near 60.', 'Saturday Night: Rain.  Cloudy, with a low around 53.']\n",
      "\n",
      "['Tonight', 'Wednesday', 'WednesdayNight', 'Thursday', 'ThursdayNight', 'Friday', 'FridayNight', 'Saturday', 'SaturdayNight']\n"
     ]
    }
   ],
   "source": [
    "#similarly extracting the other tags also from the entire object\n",
    "short_descs = [sd.get_text() for sd in seven_day.select(\".tombstone-container .short-desc\")]\n",
    "temps = [t.get_text() for t in seven_day.select(\".tombstone-container .temp\")]\n",
    "descs = [d[\"title\"] for d in seven_day.select(\".tombstone-container img\")]\n",
    "periods = [pt.get_text() for pt in period_tags]\n",
    "print(short_descs)\n",
    "print()\n",
    "print(temps)\n",
    "print()\n",
    "print(descs)\n",
    "print()\n",
    "print(periods)\n"
   ]
  },
  {
   "cell_type": "code",
   "execution_count": 28,
   "id": "0733db57",
   "metadata": {
    "collapsed": true
   },
   "outputs": [
    {
     "data": {
      "text/html": [
       "<div>\n",
       "<style scoped>\n",
       "    .dataframe tbody tr th:only-of-type {\n",
       "        vertical-align: middle;\n",
       "    }\n",
       "\n",
       "    .dataframe tbody tr th {\n",
       "        vertical-align: top;\n",
       "    }\n",
       "\n",
       "    .dataframe thead th {\n",
       "        text-align: right;\n",
       "    }\n",
       "</style>\n",
       "<table border=\"1\" class=\"dataframe\">\n",
       "  <thead>\n",
       "    <tr style=\"text-align: right;\">\n",
       "      <th></th>\n",
       "      <th>period</th>\n",
       "      <th>short_desc</th>\n",
       "      <th>temp</th>\n",
       "      <th>desc</th>\n",
       "    </tr>\n",
       "  </thead>\n",
       "  <tbody>\n",
       "    <tr>\n",
       "      <th>0</th>\n",
       "      <td>Tonight</td>\n",
       "      <td>Rain Likelyand PatchyFog</td>\n",
       "      <td>Low: 51 °F</td>\n",
       "      <td>Tonight: Rain likely.  Patchy fog after 1am.  ...</td>\n",
       "    </tr>\n",
       "    <tr>\n",
       "      <th>1</th>\n",
       "      <td>Wednesday</td>\n",
       "      <td>Patchy Fogthen MostlySunny</td>\n",
       "      <td>High: 59 °F</td>\n",
       "      <td>Wednesday: Patchy fog before 11am.  Otherwise,...</td>\n",
       "    </tr>\n",
       "    <tr>\n",
       "      <th>2</th>\n",
       "      <td>WednesdayNight</td>\n",
       "      <td>Patchy Fog</td>\n",
       "      <td>Low: 48 °F</td>\n",
       "      <td>Wednesday Night: Patchy fog after 11pm.  Other...</td>\n",
       "    </tr>\n",
       "    <tr>\n",
       "      <th>3</th>\n",
       "      <td>Thursday</td>\n",
       "      <td>Areas Fogthen MostlyCloudy</td>\n",
       "      <td>High: 60 °F</td>\n",
       "      <td>Thursday: Areas of fog before 10am.  Otherwise...</td>\n",
       "    </tr>\n",
       "    <tr>\n",
       "      <th>4</th>\n",
       "      <td>ThursdayNight</td>\n",
       "      <td>Mostly Cloudythen SlightChance Rainand PatchyFog</td>\n",
       "      <td>Low: 51 °F</td>\n",
       "      <td>Thursday Night: A 10 percent chance of rain af...</td>\n",
       "    </tr>\n",
       "    <tr>\n",
       "      <th>5</th>\n",
       "      <td>Friday</td>\n",
       "      <td>Rain andPatchy Fog</td>\n",
       "      <td>High: 60 °F</td>\n",
       "      <td>Friday: Rain, mainly after 10am.  Patchy fog b...</td>\n",
       "    </tr>\n",
       "    <tr>\n",
       "      <th>6</th>\n",
       "      <td>FridayNight</td>\n",
       "      <td>Showers</td>\n",
       "      <td>Low: 53 °F</td>\n",
       "      <td>Friday Night: Showers and possibly a thunderst...</td>\n",
       "    </tr>\n",
       "    <tr>\n",
       "      <th>7</th>\n",
       "      <td>Saturday</td>\n",
       "      <td>Rain</td>\n",
       "      <td>High: 60 °F</td>\n",
       "      <td>Saturday: Rain, mainly after 10am.  Mostly clo...</td>\n",
       "    </tr>\n",
       "    <tr>\n",
       "      <th>8</th>\n",
       "      <td>SaturdayNight</td>\n",
       "      <td>Rain</td>\n",
       "      <td>Low: 53 °F</td>\n",
       "      <td>Saturday Night: Rain.  Cloudy, with a low arou...</td>\n",
       "    </tr>\n",
       "  </tbody>\n",
       "</table>\n",
       "</div>"
      ],
      "text/plain": [
       "           period                                        short_desc  \\\n",
       "0         Tonight                          Rain Likelyand PatchyFog   \n",
       "1       Wednesday                        Patchy Fogthen MostlySunny   \n",
       "2  WednesdayNight                                        Patchy Fog   \n",
       "3        Thursday                        Areas Fogthen MostlyCloudy   \n",
       "4   ThursdayNight  Mostly Cloudythen SlightChance Rainand PatchyFog   \n",
       "5          Friday                                Rain andPatchy Fog   \n",
       "6     FridayNight                                           Showers   \n",
       "7        Saturday                                              Rain   \n",
       "8   SaturdayNight                                              Rain   \n",
       "\n",
       "          temp                                               desc  \n",
       "0   Low: 51 °F  Tonight: Rain likely.  Patchy fog after 1am.  ...  \n",
       "1  High: 59 °F  Wednesday: Patchy fog before 11am.  Otherwise,...  \n",
       "2   Low: 48 °F  Wednesday Night: Patchy fog after 11pm.  Other...  \n",
       "3  High: 60 °F  Thursday: Areas of fog before 10am.  Otherwise...  \n",
       "4   Low: 51 °F  Thursday Night: A 10 percent chance of rain af...  \n",
       "5  High: 60 °F  Friday: Rain, mainly after 10am.  Patchy fog b...  \n",
       "6   Low: 53 °F  Friday Night: Showers and possibly a thunderst...  \n",
       "7  High: 60 °F  Saturday: Rain, mainly after 10am.  Mostly clo...  \n",
       "8   Low: 53 °F  Saturday Night: Rain.  Cloudy, with a low arou...  "
      ]
     },
     "execution_count": 28,
     "metadata": {},
     "output_type": "execute_result"
    }
   ],
   "source": [
    "#combining all tags and creating a dataframe out of it\n",
    "import pandas as pd\n",
    "weather = pd.DataFrame({\n",
    "        \"period\": periods,\n",
    "         \"short_desc\": short_descs,\n",
    "         \"temp\": temps,\n",
    "         \"desc\":descs\n",
    "    })\n",
    "weather"
   ]
  },
  {
   "cell_type": "code",
   "execution_count": 29,
   "id": "d10a4b8e",
   "metadata": {
    "collapsed": true
   },
   "outputs": [
    {
     "data": {
      "text/html": [
       "<div>\n",
       "<style scoped>\n",
       "    .dataframe tbody tr th:only-of-type {\n",
       "        vertical-align: middle;\n",
       "    }\n",
       "\n",
       "    .dataframe tbody tr th {\n",
       "        vertical-align: top;\n",
       "    }\n",
       "\n",
       "    .dataframe thead th {\n",
       "        text-align: right;\n",
       "    }\n",
       "</style>\n",
       "<table border=\"1\" class=\"dataframe\">\n",
       "  <thead>\n",
       "    <tr style=\"text-align: right;\">\n",
       "      <th></th>\n",
       "      <th>0</th>\n",
       "      <th>1</th>\n",
       "    </tr>\n",
       "  </thead>\n",
       "  <tbody>\n",
       "    <tr>\n",
       "      <th>0</th>\n",
       "      <td>Tonight</td>\n",
       "      <td>Rain likely.  Patchy fog after 1am.  Otherwise...</td>\n",
       "    </tr>\n",
       "    <tr>\n",
       "      <th>1</th>\n",
       "      <td>Wednesday</td>\n",
       "      <td>Patchy fog before 11am.  Otherwise, partly sun...</td>\n",
       "    </tr>\n",
       "    <tr>\n",
       "      <th>2</th>\n",
       "      <td>Wednesday Night</td>\n",
       "      <td>Patchy fog after 11pm.  Otherwise, mostly clou...</td>\n",
       "    </tr>\n",
       "    <tr>\n",
       "      <th>3</th>\n",
       "      <td>Thursday</td>\n",
       "      <td>Areas of fog before 10am.  Otherwise, mostly c...</td>\n",
       "    </tr>\n",
       "    <tr>\n",
       "      <th>4</th>\n",
       "      <td>Thursday Night</td>\n",
       "      <td>A 10 percent chance of rain after 4am.  Patchy...</td>\n",
       "    </tr>\n",
       "    <tr>\n",
       "      <th>5</th>\n",
       "      <td>Friday</td>\n",
       "      <td>Rain, mainly after 10am.  Patchy fog before 8a...</td>\n",
       "    </tr>\n",
       "    <tr>\n",
       "      <th>6</th>\n",
       "      <td>Friday Night</td>\n",
       "      <td>Showers and possibly a thunderstorm, mainly be...</td>\n",
       "    </tr>\n",
       "    <tr>\n",
       "      <th>7</th>\n",
       "      <td>Saturday</td>\n",
       "      <td>Rain, mainly after 10am.  Mostly cloudy, with ...</td>\n",
       "    </tr>\n",
       "    <tr>\n",
       "      <th>8</th>\n",
       "      <td>Saturday Night</td>\n",
       "      <td>Rain.  Cloudy, with a low around 53.</td>\n",
       "    </tr>\n",
       "  </tbody>\n",
       "</table>\n",
       "</div>"
      ],
      "text/plain": [
       "                 0                                                  1\n",
       "0          Tonight  Rain likely.  Patchy fog after 1am.  Otherwise...\n",
       "1        Wednesday  Patchy fog before 11am.  Otherwise, partly sun...\n",
       "2  Wednesday Night  Patchy fog after 11pm.  Otherwise, mostly clou...\n",
       "3         Thursday  Areas of fog before 10am.  Otherwise, mostly c...\n",
       "4   Thursday Night  A 10 percent chance of rain after 4am.  Patchy...\n",
       "5           Friday  Rain, mainly after 10am.  Patchy fog before 8a...\n",
       "6     Friday Night  Showers and possibly a thunderstorm, mainly be...\n",
       "7         Saturday  Rain, mainly after 10am.  Mostly cloudy, with ...\n",
       "8   Saturday Night               Rain.  Cloudy, with a low around 53."
      ]
     },
     "execution_count": 29,
     "metadata": {},
     "output_type": "execute_result"
    }
   ],
   "source": [
    "#desc has the text that contains the value of period also\n",
    "#trying to split the desc string such that the period part is removed\n",
    "new = weather[\"desc\"].str.split(\": \", n = 1, expand = True) \n",
    "new"
   ]
  },
  {
   "cell_type": "code",
   "execution_count": 30,
   "id": "493d7889",
   "metadata": {},
   "outputs": [],
   "source": [
    "#fetching the other part and replacing the desc variable \n",
    "weather[\"desc\"]=new[1]"
   ]
  },
  {
   "cell_type": "code",
   "execution_count": 31,
   "id": "9a2b7a73",
   "metadata": {},
   "outputs": [
    {
     "data": {
      "text/html": [
       "<div>\n",
       "<style scoped>\n",
       "    .dataframe tbody tr th:only-of-type {\n",
       "        vertical-align: middle;\n",
       "    }\n",
       "\n",
       "    .dataframe tbody tr th {\n",
       "        vertical-align: top;\n",
       "    }\n",
       "\n",
       "    .dataframe thead th {\n",
       "        text-align: right;\n",
       "    }\n",
       "</style>\n",
       "<table border=\"1\" class=\"dataframe\">\n",
       "  <thead>\n",
       "    <tr style=\"text-align: right;\">\n",
       "      <th></th>\n",
       "      <th>period</th>\n",
       "      <th>short_desc</th>\n",
       "      <th>temp</th>\n",
       "      <th>desc</th>\n",
       "    </tr>\n",
       "  </thead>\n",
       "  <tbody>\n",
       "    <tr>\n",
       "      <th>0</th>\n",
       "      <td>Tonight</td>\n",
       "      <td>Rain Likelyand PatchyFog</td>\n",
       "      <td>Low: 51 °F</td>\n",
       "      <td>Rain likely.  Patchy fog after 1am.  Otherwise...</td>\n",
       "    </tr>\n",
       "    <tr>\n",
       "      <th>1</th>\n",
       "      <td>Wednesday</td>\n",
       "      <td>Patchy Fogthen MostlySunny</td>\n",
       "      <td>High: 59 °F</td>\n",
       "      <td>Patchy fog before 11am.  Otherwise, partly sun...</td>\n",
       "    </tr>\n",
       "    <tr>\n",
       "      <th>2</th>\n",
       "      <td>WednesdayNight</td>\n",
       "      <td>Patchy Fog</td>\n",
       "      <td>Low: 48 °F</td>\n",
       "      <td>Patchy fog after 11pm.  Otherwise, mostly clou...</td>\n",
       "    </tr>\n",
       "    <tr>\n",
       "      <th>3</th>\n",
       "      <td>Thursday</td>\n",
       "      <td>Areas Fogthen MostlyCloudy</td>\n",
       "      <td>High: 60 °F</td>\n",
       "      <td>Areas of fog before 10am.  Otherwise, mostly c...</td>\n",
       "    </tr>\n",
       "    <tr>\n",
       "      <th>4</th>\n",
       "      <td>ThursdayNight</td>\n",
       "      <td>Mostly Cloudythen SlightChance Rainand PatchyFog</td>\n",
       "      <td>Low: 51 °F</td>\n",
       "      <td>A 10 percent chance of rain after 4am.  Patchy...</td>\n",
       "    </tr>\n",
       "    <tr>\n",
       "      <th>5</th>\n",
       "      <td>Friday</td>\n",
       "      <td>Rain andPatchy Fog</td>\n",
       "      <td>High: 60 °F</td>\n",
       "      <td>Rain, mainly after 10am.  Patchy fog before 8a...</td>\n",
       "    </tr>\n",
       "    <tr>\n",
       "      <th>6</th>\n",
       "      <td>FridayNight</td>\n",
       "      <td>Showers</td>\n",
       "      <td>Low: 53 °F</td>\n",
       "      <td>Showers and possibly a thunderstorm, mainly be...</td>\n",
       "    </tr>\n",
       "    <tr>\n",
       "      <th>7</th>\n",
       "      <td>Saturday</td>\n",
       "      <td>Rain</td>\n",
       "      <td>High: 60 °F</td>\n",
       "      <td>Rain, mainly after 10am.  Mostly cloudy, with ...</td>\n",
       "    </tr>\n",
       "    <tr>\n",
       "      <th>8</th>\n",
       "      <td>SaturdayNight</td>\n",
       "      <td>Rain</td>\n",
       "      <td>Low: 53 °F</td>\n",
       "      <td>Rain.  Cloudy, with a low around 53.</td>\n",
       "    </tr>\n",
       "  </tbody>\n",
       "</table>\n",
       "</div>"
      ],
      "text/plain": [
       "           period                                        short_desc  \\\n",
       "0         Tonight                          Rain Likelyand PatchyFog   \n",
       "1       Wednesday                        Patchy Fogthen MostlySunny   \n",
       "2  WednesdayNight                                        Patchy Fog   \n",
       "3        Thursday                        Areas Fogthen MostlyCloudy   \n",
       "4   ThursdayNight  Mostly Cloudythen SlightChance Rainand PatchyFog   \n",
       "5          Friday                                Rain andPatchy Fog   \n",
       "6     FridayNight                                           Showers   \n",
       "7        Saturday                                              Rain   \n",
       "8   SaturdayNight                                              Rain   \n",
       "\n",
       "          temp                                               desc  \n",
       "0   Low: 51 °F  Rain likely.  Patchy fog after 1am.  Otherwise...  \n",
       "1  High: 59 °F  Patchy fog before 11am.  Otherwise, partly sun...  \n",
       "2   Low: 48 °F  Patchy fog after 11pm.  Otherwise, mostly clou...  \n",
       "3  High: 60 °F  Areas of fog before 10am.  Otherwise, mostly c...  \n",
       "4   Low: 51 °F  A 10 percent chance of rain after 4am.  Patchy...  \n",
       "5  High: 60 °F  Rain, mainly after 10am.  Patchy fog before 8a...  \n",
       "6   Low: 53 °F  Showers and possibly a thunderstorm, mainly be...  \n",
       "7  High: 60 °F  Rain, mainly after 10am.  Mostly cloudy, with ...  \n",
       "8   Low: 53 °F               Rain.  Cloudy, with a low around 53.  "
      ]
     },
     "execution_count": 31,
     "metadata": {},
     "output_type": "execute_result"
    }
   ],
   "source": [
    "#update dataframe\n",
    "weather"
   ]
  }
 ],
 "metadata": {
  "kernelspec": {
   "display_name": "Python 3 (ipykernel)",
   "language": "python",
   "name": "python3"
  },
  "language_info": {
   "codemirror_mode": {
    "name": "ipython",
    "version": 3
   },
   "file_extension": ".py",
   "mimetype": "text/x-python",
   "name": "python",
   "nbconvert_exporter": "python",
   "pygments_lexer": "ipython3",
   "version": "3.11.5"
  }
 },
 "nbformat": 4,
 "nbformat_minor": 5
}
